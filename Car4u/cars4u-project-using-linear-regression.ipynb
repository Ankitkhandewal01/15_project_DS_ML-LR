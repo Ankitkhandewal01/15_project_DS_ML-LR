{
 "cells": [
  {
   "cell_type": "markdown",
   "metadata": {},
   "source": [
    "# Key Questions:\n",
    "- Does the various factors in the dataset really affect the pricing?\n",
    "- What are the key/main variables affecting the pricing for Pre-Owned cars?\n",
    "- What factors have no influence in the Pricing? \n",
    "- What are the key recommendations in improving business profits?\n",
    "\n",
    "# Assumptions:\n",
    "\n",
    "- The Used Cars data is a random sample from the population data"
   ]
  },
  {
   "cell_type": "markdown",
   "metadata": {},
   "source": [
    "### Import libraries"
   ]
  },
  {
   "cell_type": "code",
   "execution_count": 1,
   "metadata": {
    "execution": {
     "iopub.execute_input": "2021-07-10T19:58:46.143426Z",
     "iopub.status.busy": "2021-07-10T19:58:46.143Z",
     "iopub.status.idle": "2021-07-10T19:58:46.151607Z",
     "shell.execute_reply": "2021-07-10T19:58:46.150925Z",
     "shell.execute_reply.started": "2021-07-10T19:58:46.143393Z"
    }
   },
   "outputs": [],
   "source": [
    "#Import the necessary libraries.\n",
    "import warnings\n",
    "warnings.filterwarnings(\"ignore\")\n",
    "%matplotlib inline\n",
    "import numpy as np\n",
    "import pandas as pd\n",
    "from matplotlib import pyplot as plt\n",
    "import seaborn as sns\n",
    "#from sklearn.model_selection import train_test_split\n",
    "#from sklearn.linear_model import LinearRegression"
   ]
  },
  {
   "cell_type": "markdown",
   "metadata": {},
   "source": [
    "### Load the data to read and explore "
   ]
  },
  {
   "cell_type": "code",
   "execution_count": 2,
   "metadata": {
    "execution": {
     "iopub.execute_input": "2021-07-10T19:58:46.159862Z",
     "iopub.status.busy": "2021-07-10T19:58:46.159491Z",
     "iopub.status.idle": "2021-07-10T19:58:46.20956Z",
     "shell.execute_reply": "2021-07-10T19:58:46.208677Z",
     "shell.execute_reply.started": "2021-07-10T19:58:46.159832Z"
    }
   },
   "outputs": [
    {
     "data": {
      "text/html": [
       "<div>\n",
       "<style scoped>\n",
       "    .dataframe tbody tr th:only-of-type {\n",
       "        vertical-align: middle;\n",
       "    }\n",
       "\n",
       "    .dataframe tbody tr th {\n",
       "        vertical-align: top;\n",
       "    }\n",
       "\n",
       "    .dataframe thead th {\n",
       "        text-align: right;\n",
       "    }\n",
       "</style>\n",
       "<table border=\"1\" class=\"dataframe\">\n",
       "  <thead>\n",
       "    <tr style=\"text-align: right;\">\n",
       "      <th></th>\n",
       "      <th>S.No.</th>\n",
       "      <th>Name</th>\n",
       "      <th>Location</th>\n",
       "      <th>Year</th>\n",
       "      <th>Kilometers_Driven</th>\n",
       "      <th>Fuel_Type</th>\n",
       "      <th>Transmission</th>\n",
       "      <th>Owner_Type</th>\n",
       "      <th>Mileage</th>\n",
       "      <th>Engine</th>\n",
       "      <th>Power</th>\n",
       "      <th>Seats</th>\n",
       "      <th>New_Price</th>\n",
       "      <th>Price</th>\n",
       "    </tr>\n",
       "  </thead>\n",
       "  <tbody>\n",
       "    <tr>\n",
       "      <th>0</th>\n",
       "      <td>0</td>\n",
       "      <td>Maruti Wagon R LXI CNG</td>\n",
       "      <td>Mumbai</td>\n",
       "      <td>2010</td>\n",
       "      <td>72000</td>\n",
       "      <td>CNG</td>\n",
       "      <td>Manual</td>\n",
       "      <td>First</td>\n",
       "      <td>26.6 km/kg</td>\n",
       "      <td>998 CC</td>\n",
       "      <td>58.16 bhp</td>\n",
       "      <td>5.0</td>\n",
       "      <td>NaN</td>\n",
       "      <td>1.75</td>\n",
       "    </tr>\n",
       "    <tr>\n",
       "      <th>1</th>\n",
       "      <td>1</td>\n",
       "      <td>Hyundai Creta 1.6 CRDi SX Option</td>\n",
       "      <td>Pune</td>\n",
       "      <td>2015</td>\n",
       "      <td>41000</td>\n",
       "      <td>Diesel</td>\n",
       "      <td>Manual</td>\n",
       "      <td>First</td>\n",
       "      <td>19.67 kmpl</td>\n",
       "      <td>1582 CC</td>\n",
       "      <td>126.2 bhp</td>\n",
       "      <td>5.0</td>\n",
       "      <td>NaN</td>\n",
       "      <td>12.50</td>\n",
       "    </tr>\n",
       "    <tr>\n",
       "      <th>2</th>\n",
       "      <td>2</td>\n",
       "      <td>Honda Jazz V</td>\n",
       "      <td>Chennai</td>\n",
       "      <td>2011</td>\n",
       "      <td>46000</td>\n",
       "      <td>Petrol</td>\n",
       "      <td>Manual</td>\n",
       "      <td>First</td>\n",
       "      <td>18.2 kmpl</td>\n",
       "      <td>1199 CC</td>\n",
       "      <td>88.7 bhp</td>\n",
       "      <td>5.0</td>\n",
       "      <td>8.61 Lakh</td>\n",
       "      <td>4.50</td>\n",
       "    </tr>\n",
       "    <tr>\n",
       "      <th>3</th>\n",
       "      <td>3</td>\n",
       "      <td>Maruti Ertiga VDI</td>\n",
       "      <td>Chennai</td>\n",
       "      <td>2012</td>\n",
       "      <td>87000</td>\n",
       "      <td>Diesel</td>\n",
       "      <td>Manual</td>\n",
       "      <td>First</td>\n",
       "      <td>20.77 kmpl</td>\n",
       "      <td>1248 CC</td>\n",
       "      <td>88.76 bhp</td>\n",
       "      <td>7.0</td>\n",
       "      <td>NaN</td>\n",
       "      <td>6.00</td>\n",
       "    </tr>\n",
       "    <tr>\n",
       "      <th>4</th>\n",
       "      <td>4</td>\n",
       "      <td>Audi A4 New 2.0 TDI Multitronic</td>\n",
       "      <td>Coimbatore</td>\n",
       "      <td>2013</td>\n",
       "      <td>40670</td>\n",
       "      <td>Diesel</td>\n",
       "      <td>Automatic</td>\n",
       "      <td>Second</td>\n",
       "      <td>15.2 kmpl</td>\n",
       "      <td>1968 CC</td>\n",
       "      <td>140.8 bhp</td>\n",
       "      <td>5.0</td>\n",
       "      <td>NaN</td>\n",
       "      <td>17.74</td>\n",
       "    </tr>\n",
       "  </tbody>\n",
       "</table>\n",
       "</div>"
      ],
      "text/plain": [
       "   S.No.                              Name    Location  Year  \\\n",
       "0      0            Maruti Wagon R LXI CNG      Mumbai  2010   \n",
       "1      1  Hyundai Creta 1.6 CRDi SX Option        Pune  2015   \n",
       "2      2                      Honda Jazz V     Chennai  2011   \n",
       "3      3                 Maruti Ertiga VDI     Chennai  2012   \n",
       "4      4   Audi A4 New 2.0 TDI Multitronic  Coimbatore  2013   \n",
       "\n",
       "   Kilometers_Driven Fuel_Type Transmission Owner_Type     Mileage   Engine  \\\n",
       "0              72000       CNG       Manual      First  26.6 km/kg   998 CC   \n",
       "1              41000    Diesel       Manual      First  19.67 kmpl  1582 CC   \n",
       "2              46000    Petrol       Manual      First   18.2 kmpl  1199 CC   \n",
       "3              87000    Diesel       Manual      First  20.77 kmpl  1248 CC   \n",
       "4              40670    Diesel    Automatic     Second   15.2 kmpl  1968 CC   \n",
       "\n",
       "       Power  Seats  New_Price  Price  \n",
       "0  58.16 bhp    5.0        NaN   1.75  \n",
       "1  126.2 bhp    5.0        NaN  12.50  \n",
       "2   88.7 bhp    5.0  8.61 Lakh   4.50  \n",
       "3  88.76 bhp    7.0        NaN   6.00  \n",
       "4  140.8 bhp    5.0        NaN  17.74  "
      ]
     },
     "execution_count": 2,
     "metadata": {},
     "output_type": "execute_result"
    }
   ],
   "source": [
    "data = 'used_cars_data.csv'\n",
    "data1 = pd.read_csv(data) #load and read the csv file as a dataframe\n",
    "df = data1.copy() #making a copy to avoid changes to the data\n",
    "df.head()  # load the first five rows in the dataset"
   ]
  },
  {
   "cell_type": "code",
   "execution_count": 3,
   "metadata": {
    "execution": {
     "iopub.execute_input": "2021-07-10T19:58:46.21118Z",
     "iopub.status.busy": "2021-07-10T19:58:46.2109Z",
     "iopub.status.idle": "2021-07-10T19:58:46.230365Z",
     "shell.execute_reply": "2021-07-10T19:58:46.229508Z",
     "shell.execute_reply.started": "2021-07-10T19:58:46.211152Z"
    }
   },
   "outputs": [
    {
     "data": {
      "text/html": [
       "<div>\n",
       "<style scoped>\n",
       "    .dataframe tbody tr th:only-of-type {\n",
       "        vertical-align: middle;\n",
       "    }\n",
       "\n",
       "    .dataframe tbody tr th {\n",
       "        vertical-align: top;\n",
       "    }\n",
       "\n",
       "    .dataframe thead th {\n",
       "        text-align: right;\n",
       "    }\n",
       "</style>\n",
       "<table border=\"1\" class=\"dataframe\">\n",
       "  <thead>\n",
       "    <tr style=\"text-align: right;\">\n",
       "      <th></th>\n",
       "      <th>S.No.</th>\n",
       "      <th>Name</th>\n",
       "      <th>Location</th>\n",
       "      <th>Year</th>\n",
       "      <th>Kilometers_Driven</th>\n",
       "      <th>Fuel_Type</th>\n",
       "      <th>Transmission</th>\n",
       "      <th>Owner_Type</th>\n",
       "      <th>Mileage</th>\n",
       "      <th>Engine</th>\n",
       "      <th>Power</th>\n",
       "      <th>Seats</th>\n",
       "      <th>New_Price</th>\n",
       "      <th>Price</th>\n",
       "    </tr>\n",
       "  </thead>\n",
       "  <tbody>\n",
       "    <tr>\n",
       "      <th>7248</th>\n",
       "      <td>7248</td>\n",
       "      <td>Volkswagen Vento Diesel Trendline</td>\n",
       "      <td>Hyderabad</td>\n",
       "      <td>2011</td>\n",
       "      <td>89411</td>\n",
       "      <td>Diesel</td>\n",
       "      <td>Manual</td>\n",
       "      <td>First</td>\n",
       "      <td>20.54 kmpl</td>\n",
       "      <td>1598 CC</td>\n",
       "      <td>103.6 bhp</td>\n",
       "      <td>5.0</td>\n",
       "      <td>NaN</td>\n",
       "      <td>NaN</td>\n",
       "    </tr>\n",
       "    <tr>\n",
       "      <th>7249</th>\n",
       "      <td>7249</td>\n",
       "      <td>Volkswagen Polo GT TSI</td>\n",
       "      <td>Mumbai</td>\n",
       "      <td>2015</td>\n",
       "      <td>59000</td>\n",
       "      <td>Petrol</td>\n",
       "      <td>Automatic</td>\n",
       "      <td>First</td>\n",
       "      <td>17.21 kmpl</td>\n",
       "      <td>1197 CC</td>\n",
       "      <td>103.6 bhp</td>\n",
       "      <td>5.0</td>\n",
       "      <td>NaN</td>\n",
       "      <td>NaN</td>\n",
       "    </tr>\n",
       "    <tr>\n",
       "      <th>7250</th>\n",
       "      <td>7250</td>\n",
       "      <td>Nissan Micra Diesel XV</td>\n",
       "      <td>Kolkata</td>\n",
       "      <td>2012</td>\n",
       "      <td>28000</td>\n",
       "      <td>Diesel</td>\n",
       "      <td>Manual</td>\n",
       "      <td>First</td>\n",
       "      <td>23.08 kmpl</td>\n",
       "      <td>1461 CC</td>\n",
       "      <td>63.1 bhp</td>\n",
       "      <td>5.0</td>\n",
       "      <td>NaN</td>\n",
       "      <td>NaN</td>\n",
       "    </tr>\n",
       "    <tr>\n",
       "      <th>7251</th>\n",
       "      <td>7251</td>\n",
       "      <td>Volkswagen Polo GT TSI</td>\n",
       "      <td>Pune</td>\n",
       "      <td>2013</td>\n",
       "      <td>52262</td>\n",
       "      <td>Petrol</td>\n",
       "      <td>Automatic</td>\n",
       "      <td>Third</td>\n",
       "      <td>17.2 kmpl</td>\n",
       "      <td>1197 CC</td>\n",
       "      <td>103.6 bhp</td>\n",
       "      <td>5.0</td>\n",
       "      <td>NaN</td>\n",
       "      <td>NaN</td>\n",
       "    </tr>\n",
       "    <tr>\n",
       "      <th>7252</th>\n",
       "      <td>7252</td>\n",
       "      <td>Mercedes-Benz E-Class 2009-2013 E 220 CDI Avan...</td>\n",
       "      <td>Kochi</td>\n",
       "      <td>2014</td>\n",
       "      <td>72443</td>\n",
       "      <td>Diesel</td>\n",
       "      <td>Automatic</td>\n",
       "      <td>First</td>\n",
       "      <td>10.0 kmpl</td>\n",
       "      <td>2148 CC</td>\n",
       "      <td>170 bhp</td>\n",
       "      <td>5.0</td>\n",
       "      <td>NaN</td>\n",
       "      <td>NaN</td>\n",
       "    </tr>\n",
       "  </tbody>\n",
       "</table>\n",
       "</div>"
      ],
      "text/plain": [
       "      S.No.                                               Name   Location  \\\n",
       "7248   7248                  Volkswagen Vento Diesel Trendline  Hyderabad   \n",
       "7249   7249                             Volkswagen Polo GT TSI     Mumbai   \n",
       "7250   7250                             Nissan Micra Diesel XV    Kolkata   \n",
       "7251   7251                             Volkswagen Polo GT TSI       Pune   \n",
       "7252   7252  Mercedes-Benz E-Class 2009-2013 E 220 CDI Avan...      Kochi   \n",
       "\n",
       "      Year  Kilometers_Driven Fuel_Type Transmission Owner_Type     Mileage  \\\n",
       "7248  2011              89411    Diesel       Manual      First  20.54 kmpl   \n",
       "7249  2015              59000    Petrol    Automatic      First  17.21 kmpl   \n",
       "7250  2012              28000    Diesel       Manual      First  23.08 kmpl   \n",
       "7251  2013              52262    Petrol    Automatic      Third   17.2 kmpl   \n",
       "7252  2014              72443    Diesel    Automatic      First   10.0 kmpl   \n",
       "\n",
       "       Engine      Power  Seats New_Price  Price  \n",
       "7248  1598 CC  103.6 bhp    5.0       NaN    NaN  \n",
       "7249  1197 CC  103.6 bhp    5.0       NaN    NaN  \n",
       "7250  1461 CC   63.1 bhp    5.0       NaN    NaN  \n",
       "7251  1197 CC  103.6 bhp    5.0       NaN    NaN  \n",
       "7252  2148 CC    170 bhp    5.0       NaN    NaN  "
      ]
     },
     "execution_count": 3,
     "metadata": {},
     "output_type": "execute_result"
    }
   ],
   "source": [
    "df.tail() #load the last five rows"
   ]
  },
  {
   "cell_type": "code",
   "execution_count": 4,
   "metadata": {
    "execution": {
     "iopub.execute_input": "2021-07-10T19:58:46.232474Z",
     "iopub.status.busy": "2021-07-10T19:58:46.232138Z",
     "iopub.status.idle": "2021-07-10T19:58:46.242374Z",
     "shell.execute_reply": "2021-07-10T19:58:46.241398Z",
     "shell.execute_reply.started": "2021-07-10T19:58:46.232446Z"
    }
   },
   "outputs": [
    {
     "name": "stdout",
     "output_type": "stream",
     "text": [
      "There are 7253 rows and 14 columns in this dataset.\n"
     ]
    }
   ],
   "source": [
    "print(f'There are {df.shape[0]} rows and {df.shape[1]} columns in this dataset.')  # f-string to get the shape of dataset"
   ]
  },
  {
   "cell_type": "code",
   "execution_count": 5,
   "metadata": {
    "execution": {
     "iopub.execute_input": "2021-07-10T19:58:46.244941Z",
     "iopub.status.busy": "2021-07-10T19:58:46.244214Z",
     "iopub.status.idle": "2021-07-10T19:58:46.276502Z",
     "shell.execute_reply": "2021-07-10T19:58:46.27545Z",
     "shell.execute_reply.started": "2021-07-10T19:58:46.244897Z"
    }
   },
   "outputs": [
    {
     "data": {
      "text/html": [
       "<div>\n",
       "<style scoped>\n",
       "    .dataframe tbody tr th:only-of-type {\n",
       "        vertical-align: middle;\n",
       "    }\n",
       "\n",
       "    .dataframe tbody tr th {\n",
       "        vertical-align: top;\n",
       "    }\n",
       "\n",
       "    .dataframe thead th {\n",
       "        text-align: right;\n",
       "    }\n",
       "</style>\n",
       "<table border=\"1\" class=\"dataframe\">\n",
       "  <thead>\n",
       "    <tr style=\"text-align: right;\">\n",
       "      <th></th>\n",
       "      <th>S.No.</th>\n",
       "      <th>Name</th>\n",
       "      <th>Location</th>\n",
       "      <th>Year</th>\n",
       "      <th>Kilometers_Driven</th>\n",
       "      <th>Fuel_Type</th>\n",
       "      <th>Transmission</th>\n",
       "      <th>Owner_Type</th>\n",
       "      <th>Mileage</th>\n",
       "      <th>Engine</th>\n",
       "      <th>Power</th>\n",
       "      <th>Seats</th>\n",
       "      <th>New_Price</th>\n",
       "      <th>Price</th>\n",
       "    </tr>\n",
       "  </thead>\n",
       "  <tbody>\n",
       "    <tr>\n",
       "      <th>5441</th>\n",
       "      <td>5441</td>\n",
       "      <td>Ford Endeavour 3.2 Titanium AT 4X4</td>\n",
       "      <td>Coimbatore</td>\n",
       "      <td>2017</td>\n",
       "      <td>54650</td>\n",
       "      <td>Diesel</td>\n",
       "      <td>Automatic</td>\n",
       "      <td>First</td>\n",
       "      <td>10.91 kmpl</td>\n",
       "      <td>3198 CC</td>\n",
       "      <td>197 bhp</td>\n",
       "      <td>7.0</td>\n",
       "      <td>NaN</td>\n",
       "      <td>30.35</td>\n",
       "    </tr>\n",
       "    <tr>\n",
       "      <th>691</th>\n",
       "      <td>691</td>\n",
       "      <td>Hyundai EON Era Plus</td>\n",
       "      <td>Kochi</td>\n",
       "      <td>2016</td>\n",
       "      <td>36700</td>\n",
       "      <td>Petrol</td>\n",
       "      <td>Manual</td>\n",
       "      <td>First</td>\n",
       "      <td>21.1 kmpl</td>\n",
       "      <td>814 CC</td>\n",
       "      <td>55.2 bhp</td>\n",
       "      <td>5.0</td>\n",
       "      <td>NaN</td>\n",
       "      <td>4.38</td>\n",
       "    </tr>\n",
       "    <tr>\n",
       "      <th>6394</th>\n",
       "      <td>6394</td>\n",
       "      <td>Maruti Eeco 5 Seater AC</td>\n",
       "      <td>Delhi</td>\n",
       "      <td>2014</td>\n",
       "      <td>51200</td>\n",
       "      <td>Petrol</td>\n",
       "      <td>Manual</td>\n",
       "      <td>First</td>\n",
       "      <td>15.1 kmpl</td>\n",
       "      <td>1196 CC</td>\n",
       "      <td>73 bhp</td>\n",
       "      <td>5.0</td>\n",
       "      <td>4.56 Lakh</td>\n",
       "      <td>NaN</td>\n",
       "    </tr>\n",
       "    <tr>\n",
       "      <th>2130</th>\n",
       "      <td>2130</td>\n",
       "      <td>Hyundai Santro GLS I - Euro II</td>\n",
       "      <td>Coimbatore</td>\n",
       "      <td>2012</td>\n",
       "      <td>51019</td>\n",
       "      <td>Petrol</td>\n",
       "      <td>Manual</td>\n",
       "      <td>First</td>\n",
       "      <td>0.0 kmpl</td>\n",
       "      <td>999 CC</td>\n",
       "      <td>null bhp</td>\n",
       "      <td>5.0</td>\n",
       "      <td>NaN</td>\n",
       "      <td>3.48</td>\n",
       "    </tr>\n",
       "    <tr>\n",
       "      <th>3047</th>\n",
       "      <td>3047</td>\n",
       "      <td>Volkswagen Polo Diesel Comfortline 1.2L</td>\n",
       "      <td>Kolkata</td>\n",
       "      <td>2012</td>\n",
       "      <td>45000</td>\n",
       "      <td>Diesel</td>\n",
       "      <td>Manual</td>\n",
       "      <td>First</td>\n",
       "      <td>22.07 kmpl</td>\n",
       "      <td>1199 CC</td>\n",
       "      <td>73.9 bhp</td>\n",
       "      <td>5.0</td>\n",
       "      <td>NaN</td>\n",
       "      <td>2.99</td>\n",
       "    </tr>\n",
       "    <tr>\n",
       "      <th>1626</th>\n",
       "      <td>1626</td>\n",
       "      <td>Mercedes-Benz E-Class 2009-2013 E350 CDI Avant...</td>\n",
       "      <td>Kochi</td>\n",
       "      <td>2011</td>\n",
       "      <td>92239</td>\n",
       "      <td>Diesel</td>\n",
       "      <td>Automatic</td>\n",
       "      <td>Second</td>\n",
       "      <td>11.5 kmpl</td>\n",
       "      <td>2987 CC</td>\n",
       "      <td>210 bhp</td>\n",
       "      <td>5.0</td>\n",
       "      <td>NaN</td>\n",
       "      <td>10.60</td>\n",
       "    </tr>\n",
       "    <tr>\n",
       "      <th>4377</th>\n",
       "      <td>4377</td>\n",
       "      <td>Porsche Cayenne Diesel</td>\n",
       "      <td>Coimbatore</td>\n",
       "      <td>2015</td>\n",
       "      <td>60395</td>\n",
       "      <td>Diesel</td>\n",
       "      <td>Automatic</td>\n",
       "      <td>First</td>\n",
       "      <td>16.12 kmpl</td>\n",
       "      <td>2967 CC</td>\n",
       "      <td>245 bhp</td>\n",
       "      <td>5.0</td>\n",
       "      <td>NaN</td>\n",
       "      <td>45.82</td>\n",
       "    </tr>\n",
       "    <tr>\n",
       "      <th>6553</th>\n",
       "      <td>6553</td>\n",
       "      <td>Hyundai Verna 1.6 CRDi EX AT</td>\n",
       "      <td>Delhi</td>\n",
       "      <td>2013</td>\n",
       "      <td>37000</td>\n",
       "      <td>Diesel</td>\n",
       "      <td>Automatic</td>\n",
       "      <td>First</td>\n",
       "      <td>22.32 kmpl</td>\n",
       "      <td>1582 CC</td>\n",
       "      <td>126.3 bhp</td>\n",
       "      <td>5.0</td>\n",
       "      <td>NaN</td>\n",
       "      <td>NaN</td>\n",
       "    </tr>\n",
       "    <tr>\n",
       "      <th>6552</th>\n",
       "      <td>6552</td>\n",
       "      <td>Volkswagen Polo Diesel Comfortline 1.2L</td>\n",
       "      <td>Pune</td>\n",
       "      <td>2011</td>\n",
       "      <td>83000</td>\n",
       "      <td>Diesel</td>\n",
       "      <td>Manual</td>\n",
       "      <td>Second</td>\n",
       "      <td>22.07 kmpl</td>\n",
       "      <td>1199 CC</td>\n",
       "      <td>73.9 bhp</td>\n",
       "      <td>5.0</td>\n",
       "      <td>NaN</td>\n",
       "      <td>NaN</td>\n",
       "    </tr>\n",
       "    <tr>\n",
       "      <th>6084</th>\n",
       "      <td>6084</td>\n",
       "      <td>Chevrolet Sail Hatchback 1.2</td>\n",
       "      <td>Kochi</td>\n",
       "      <td>2015</td>\n",
       "      <td>47572</td>\n",
       "      <td>Petrol</td>\n",
       "      <td>Manual</td>\n",
       "      <td>First</td>\n",
       "      <td>18.2 kmpl</td>\n",
       "      <td>1199 CC</td>\n",
       "      <td>82.5 bhp</td>\n",
       "      <td>5.0</td>\n",
       "      <td>NaN</td>\n",
       "      <td>NaN</td>\n",
       "    </tr>\n",
       "  </tbody>\n",
       "</table>\n",
       "</div>"
      ],
      "text/plain": [
       "      S.No.                                               Name    Location  \\\n",
       "5441   5441                 Ford Endeavour 3.2 Titanium AT 4X4  Coimbatore   \n",
       "691     691                               Hyundai EON Era Plus       Kochi   \n",
       "6394   6394                            Maruti Eeco 5 Seater AC       Delhi   \n",
       "2130   2130                     Hyundai Santro GLS I - Euro II  Coimbatore   \n",
       "3047   3047            Volkswagen Polo Diesel Comfortline 1.2L     Kolkata   \n",
       "1626   1626  Mercedes-Benz E-Class 2009-2013 E350 CDI Avant...       Kochi   \n",
       "4377   4377                             Porsche Cayenne Diesel  Coimbatore   \n",
       "6553   6553                       Hyundai Verna 1.6 CRDi EX AT       Delhi   \n",
       "6552   6552            Volkswagen Polo Diesel Comfortline 1.2L        Pune   \n",
       "6084   6084                       Chevrolet Sail Hatchback 1.2       Kochi   \n",
       "\n",
       "      Year  Kilometers_Driven Fuel_Type Transmission Owner_Type     Mileage  \\\n",
       "5441  2017              54650    Diesel    Automatic      First  10.91 kmpl   \n",
       "691   2016              36700    Petrol       Manual      First   21.1 kmpl   \n",
       "6394  2014              51200    Petrol       Manual      First   15.1 kmpl   \n",
       "2130  2012              51019    Petrol       Manual      First    0.0 kmpl   \n",
       "3047  2012              45000    Diesel       Manual      First  22.07 kmpl   \n",
       "1626  2011              92239    Diesel    Automatic     Second   11.5 kmpl   \n",
       "4377  2015              60395    Diesel    Automatic      First  16.12 kmpl   \n",
       "6553  2013              37000    Diesel    Automatic      First  22.32 kmpl   \n",
       "6552  2011              83000    Diesel       Manual     Second  22.07 kmpl   \n",
       "6084  2015              47572    Petrol       Manual      First   18.2 kmpl   \n",
       "\n",
       "       Engine      Power  Seats  New_Price  Price  \n",
       "5441  3198 CC    197 bhp    7.0        NaN  30.35  \n",
       "691    814 CC   55.2 bhp    5.0        NaN   4.38  \n",
       "6394  1196 CC     73 bhp    5.0  4.56 Lakh    NaN  \n",
       "2130   999 CC   null bhp    5.0        NaN   3.48  \n",
       "3047  1199 CC   73.9 bhp    5.0        NaN   2.99  \n",
       "1626  2987 CC    210 bhp    5.0        NaN  10.60  \n",
       "4377  2967 CC    245 bhp    5.0        NaN  45.82  \n",
       "6553  1582 CC  126.3 bhp    5.0        NaN    NaN  \n",
       "6552  1199 CC   73.9 bhp    5.0        NaN    NaN  \n",
       "6084  1199 CC   82.5 bhp    5.0        NaN    NaN  "
      ]
     },
     "execution_count": 5,
     "metadata": {},
     "output_type": "execute_result"
    }
   ],
   "source": [
    "np.random.seed(68) #let's take a look at 10 random rows in the dataset\n",
    "df.sample(n=10) #setting random seed to '68', so that we get same 10 rows every time"
   ]
  },
  {
   "cell_type": "markdown",
   "metadata": {},
   "source": [
    "* We can drop the S.No column as its repetitive of the index and not required in further analysis.\n",
    "* The Mileage, Engine and Power column are represented as strings when they should be in numerical.\n",
    "* Mileage has a 0.0 value that should be replace by Nan\n",
    "* Power has string 'null bhp' which should be replaced by Nan\n",
    "* The above random sample shows that some columns have a lot of missingness, so that needs to be analysed later and New_price particularly has a lot missing values.\n",
    "* Price is the dependent variable"
   ]
  },
  {
   "cell_type": "code",
   "execution_count": 6,
   "metadata": {
    "execution": {
     "iopub.execute_input": "2021-07-10T19:58:46.277928Z",
     "iopub.status.busy": "2021-07-10T19:58:46.277641Z",
     "iopub.status.idle": "2021-07-10T19:58:46.285632Z",
     "shell.execute_reply": "2021-07-10T19:58:46.284735Z",
     "shell.execute_reply.started": "2021-07-10T19:58:46.277901Z"
    }
   },
   "outputs": [],
   "source": [
    "df.drop(['S.No.'],axis=1,inplace=True) #dropping the S.No column"
   ]
  },
  {
   "cell_type": "markdown",
   "metadata": {},
   "source": [
    "### Checking the data types and missing values in the columns."
   ]
  },
  {
   "cell_type": "code",
   "execution_count": 7,
   "metadata": {
    "execution": {
     "iopub.execute_input": "2021-07-10T19:58:46.288205Z",
     "iopub.status.busy": "2021-07-10T19:58:46.287542Z",
     "iopub.status.idle": "2021-07-10T19:58:46.317634Z",
     "shell.execute_reply": "2021-07-10T19:58:46.31675Z",
     "shell.execute_reply.started": "2021-07-10T19:58:46.28816Z"
    }
   },
   "outputs": [
    {
     "name": "stdout",
     "output_type": "stream",
     "text": [
      "<class 'pandas.core.frame.DataFrame'>\n",
      "RangeIndex: 7253 entries, 0 to 7252\n",
      "Data columns (total 13 columns):\n",
      " #   Column             Non-Null Count  Dtype  \n",
      "---  ------             --------------  -----  \n",
      " 0   Name               7253 non-null   object \n",
      " 1   Location           7253 non-null   object \n",
      " 2   Year               7253 non-null   int64  \n",
      " 3   Kilometers_Driven  7253 non-null   int64  \n",
      " 4   Fuel_Type          7253 non-null   object \n",
      " 5   Transmission       7253 non-null   object \n",
      " 6   Owner_Type         7253 non-null   object \n",
      " 7   Mileage            7251 non-null   object \n",
      " 8   Engine             7207 non-null   object \n",
      " 9   Power              7207 non-null   object \n",
      " 10  Seats              7200 non-null   float64\n",
      " 11  New_Price          1006 non-null   object \n",
      " 12  Price              6019 non-null   float64\n",
      "dtypes: float64(2), int64(2), object(9)\n",
      "memory usage: 736.8+ KB\n"
     ]
    }
   ],
   "source": [
    "df.info() "
   ]
  },
  {
   "cell_type": "markdown",
   "metadata": {},
   "source": [
    "**Observations**\n",
    "* There are 7253 entries across 13 columns\n",
    "* Mileage, Engine, Power and New_Price columns are in Object datatype.These columns need to be converted to Numerical. \n",
    "* The rest of the object datatype need to be converted to Category.\n",
    "    `coverting \"objects\" to \"category\" reduces the space required to store the dataframe. It also helps in analysis`\n",
    "* We can also see that New_Price column has only 1006 entries. \n",
    "* The Price column also has significant missing values.\n",
    "* Power, Mileage, Seats and Engine have comparatively lesser missing values than the above two."
   ]
  },
  {
   "cell_type": "markdown",
   "metadata": {},
   "source": [
    "* From the above details, we see that New_Price column has almost 80% of data missing. This may impact the performance of the model to caluculate the price. Therefore we will drop this column for further analysis.\n"
   ]
  },
  {
   "cell_type": "code",
   "execution_count": 8,
   "metadata": {
    "execution": {
     "iopub.execute_input": "2021-07-10T19:58:46.318908Z",
     "iopub.status.busy": "2021-07-10T19:58:46.318648Z",
     "iopub.status.idle": "2021-07-10T19:58:46.324186Z",
     "shell.execute_reply": "2021-07-10T19:58:46.323506Z",
     "shell.execute_reply.started": "2021-07-10T19:58:46.318883Z"
    }
   },
   "outputs": [],
   "source": [
    "df.drop([\"New_Price\"],axis=1,inplace=True)"
   ]
  },
  {
   "cell_type": "markdown",
   "metadata": {},
   "source": [
    "* Let's replace any possible corrupt values like, 0.0 to Nan before proceeding."
   ]
  },
  {
   "cell_type": "code",
   "execution_count": 9,
   "metadata": {
    "execution": {
     "iopub.execute_input": "2021-07-10T19:58:46.326524Z",
     "iopub.status.busy": "2021-07-10T19:58:46.326105Z",
     "iopub.status.idle": "2021-07-10T19:58:46.339879Z",
     "shell.execute_reply": "2021-07-10T19:58:46.338861Z",
     "shell.execute_reply.started": "2021-07-10T19:58:46.326496Z"
    }
   },
   "outputs": [],
   "source": [
    "from scipy.stats import norm\n",
    "num_col = df.select_dtypes(include=np.number).columns.tolist()\n",
    "\n",
    "for col in num_col:\n",
    "    df[col]=df[col].replace(0.0,np.nan)"
   ]
  },
  {
   "cell_type": "code",
   "execution_count": 10,
   "metadata": {
    "execution": {
     "iopub.execute_input": "2021-07-10T19:58:46.342081Z",
     "iopub.status.busy": "2021-07-10T19:58:46.341817Z",
     "iopub.status.idle": "2021-07-10T19:58:46.356298Z",
     "shell.execute_reply": "2021-07-10T19:58:46.355337Z",
     "shell.execute_reply.started": "2021-07-10T19:58:46.342055Z"
    }
   },
   "outputs": [
    {
     "data": {
      "text/plain": [
       "['Year', 'Kilometers_Driven', 'Seats', 'Price']"
      ]
     },
     "execution_count": 10,
     "metadata": {},
     "output_type": "execute_result"
    }
   ],
   "source": [
    "num_col"
   ]
  },
  {
   "cell_type": "markdown",
   "metadata": {},
   "source": [
    "## Processing Columns:\n",
    "- Before getting the summary statistics of the data to analyse the distribution, we must convert them to numerical columns."
   ]
  },
  {
   "cell_type": "code",
   "execution_count": 11,
   "metadata": {
    "execution": {
     "iopub.execute_input": "2021-07-10T19:58:46.357524Z",
     "iopub.status.busy": "2021-07-10T19:58:46.357255Z",
     "iopub.status.idle": "2021-07-10T19:58:46.492641Z",
     "shell.execute_reply": "2021-07-10T19:58:46.491647Z",
     "shell.execute_reply.started": "2021-07-10T19:58:46.357496Z"
    }
   },
   "outputs": [
    {
     "name": "stdout",
     "output_type": "stream",
     "text": [
      "['Mileage', 'Engine', 'Power']\n"
     ]
    }
   ],
   "source": [
    "num_values = []\n",
    "#the loop will add all the columns we want to convert form object to numerical into a list\n",
    "# we can then use this list for conversion\n",
    "for colname in df.columns[df.dtypes == 'object']:  # only need to consider string columns\n",
    "    if df[colname].str.endswith('pl').any() or df[colname].str.endswith('kg').any() or df[colname].str.endswith('CC').any() or df[colname].str.endswith('bhp').any() or df[colname].str.endswith('Lakh').any():  \n",
    "        # using `.str` to use an element-wise string method to select the required columns\n",
    "        num_values.append(colname)\n",
    "    \n",
    "print(num_values)"
   ]
  },
  {
   "cell_type": "code",
   "execution_count": 12,
   "metadata": {
    "execution": {
     "iopub.execute_input": "2021-07-10T19:58:46.494558Z",
     "iopub.status.busy": "2021-07-10T19:58:46.494045Z",
     "iopub.status.idle": "2021-07-10T19:58:46.535603Z",
     "shell.execute_reply": "2021-07-10T19:58:46.534812Z",
     "shell.execute_reply.started": "2021-07-10T19:58:46.49452Z"
    }
   },
   "outputs": [],
   "source": [
    "#Writing a function that will help split the string from the numerical values in the columns\n",
    "#This function will also drop the string and convert to float datatype.\n",
    "#This function will ensure a clean and faster code\n",
    "def obj_to_num(n):\n",
    "    if isinstance(n,str): #checks if the columns are string datatype\n",
    "        if n.endswith('kmpl'):\n",
    "            return float(n.split('kmpl')[0])     \n",
    "        elif n.endswith('km/kg'):                   \n",
    "            return float(n.split('km/kg')[0])\n",
    "        elif n.endswith('CC'):\n",
    "            return float(n.split('CC')[0])\n",
    "        elif n.startswith('null'):     #replaces values that have string 'null bhp' to Nan\n",
    "            return(np.nan)          \n",
    "        elif n.endswith('bhp'):\n",
    "             return float(n.split('bhp')[0])\n",
    "    else: \n",
    "        return np.nan\n",
    "\n",
    "for colname in num_values:\n",
    "    df[colname] = df[colname].apply(obj_to_num)#applying above function to the column list    \n",
    "    df[colname]=df[colname].replace(0.0,np.nan)"
   ]
  },
  {
   "cell_type": "markdown",
   "metadata": {},
   "source": [
    "## Fixing Datatypes"
   ]
  },
  {
   "cell_type": "code",
   "execution_count": 13,
   "metadata": {
    "execution": {
     "iopub.execute_input": "2021-07-10T19:58:46.537038Z",
     "iopub.status.busy": "2021-07-10T19:58:46.536611Z",
     "iopub.status.idle": "2021-07-10T19:58:46.553144Z",
     "shell.execute_reply": "2021-07-10T19:58:46.552361Z",
     "shell.execute_reply.started": "2021-07-10T19:58:46.537009Z"
    }
   },
   "outputs": [],
   "source": [
    "df[\"Name\"]=df[\"Name\"].astype(\"category\")\n",
    "df[\"Location\"]=df[\"Location\"].astype(\"category\")\n",
    "df[\"Fuel_Type\"]=df[\"Fuel_Type\"].astype(\"category\")\n",
    "df[\"Transmission\"]=df[\"Transmission\"].astype(\"category\")\n",
    "df[\"Owner_Type\"]=df[\"Owner_Type\"].astype(\"category\") "
   ]
  },
  {
   "cell_type": "code",
   "execution_count": 14,
   "metadata": {
    "execution": {
     "iopub.execute_input": "2021-07-10T19:58:46.554516Z",
     "iopub.status.busy": "2021-07-10T19:58:46.554127Z",
     "iopub.status.idle": "2021-07-10T19:58:46.580662Z",
     "shell.execute_reply": "2021-07-10T19:58:46.579606Z",
     "shell.execute_reply.started": "2021-07-10T19:58:46.554488Z"
    }
   },
   "outputs": [
    {
     "data": {
      "text/html": [
       "<div>\n",
       "<style scoped>\n",
       "    .dataframe tbody tr th:only-of-type {\n",
       "        vertical-align: middle;\n",
       "    }\n",
       "\n",
       "    .dataframe tbody tr th {\n",
       "        vertical-align: top;\n",
       "    }\n",
       "\n",
       "    .dataframe thead th {\n",
       "        text-align: right;\n",
       "    }\n",
       "</style>\n",
       "<table border=\"1\" class=\"dataframe\">\n",
       "  <thead>\n",
       "    <tr style=\"text-align: right;\">\n",
       "      <th></th>\n",
       "      <th>Name</th>\n",
       "      <th>Location</th>\n",
       "      <th>Year</th>\n",
       "      <th>Kilometers_Driven</th>\n",
       "      <th>Fuel_Type</th>\n",
       "      <th>Transmission</th>\n",
       "      <th>Owner_Type</th>\n",
       "      <th>Mileage</th>\n",
       "      <th>Engine</th>\n",
       "      <th>Power</th>\n",
       "      <th>Seats</th>\n",
       "      <th>Price</th>\n",
       "    </tr>\n",
       "  </thead>\n",
       "  <tbody>\n",
       "    <tr>\n",
       "      <th>5441</th>\n",
       "      <td>Ford Endeavour 3.2 Titanium AT 4X4</td>\n",
       "      <td>Coimbatore</td>\n",
       "      <td>2017</td>\n",
       "      <td>54650</td>\n",
       "      <td>Diesel</td>\n",
       "      <td>Automatic</td>\n",
       "      <td>First</td>\n",
       "      <td>10.91</td>\n",
       "      <td>3198.0</td>\n",
       "      <td>197.0</td>\n",
       "      <td>7.0</td>\n",
       "      <td>30.35</td>\n",
       "    </tr>\n",
       "    <tr>\n",
       "      <th>691</th>\n",
       "      <td>Hyundai EON Era Plus</td>\n",
       "      <td>Kochi</td>\n",
       "      <td>2016</td>\n",
       "      <td>36700</td>\n",
       "      <td>Petrol</td>\n",
       "      <td>Manual</td>\n",
       "      <td>First</td>\n",
       "      <td>21.10</td>\n",
       "      <td>814.0</td>\n",
       "      <td>55.2</td>\n",
       "      <td>5.0</td>\n",
       "      <td>4.38</td>\n",
       "    </tr>\n",
       "    <tr>\n",
       "      <th>6394</th>\n",
       "      <td>Maruti Eeco 5 Seater AC</td>\n",
       "      <td>Delhi</td>\n",
       "      <td>2014</td>\n",
       "      <td>51200</td>\n",
       "      <td>Petrol</td>\n",
       "      <td>Manual</td>\n",
       "      <td>First</td>\n",
       "      <td>15.10</td>\n",
       "      <td>1196.0</td>\n",
       "      <td>73.0</td>\n",
       "      <td>5.0</td>\n",
       "      <td>NaN</td>\n",
       "    </tr>\n",
       "    <tr>\n",
       "      <th>2130</th>\n",
       "      <td>Hyundai Santro GLS I - Euro II</td>\n",
       "      <td>Coimbatore</td>\n",
       "      <td>2012</td>\n",
       "      <td>51019</td>\n",
       "      <td>Petrol</td>\n",
       "      <td>Manual</td>\n",
       "      <td>First</td>\n",
       "      <td>NaN</td>\n",
       "      <td>999.0</td>\n",
       "      <td>NaN</td>\n",
       "      <td>5.0</td>\n",
       "      <td>3.48</td>\n",
       "    </tr>\n",
       "    <tr>\n",
       "      <th>3047</th>\n",
       "      <td>Volkswagen Polo Diesel Comfortline 1.2L</td>\n",
       "      <td>Kolkata</td>\n",
       "      <td>2012</td>\n",
       "      <td>45000</td>\n",
       "      <td>Diesel</td>\n",
       "      <td>Manual</td>\n",
       "      <td>First</td>\n",
       "      <td>22.07</td>\n",
       "      <td>1199.0</td>\n",
       "      <td>73.9</td>\n",
       "      <td>5.0</td>\n",
       "      <td>2.99</td>\n",
       "    </tr>\n",
       "    <tr>\n",
       "      <th>1626</th>\n",
       "      <td>Mercedes-Benz E-Class 2009-2013 E350 CDI Avant...</td>\n",
       "      <td>Kochi</td>\n",
       "      <td>2011</td>\n",
       "      <td>92239</td>\n",
       "      <td>Diesel</td>\n",
       "      <td>Automatic</td>\n",
       "      <td>Second</td>\n",
       "      <td>11.50</td>\n",
       "      <td>2987.0</td>\n",
       "      <td>210.0</td>\n",
       "      <td>5.0</td>\n",
       "      <td>10.60</td>\n",
       "    </tr>\n",
       "    <tr>\n",
       "      <th>4377</th>\n",
       "      <td>Porsche Cayenne Diesel</td>\n",
       "      <td>Coimbatore</td>\n",
       "      <td>2015</td>\n",
       "      <td>60395</td>\n",
       "      <td>Diesel</td>\n",
       "      <td>Automatic</td>\n",
       "      <td>First</td>\n",
       "      <td>16.12</td>\n",
       "      <td>2967.0</td>\n",
       "      <td>245.0</td>\n",
       "      <td>5.0</td>\n",
       "      <td>45.82</td>\n",
       "    </tr>\n",
       "    <tr>\n",
       "      <th>6553</th>\n",
       "      <td>Hyundai Verna 1.6 CRDi EX AT</td>\n",
       "      <td>Delhi</td>\n",
       "      <td>2013</td>\n",
       "      <td>37000</td>\n",
       "      <td>Diesel</td>\n",
       "      <td>Automatic</td>\n",
       "      <td>First</td>\n",
       "      <td>22.32</td>\n",
       "      <td>1582.0</td>\n",
       "      <td>126.3</td>\n",
       "      <td>5.0</td>\n",
       "      <td>NaN</td>\n",
       "    </tr>\n",
       "    <tr>\n",
       "      <th>6552</th>\n",
       "      <td>Volkswagen Polo Diesel Comfortline 1.2L</td>\n",
       "      <td>Pune</td>\n",
       "      <td>2011</td>\n",
       "      <td>83000</td>\n",
       "      <td>Diesel</td>\n",
       "      <td>Manual</td>\n",
       "      <td>Second</td>\n",
       "      <td>22.07</td>\n",
       "      <td>1199.0</td>\n",
       "      <td>73.9</td>\n",
       "      <td>5.0</td>\n",
       "      <td>NaN</td>\n",
       "    </tr>\n",
       "    <tr>\n",
       "      <th>6084</th>\n",
       "      <td>Chevrolet Sail Hatchback 1.2</td>\n",
       "      <td>Kochi</td>\n",
       "      <td>2015</td>\n",
       "      <td>47572</td>\n",
       "      <td>Petrol</td>\n",
       "      <td>Manual</td>\n",
       "      <td>First</td>\n",
       "      <td>18.20</td>\n",
       "      <td>1199.0</td>\n",
       "      <td>82.5</td>\n",
       "      <td>5.0</td>\n",
       "      <td>NaN</td>\n",
       "    </tr>\n",
       "  </tbody>\n",
       "</table>\n",
       "</div>"
      ],
      "text/plain": [
       "                                                   Name    Location  Year  \\\n",
       "5441                 Ford Endeavour 3.2 Titanium AT 4X4  Coimbatore  2017   \n",
       "691                                Hyundai EON Era Plus       Kochi  2016   \n",
       "6394                            Maruti Eeco 5 Seater AC       Delhi  2014   \n",
       "2130                     Hyundai Santro GLS I - Euro II  Coimbatore  2012   \n",
       "3047            Volkswagen Polo Diesel Comfortline 1.2L     Kolkata  2012   \n",
       "1626  Mercedes-Benz E-Class 2009-2013 E350 CDI Avant...       Kochi  2011   \n",
       "4377                             Porsche Cayenne Diesel  Coimbatore  2015   \n",
       "6553                       Hyundai Verna 1.6 CRDi EX AT       Delhi  2013   \n",
       "6552            Volkswagen Polo Diesel Comfortline 1.2L        Pune  2011   \n",
       "6084                       Chevrolet Sail Hatchback 1.2       Kochi  2015   \n",
       "\n",
       "      Kilometers_Driven Fuel_Type Transmission Owner_Type  Mileage  Engine  \\\n",
       "5441              54650    Diesel    Automatic      First    10.91  3198.0   \n",
       "691               36700    Petrol       Manual      First    21.10   814.0   \n",
       "6394              51200    Petrol       Manual      First    15.10  1196.0   \n",
       "2130              51019    Petrol       Manual      First      NaN   999.0   \n",
       "3047              45000    Diesel       Manual      First    22.07  1199.0   \n",
       "1626              92239    Diesel    Automatic     Second    11.50  2987.0   \n",
       "4377              60395    Diesel    Automatic      First    16.12  2967.0   \n",
       "6553              37000    Diesel    Automatic      First    22.32  1582.0   \n",
       "6552              83000    Diesel       Manual     Second    22.07  1199.0   \n",
       "6084              47572    Petrol       Manual      First    18.20  1199.0   \n",
       "\n",
       "      Power  Seats  Price  \n",
       "5441  197.0    7.0  30.35  \n",
       "691    55.2    5.0   4.38  \n",
       "6394   73.0    5.0    NaN  \n",
       "2130    NaN    5.0   3.48  \n",
       "3047   73.9    5.0   2.99  \n",
       "1626  210.0    5.0  10.60  \n",
       "4377  245.0    5.0  45.82  \n",
       "6553  126.3    5.0    NaN  \n",
       "6552   73.9    5.0    NaN  \n",
       "6084   82.5    5.0    NaN  "
      ]
     },
     "execution_count": 14,
     "metadata": {},
     "output_type": "execute_result"
    }
   ],
   "source": [
    "np.random.seed(68) \n",
    "df.sample(n=10) #re-checking the same 10 random rows"
   ]
  },
  {
   "cell_type": "code",
   "execution_count": 15,
   "metadata": {
    "execution": {
     "iopub.execute_input": "2021-07-10T19:58:46.582038Z",
     "iopub.status.busy": "2021-07-10T19:58:46.58177Z",
     "iopub.status.idle": "2021-07-10T19:58:46.629535Z",
     "shell.execute_reply": "2021-07-10T19:58:46.628477Z",
     "shell.execute_reply.started": "2021-07-10T19:58:46.582011Z"
    },
    "scrolled": true
   },
   "outputs": [
    {
     "name": "stdout",
     "output_type": "stream",
     "text": [
      "<class 'pandas.core.frame.DataFrame'>\n",
      "RangeIndex: 7253 entries, 0 to 7252\n",
      "Data columns (total 12 columns):\n",
      " #   Column             Non-Null Count  Dtype   \n",
      "---  ------             --------------  -----   \n",
      " 0   Name               7253 non-null   category\n",
      " 1   Location           7253 non-null   category\n",
      " 2   Year               7253 non-null   int64   \n",
      " 3   Kilometers_Driven  7253 non-null   int64   \n",
      " 4   Fuel_Type          7253 non-null   category\n",
      " 5   Transmission       7253 non-null   category\n",
      " 6   Owner_Type         7253 non-null   category\n",
      " 7   Mileage            7170 non-null   float64 \n",
      " 8   Engine             7207 non-null   float64 \n",
      " 9   Power              7078 non-null   float64 \n",
      " 10  Seats              7199 non-null   float64 \n",
      " 11  Price              6019 non-null   float64 \n",
      "dtypes: category(5), float64(5), int64(2)\n",
      "memory usage: 520.7 KB\n"
     ]
    }
   ],
   "source": [
    "df.info()  #re-checking the dataset again"
   ]
  },
  {
   "cell_type": "markdown",
   "metadata": {},
   "source": [
    "* All datatypes are now fixed and the memory useage has reduced.\n",
    "* We noticed that the number of missing values has also increased"
   ]
  },
  {
   "cell_type": "markdown",
   "metadata": {},
   "source": [
    "### Summary of Categorical Variabels"
   ]
  },
  {
   "cell_type": "code",
   "execution_count": 16,
   "metadata": {
    "execution": {
     "iopub.execute_input": "2021-07-10T19:58:46.631141Z",
     "iopub.status.busy": "2021-07-10T19:58:46.630862Z",
     "iopub.status.idle": "2021-07-10T19:58:46.682187Z",
     "shell.execute_reply": "2021-07-10T19:58:46.681197Z",
     "shell.execute_reply.started": "2021-07-10T19:58:46.631113Z"
    }
   },
   "outputs": [
    {
     "data": {
      "text/html": [
       "<div>\n",
       "<style scoped>\n",
       "    .dataframe tbody tr th:only-of-type {\n",
       "        vertical-align: middle;\n",
       "    }\n",
       "\n",
       "    .dataframe tbody tr th {\n",
       "        vertical-align: top;\n",
       "    }\n",
       "\n",
       "    .dataframe thead th {\n",
       "        text-align: right;\n",
       "    }\n",
       "</style>\n",
       "<table border=\"1\" class=\"dataframe\">\n",
       "  <thead>\n",
       "    <tr style=\"text-align: right;\">\n",
       "      <th></th>\n",
       "      <th>count</th>\n",
       "      <th>unique</th>\n",
       "      <th>top</th>\n",
       "      <th>freq</th>\n",
       "    </tr>\n",
       "  </thead>\n",
       "  <tbody>\n",
       "    <tr>\n",
       "      <th>Name</th>\n",
       "      <td>7253</td>\n",
       "      <td>2041</td>\n",
       "      <td>Mahindra XUV500 W8 2WD</td>\n",
       "      <td>55</td>\n",
       "    </tr>\n",
       "    <tr>\n",
       "      <th>Location</th>\n",
       "      <td>7253</td>\n",
       "      <td>11</td>\n",
       "      <td>Mumbai</td>\n",
       "      <td>949</td>\n",
       "    </tr>\n",
       "    <tr>\n",
       "      <th>Fuel_Type</th>\n",
       "      <td>7253</td>\n",
       "      <td>5</td>\n",
       "      <td>Diesel</td>\n",
       "      <td>3852</td>\n",
       "    </tr>\n",
       "    <tr>\n",
       "      <th>Transmission</th>\n",
       "      <td>7253</td>\n",
       "      <td>2</td>\n",
       "      <td>Manual</td>\n",
       "      <td>5204</td>\n",
       "    </tr>\n",
       "    <tr>\n",
       "      <th>Owner_Type</th>\n",
       "      <td>7253</td>\n",
       "      <td>4</td>\n",
       "      <td>First</td>\n",
       "      <td>5952</td>\n",
       "    </tr>\n",
       "  </tbody>\n",
       "</table>\n",
       "</div>"
      ],
      "text/plain": [
       "             count unique                     top  freq\n",
       "Name          7253   2041  Mahindra XUV500 W8 2WD    55\n",
       "Location      7253     11                  Mumbai   949\n",
       "Fuel_Type     7253      5                  Diesel  3852\n",
       "Transmission  7253      2                  Manual  5204\n",
       "Owner_Type    7253      4                   First  5952"
      ]
     },
     "execution_count": 16,
     "metadata": {},
     "output_type": "execute_result"
    }
   ],
   "source": [
    "df.describe(include=[\"category\"]).T"
   ]
  },
  {
   "cell_type": "markdown",
   "metadata": {},
   "source": [
    "**Observations:**\n",
    "- We see that ther are 2041 total unique Cars\n",
    "- More cars are sold in Mumbai and Diesel is the preffered Fuel Type\n",
    "- Most of the cars sold are Manual Transmission and have only had one previous owner."
   ]
  },
  {
   "cell_type": "markdown",
   "metadata": {},
   "source": [
    "- For further processing we have to make the data more manageable.\n",
    "- Let's group the cars by Brand and Model"
   ]
  },
  {
   "cell_type": "code",
   "execution_count": 17,
   "metadata": {
    "execution": {
     "iopub.execute_input": "2021-07-10T19:58:46.683782Z",
     "iopub.status.busy": "2021-07-10T19:58:46.683415Z",
     "iopub.status.idle": "2021-07-10T19:58:46.703258Z",
     "shell.execute_reply": "2021-07-10T19:58:46.702294Z",
     "shell.execute_reply.started": "2021-07-10T19:58:46.683749Z"
    }
   },
   "outputs": [],
   "source": [
    "df[['Car_Brand','Model']] = df.Name.str.split(n=1,expand=True) #splitting the Brand and the car model"
   ]
  },
  {
   "cell_type": "code",
   "execution_count": 18,
   "metadata": {
    "execution": {
     "iopub.execute_input": "2021-07-10T19:58:46.705013Z",
     "iopub.status.busy": "2021-07-10T19:58:46.704728Z",
     "iopub.status.idle": "2021-07-10T19:58:46.716087Z",
     "shell.execute_reply": "2021-07-10T19:58:46.715009Z",
     "shell.execute_reply.started": "2021-07-10T19:58:46.704987Z"
    }
   },
   "outputs": [],
   "source": [
    "Brand_name=df['Car_Brand'].unique()\n",
    "Model=df['Model'].unique() # Model names are unique to the Car Brands. "
   ]
  },
  {
   "cell_type": "code",
   "execution_count": 19,
   "metadata": {
    "execution": {
     "iopub.execute_input": "2021-07-10T19:58:46.717582Z",
     "iopub.status.busy": "2021-07-10T19:58:46.717304Z",
     "iopub.status.idle": "2021-07-10T19:58:46.725541Z",
     "shell.execute_reply": "2021-07-10T19:58:46.724579Z",
     "shell.execute_reply.started": "2021-07-10T19:58:46.717554Z"
    }
   },
   "outputs": [
    {
     "data": {
      "text/plain": [
       "array(['Maruti', 'Hyundai', 'Honda', 'Audi', 'Nissan', 'Toyota',\n",
       "       'Volkswagen', 'Tata', 'Land', 'Mitsubishi', 'Renault',\n",
       "       'Mercedes-Benz', 'BMW', 'Mahindra', 'Ford', 'Porsche', 'Datsun',\n",
       "       'Jaguar', 'Volvo', 'Chevrolet', 'Skoda', 'Mini', 'Fiat', 'Jeep',\n",
       "       'Smart', 'Ambassador', 'Isuzu', 'ISUZU', 'Force', 'Bentley',\n",
       "       'Lamborghini', 'Hindustan', 'OpelCorsa'], dtype=object)"
      ]
     },
     "execution_count": 19,
     "metadata": {},
     "output_type": "execute_result"
    }
   ],
   "source": [
    "Brand_name #Checking car brand names "
   ]
  },
  {
   "cell_type": "markdown",
   "metadata": {},
   "source": [
    "**Observations**:\n",
    "- We see that Land Rover is mentioned as Land and the Brand Isuzu is mentioned twice"
   ]
  },
  {
   "cell_type": "code",
   "execution_count": 20,
   "metadata": {
    "execution": {
     "iopub.execute_input": "2021-07-10T19:58:46.727598Z",
     "iopub.status.busy": "2021-07-10T19:58:46.727165Z",
     "iopub.status.idle": "2021-07-10T19:58:46.74506Z",
     "shell.execute_reply": "2021-07-10T19:58:46.744381Z",
     "shell.execute_reply.started": "2021-07-10T19:58:46.727557Z"
    }
   },
   "outputs": [
    {
     "data": {
      "text/plain": [
       "Maruti           1444\n",
       "Hyundai          1340\n",
       "Honda             743\n",
       "Toyota            507\n",
       "Mercedes-Benz     380\n",
       "Volkswagen        374\n",
       "Ford              351\n",
       "Mahindra          331\n",
       "BMW               312\n",
       "Audi              285\n",
       "Tata              228\n",
       "Skoda             202\n",
       "Renault           170\n",
       "Chevrolet         151\n",
       "Nissan            117\n",
       "Land_Rover         67\n",
       "Jaguar             48\n",
       "Fiat               38\n",
       "Mitsubishi         36\n",
       "Mini               31\n",
       "Volvo              28\n",
       "Jeep               19\n",
       "Porsche            19\n",
       "Datsun             17\n",
       "Isuzu               5\n",
       "Force               3\n",
       "Bentley             2\n",
       "Hindustan           1\n",
       "Lamborghini         1\n",
       "OpelCorsa           1\n",
       "Ambassador          1\n",
       "Smart               1\n",
       "Name: Car_Brand, dtype: int64"
      ]
     },
     "execution_count": 20,
     "metadata": {},
     "output_type": "execute_result"
    }
   ],
   "source": [
    "df['Car_Brand']=df['Car_Brand'].replace('Land','Land_Rover') \n",
    "df['Car_Brand']=df['Car_Brand'].replace('ISUZU','Isuzu')  #correcting the brands\n",
    "df['Car_Brand'].value_counts()"
   ]
  },
  {
   "cell_type": "markdown",
   "metadata": {},
   "source": [
    "**Observations**:\n",
    "- Maruti and Hyundai are the most popular cars brands\n",
    "- Honda and Toyota are the next most popular brands\n",
    "- We also see that the expensive luxury car brands are very few"
   ]
  },
  {
   "cell_type": "markdown",
   "metadata": {},
   "source": [
    "### Missing Value Treatment:\n",
    "- We will replace the missing values in Power,Engine,Mileage and Seats with its median value."
   ]
  },
  {
   "cell_type": "code",
   "execution_count": 21,
   "metadata": {
    "execution": {
     "iopub.execute_input": "2021-07-10T19:58:46.746367Z",
     "iopub.status.busy": "2021-07-10T19:58:46.745994Z",
     "iopub.status.idle": "2021-07-10T19:58:46.762599Z",
     "shell.execute_reply": "2021-07-10T19:58:46.761636Z",
     "shell.execute_reply.started": "2021-07-10T19:58:46.746339Z"
    }
   },
   "outputs": [
    {
     "data": {
      "text/plain": [
       "['Year', 'Kilometers_Driven', 'Mileage', 'Engine', 'Power', 'Seats', 'Price']"
      ]
     },
     "execution_count": 21,
     "metadata": {},
     "output_type": "execute_result"
    }
   ],
   "source": [
    "numeric_columns = df.select_dtypes(include=np.number).columns.tolist()\n",
    "numeric_columns"
   ]
  },
  {
   "cell_type": "code",
   "execution_count": 22,
   "metadata": {
    "execution": {
     "iopub.execute_input": "2021-07-10T19:58:46.765314Z",
     "iopub.status.busy": "2021-07-10T19:58:46.764642Z",
     "iopub.status.idle": "2021-07-10T19:58:46.780659Z",
     "shell.execute_reply": "2021-07-10T19:58:46.77956Z",
     "shell.execute_reply.started": "2021-07-10T19:58:46.765256Z"
    }
   },
   "outputs": [],
   "source": [
    "numeric_columns.remove('Price') #It's the dependent variable\n",
    "medianFiller = lambda x: x.fillna(x.median())\n",
    "df[numeric_columns] = df[numeric_columns].apply(medianFiller,axis=0)"
   ]
  },
  {
   "cell_type": "markdown",
   "metadata": {},
   "source": [
    "* The Price Column also has missing values(1234) that needs to be treated. \n",
    "* Hence we will calculate Median Price per Brand and per Brand's model and replace the missing values in Price column"
   ]
  },
  {
   "cell_type": "code",
   "execution_count": 23,
   "metadata": {
    "execution": {
     "iopub.execute_input": "2021-07-10T19:58:46.782652Z",
     "iopub.status.busy": "2021-07-10T19:58:46.782179Z",
     "iopub.status.idle": "2021-07-10T19:58:46.838072Z",
     "shell.execute_reply": "2021-07-10T19:58:46.837373Z",
     "shell.execute_reply.started": "2021-07-10T19:58:46.782597Z"
    }
   },
   "outputs": [],
   "source": [
    "Median1=[] #creating an empty list to add the median Price of Cars per Brand\n",
    "for i in range(len(Brand_name)):\n",
    "    x=df['Price'][df['Car_Brand']==Brand_name[i]].median()\n",
    "    Median1.append(x)"
   ]
  },
  {
   "cell_type": "code",
   "execution_count": 24,
   "metadata": {
    "execution": {
     "iopub.execute_input": "2021-07-10T19:58:46.843592Z",
     "iopub.status.busy": "2021-07-10T19:58:46.843067Z",
     "iopub.status.idle": "2021-07-10T19:58:49.531338Z",
     "shell.execute_reply": "2021-07-10T19:58:49.530191Z",
     "shell.execute_reply.started": "2021-07-10T19:58:46.843517Z"
    }
   },
   "outputs": [],
   "source": [
    "Median2=[] #Creating an empty list to add the median price of cars per Car model\n",
    "for i in range(len(Model)):\n",
    "    x=df['Price'][df['Model']==Model[i]].median()\n",
    "    Median2.append(x)"
   ]
  },
  {
   "cell_type": "code",
   "execution_count": 25,
   "metadata": {
    "execution": {
     "iopub.execute_input": "2021-07-10T19:58:49.535166Z",
     "iopub.status.busy": "2021-07-10T19:58:49.534735Z",
     "iopub.status.idle": "2021-07-10T19:58:49.540731Z",
     "shell.execute_reply": "2021-07-10T19:58:49.539445Z",
     "shell.execute_reply.started": "2021-07-10T19:58:49.535124Z"
    }
   },
   "outputs": [],
   "source": [
    "df['Price']= df['Price'].fillna(0.0) #replacing the missing values with float 0.0"
   ]
  },
  {
   "cell_type": "code",
   "execution_count": 26,
   "metadata": {
    "execution": {
     "iopub.execute_input": "2021-07-10T19:58:49.54332Z",
     "iopub.status.busy": "2021-07-10T19:58:49.542512Z",
     "iopub.status.idle": "2021-07-10T19:59:21.368493Z",
     "shell.execute_reply": "2021-07-10T19:59:21.367744Z",
     "shell.execute_reply.started": "2021-07-10T19:58:49.543275Z"
    }
   },
   "outputs": [],
   "source": [
    "for i in range(len(df)):  #running a loop to check every row in df dataset\n",
    "    if df.Price[i]==0.00:\n",
    "        for j in range(len(Model)):  \n",
    "            if df.Model[i]==Model[j]:  #Comparing the Car model  names in both datasets\n",
    "                df.Price[i]=Median2[j]  #replacing the Price of the car with the median price of its subsequent model\n",
    "            "
   ]
  },
  {
   "cell_type": "code",
   "execution_count": 27,
   "metadata": {
    "execution": {
     "iopub.execute_input": "2021-07-10T19:59:21.370397Z",
     "iopub.status.busy": "2021-07-10T19:59:21.369801Z",
     "iopub.status.idle": "2021-07-10T19:59:21.413858Z",
     "shell.execute_reply": "2021-07-10T19:59:21.412844Z",
     "shell.execute_reply.started": "2021-07-10T19:59:21.370352Z"
    }
   },
   "outputs": [
    {
     "name": "stdout",
     "output_type": "stream",
     "text": [
      "<class 'pandas.core.frame.DataFrame'>\n",
      "RangeIndex: 7253 entries, 0 to 7252\n",
      "Data columns (total 14 columns):\n",
      " #   Column             Non-Null Count  Dtype   \n",
      "---  ------             --------------  -----   \n",
      " 0   Name               7253 non-null   category\n",
      " 1   Location           7253 non-null   category\n",
      " 2   Year               7253 non-null   int64   \n",
      " 3   Kilometers_Driven  7253 non-null   int64   \n",
      " 4   Fuel_Type          7253 non-null   category\n",
      " 5   Transmission       7253 non-null   category\n",
      " 6   Owner_Type         7253 non-null   category\n",
      " 7   Mileage            7253 non-null   float64 \n",
      " 8   Engine             7253 non-null   float64 \n",
      " 9   Power              7253 non-null   float64 \n",
      " 10  Seats              7253 non-null   float64 \n",
      " 11  Price              7075 non-null   float64 \n",
      " 12  Car_Brand          7253 non-null   object  \n",
      " 13  Model              7253 non-null   object  \n",
      "dtypes: category(5), float64(5), int64(2), object(2)\n",
      "memory usage: 634.0+ KB\n"
     ]
    }
   ],
   "source": [
    "df.info() #rechecking for missing values"
   ]
  },
  {
   "cell_type": "code",
   "execution_count": 28,
   "metadata": {
    "execution": {
     "iopub.execute_input": "2021-07-10T19:59:21.415484Z",
     "iopub.status.busy": "2021-07-10T19:59:21.415141Z",
     "iopub.status.idle": "2021-07-10T19:59:21.465977Z",
     "shell.execute_reply": "2021-07-10T19:59:21.464786Z",
     "shell.execute_reply.started": "2021-07-10T19:59:21.415452Z"
    }
   },
   "outputs": [
    {
     "data": {
      "text/html": [
       "<div>\n",
       "<style scoped>\n",
       "    .dataframe tbody tr th:only-of-type {\n",
       "        vertical-align: middle;\n",
       "    }\n",
       "\n",
       "    .dataframe tbody tr th {\n",
       "        vertical-align: top;\n",
       "    }\n",
       "\n",
       "    .dataframe thead th {\n",
       "        text-align: right;\n",
       "    }\n",
       "</style>\n",
       "<table border=\"1\" class=\"dataframe\">\n",
       "  <thead>\n",
       "    <tr style=\"text-align: right;\">\n",
       "      <th></th>\n",
       "      <th>Name</th>\n",
       "      <th>Location</th>\n",
       "      <th>Year</th>\n",
       "      <th>Kilometers_Driven</th>\n",
       "      <th>Fuel_Type</th>\n",
       "      <th>Transmission</th>\n",
       "      <th>Owner_Type</th>\n",
       "      <th>Mileage</th>\n",
       "      <th>Engine</th>\n",
       "      <th>Power</th>\n",
       "      <th>Seats</th>\n",
       "      <th>Price</th>\n",
       "      <th>Car_Brand</th>\n",
       "      <th>Model</th>\n",
       "    </tr>\n",
       "  </thead>\n",
       "  <tbody>\n",
       "    <tr>\n",
       "      <th>6021</th>\n",
       "      <td>Toyota Innova Crysta Touring Sport 2.4 MT</td>\n",
       "      <td>Mumbai</td>\n",
       "      <td>2017</td>\n",
       "      <td>34000</td>\n",
       "      <td>Diesel</td>\n",
       "      <td>Manual</td>\n",
       "      <td>First</td>\n",
       "      <td>13.68</td>\n",
       "      <td>2393.0</td>\n",
       "      <td>147.80</td>\n",
       "      <td>7.0</td>\n",
       "      <td>NaN</td>\n",
       "      <td>Toyota</td>\n",
       "      <td>Innova Crysta Touring Sport 2.4 MT</td>\n",
       "    </tr>\n",
       "    <tr>\n",
       "      <th>6037</th>\n",
       "      <td>Maruti Swift AMT ZXI</td>\n",
       "      <td>Kochi</td>\n",
       "      <td>2019</td>\n",
       "      <td>15409</td>\n",
       "      <td>Petrol</td>\n",
       "      <td>Automatic</td>\n",
       "      <td>First</td>\n",
       "      <td>22.00</td>\n",
       "      <td>1197.0</td>\n",
       "      <td>81.80</td>\n",
       "      <td>5.0</td>\n",
       "      <td>NaN</td>\n",
       "      <td>Maruti</td>\n",
       "      <td>Swift AMT ZXI</td>\n",
       "    </tr>\n",
       "    <tr>\n",
       "      <th>6042</th>\n",
       "      <td>Skoda Laura 1.8 TSI Ambition</td>\n",
       "      <td>Bangalore</td>\n",
       "      <td>2009</td>\n",
       "      <td>72000</td>\n",
       "      <td>Petrol</td>\n",
       "      <td>Manual</td>\n",
       "      <td>Second</td>\n",
       "      <td>17.50</td>\n",
       "      <td>1493.0</td>\n",
       "      <td>94.00</td>\n",
       "      <td>5.0</td>\n",
       "      <td>NaN</td>\n",
       "      <td>Skoda</td>\n",
       "      <td>Laura 1.8 TSI Ambition</td>\n",
       "    </tr>\n",
       "    <tr>\n",
       "      <th>6043</th>\n",
       "      <td>Honda Civic 2010-2013 1.8 S MT Inspire</td>\n",
       "      <td>Bangalore</td>\n",
       "      <td>2011</td>\n",
       "      <td>40000</td>\n",
       "      <td>Petrol</td>\n",
       "      <td>Manual</td>\n",
       "      <td>Second</td>\n",
       "      <td>15.50</td>\n",
       "      <td>1799.0</td>\n",
       "      <td>132.00</td>\n",
       "      <td>5.0</td>\n",
       "      <td>NaN</td>\n",
       "      <td>Honda</td>\n",
       "      <td>Civic 2010-2013 1.8 S MT Inspire</td>\n",
       "    </tr>\n",
       "    <tr>\n",
       "      <th>6076</th>\n",
       "      <td>Toyota Etios Liva 1.4 VXD</td>\n",
       "      <td>Pune</td>\n",
       "      <td>2016</td>\n",
       "      <td>104350</td>\n",
       "      <td>Diesel</td>\n",
       "      <td>Manual</td>\n",
       "      <td>First</td>\n",
       "      <td>23.59</td>\n",
       "      <td>1364.0</td>\n",
       "      <td>67.04</td>\n",
       "      <td>5.0</td>\n",
       "      <td>NaN</td>\n",
       "      <td>Toyota</td>\n",
       "      <td>Etios Liva 1.4 VXD</td>\n",
       "    </tr>\n",
       "    <tr>\n",
       "      <th>...</th>\n",
       "      <td>...</td>\n",
       "      <td>...</td>\n",
       "      <td>...</td>\n",
       "      <td>...</td>\n",
       "      <td>...</td>\n",
       "      <td>...</td>\n",
       "      <td>...</td>\n",
       "      <td>...</td>\n",
       "      <td>...</td>\n",
       "      <td>...</td>\n",
       "      <td>...</td>\n",
       "      <td>...</td>\n",
       "      <td>...</td>\n",
       "      <td>...</td>\n",
       "    </tr>\n",
       "    <tr>\n",
       "      <th>7225</th>\n",
       "      <td>Skoda Superb Petrol Ambition</td>\n",
       "      <td>Delhi</td>\n",
       "      <td>2010</td>\n",
       "      <td>40000</td>\n",
       "      <td>Petrol</td>\n",
       "      <td>Manual</td>\n",
       "      <td>First</td>\n",
       "      <td>13.10</td>\n",
       "      <td>1798.0</td>\n",
       "      <td>157.80</td>\n",
       "      <td>5.0</td>\n",
       "      <td>NaN</td>\n",
       "      <td>Skoda</td>\n",
       "      <td>Superb Petrol Ambition</td>\n",
       "    </tr>\n",
       "    <tr>\n",
       "      <th>7228</th>\n",
       "      <td>Tata Tiago 1.05 Revotorq XT Option</td>\n",
       "      <td>Pune</td>\n",
       "      <td>2016</td>\n",
       "      <td>41413</td>\n",
       "      <td>Diesel</td>\n",
       "      <td>Manual</td>\n",
       "      <td>First</td>\n",
       "      <td>27.28</td>\n",
       "      <td>1047.0</td>\n",
       "      <td>69.00</td>\n",
       "      <td>5.0</td>\n",
       "      <td>NaN</td>\n",
       "      <td>Tata</td>\n",
       "      <td>Tiago 1.05 Revotorq XT Option</td>\n",
       "    </tr>\n",
       "    <tr>\n",
       "      <th>7231</th>\n",
       "      <td>Ford EcoSport 1.5 Petrol Ambiente</td>\n",
       "      <td>Kochi</td>\n",
       "      <td>2017</td>\n",
       "      <td>39015</td>\n",
       "      <td>Petrol</td>\n",
       "      <td>Manual</td>\n",
       "      <td>First</td>\n",
       "      <td>17.00</td>\n",
       "      <td>1497.0</td>\n",
       "      <td>121.36</td>\n",
       "      <td>5.0</td>\n",
       "      <td>NaN</td>\n",
       "      <td>Ford</td>\n",
       "      <td>EcoSport 1.5 Petrol Ambiente</td>\n",
       "    </tr>\n",
       "    <tr>\n",
       "      <th>7232</th>\n",
       "      <td>Jeep Compass 1.4 Sport</td>\n",
       "      <td>Mumbai</td>\n",
       "      <td>2018</td>\n",
       "      <td>6000</td>\n",
       "      <td>Petrol</td>\n",
       "      <td>Manual</td>\n",
       "      <td>First</td>\n",
       "      <td>16.00</td>\n",
       "      <td>1368.0</td>\n",
       "      <td>160.00</td>\n",
       "      <td>5.0</td>\n",
       "      <td>NaN</td>\n",
       "      <td>Jeep</td>\n",
       "      <td>Compass 1.4 Sport</td>\n",
       "    </tr>\n",
       "    <tr>\n",
       "      <th>7236</th>\n",
       "      <td>Hyundai Elite i20 Magna Plus</td>\n",
       "      <td>Kochi</td>\n",
       "      <td>2018</td>\n",
       "      <td>23955</td>\n",
       "      <td>Petrol</td>\n",
       "      <td>Manual</td>\n",
       "      <td>First</td>\n",
       "      <td>18.60</td>\n",
       "      <td>1197.0</td>\n",
       "      <td>81.86</td>\n",
       "      <td>5.0</td>\n",
       "      <td>NaN</td>\n",
       "      <td>Hyundai</td>\n",
       "      <td>Elite i20 Magna Plus</td>\n",
       "    </tr>\n",
       "  </tbody>\n",
       "</table>\n",
       "<p>178 rows × 14 columns</p>\n",
       "</div>"
      ],
      "text/plain": [
       "                                           Name   Location  Year  \\\n",
       "6021  Toyota Innova Crysta Touring Sport 2.4 MT     Mumbai  2017   \n",
       "6037                       Maruti Swift AMT ZXI      Kochi  2019   \n",
       "6042               Skoda Laura 1.8 TSI Ambition  Bangalore  2009   \n",
       "6043     Honda Civic 2010-2013 1.8 S MT Inspire  Bangalore  2011   \n",
       "6076                  Toyota Etios Liva 1.4 VXD       Pune  2016   \n",
       "...                                         ...        ...   ...   \n",
       "7225               Skoda Superb Petrol Ambition      Delhi  2010   \n",
       "7228         Tata Tiago 1.05 Revotorq XT Option       Pune  2016   \n",
       "7231          Ford EcoSport 1.5 Petrol Ambiente      Kochi  2017   \n",
       "7232                     Jeep Compass 1.4 Sport     Mumbai  2018   \n",
       "7236               Hyundai Elite i20 Magna Plus      Kochi  2018   \n",
       "\n",
       "      Kilometers_Driven Fuel_Type Transmission Owner_Type  Mileage  Engine  \\\n",
       "6021              34000    Diesel       Manual      First    13.68  2393.0   \n",
       "6037              15409    Petrol    Automatic      First    22.00  1197.0   \n",
       "6042              72000    Petrol       Manual     Second    17.50  1493.0   \n",
       "6043              40000    Petrol       Manual     Second    15.50  1799.0   \n",
       "6076             104350    Diesel       Manual      First    23.59  1364.0   \n",
       "...                 ...       ...          ...        ...      ...     ...   \n",
       "7225              40000    Petrol       Manual      First    13.10  1798.0   \n",
       "7228              41413    Diesel       Manual      First    27.28  1047.0   \n",
       "7231              39015    Petrol       Manual      First    17.00  1497.0   \n",
       "7232               6000    Petrol       Manual      First    16.00  1368.0   \n",
       "7236              23955    Petrol       Manual      First    18.60  1197.0   \n",
       "\n",
       "       Power  Seats  Price Car_Brand                               Model  \n",
       "6021  147.80    7.0    NaN    Toyota  Innova Crysta Touring Sport 2.4 MT  \n",
       "6037   81.80    5.0    NaN    Maruti                       Swift AMT ZXI  \n",
       "6042   94.00    5.0    NaN     Skoda              Laura 1.8 TSI Ambition  \n",
       "6043  132.00    5.0    NaN     Honda    Civic 2010-2013 1.8 S MT Inspire  \n",
       "6076   67.04    5.0    NaN    Toyota                  Etios Liva 1.4 VXD  \n",
       "...      ...    ...    ...       ...                                 ...  \n",
       "7225  157.80    5.0    NaN     Skoda              Superb Petrol Ambition  \n",
       "7228   69.00    5.0    NaN      Tata       Tiago 1.05 Revotorq XT Option  \n",
       "7231  121.36    5.0    NaN      Ford        EcoSport 1.5 Petrol Ambiente  \n",
       "7232  160.00    5.0    NaN      Jeep                   Compass 1.4 Sport  \n",
       "7236   81.86    5.0    NaN   Hyundai                Elite i20 Magna Plus  \n",
       "\n",
       "[178 rows x 14 columns]"
      ]
     },
     "execution_count": 28,
     "metadata": {},
     "output_type": "execute_result"
    }
   ],
   "source": [
    "df[df['Price'].isna()]\n",
    "  #checking the rows with missing Price Value"
   ]
  },
  {
   "cell_type": "markdown",
   "metadata": {},
   "source": [
    "* The above mentioned cars appear only once in the dataset. Hence we dont have a median price value per its model.\n",
    "* Therefore we will replace the missing Price of these cars with the median Price of its corresponding Brand, that was calculated earlier. "
   ]
  },
  {
   "cell_type": "code",
   "execution_count": 29,
   "metadata": {
    "execution": {
     "iopub.execute_input": "2021-07-10T19:59:21.468001Z",
     "iopub.status.busy": "2021-07-10T19:59:21.46756Z",
     "iopub.status.idle": "2021-07-10T19:59:21.662086Z",
     "shell.execute_reply": "2021-07-10T19:59:21.661052Z",
     "shell.execute_reply.started": "2021-07-10T19:59:21.467956Z"
    }
   },
   "outputs": [],
   "source": [
    "df['Price']= df['Price'].fillna(0.0) #replacing the missing values with float 0.0\n",
    "for i in range(len(df)):  #running a loop to check every row in df dataset\n",
    "    if df.Price[i]==0.00:\n",
    "        for j in range(len(Brand_name)):  \n",
    "            if df.Car_Brand[i]==Brand_name[j]:  #Comparing the brand names in both datasets\n",
    "                df.Price[i]=Median1[j]     #replacing with corresponding missing values"
   ]
  },
  {
   "cell_type": "code",
   "execution_count": 30,
   "metadata": {
    "execution": {
     "iopub.execute_input": "2021-07-10T19:59:21.664132Z",
     "iopub.status.busy": "2021-07-10T19:59:21.663714Z",
     "iopub.status.idle": "2021-07-10T19:59:21.685168Z",
     "shell.execute_reply": "2021-07-10T19:59:21.68411Z",
     "shell.execute_reply.started": "2021-07-10T19:59:21.664087Z"
    }
   },
   "outputs": [
    {
     "data": {
      "text/html": [
       "<div>\n",
       "<style scoped>\n",
       "    .dataframe tbody tr th:only-of-type {\n",
       "        vertical-align: middle;\n",
       "    }\n",
       "\n",
       "    .dataframe tbody tr th {\n",
       "        vertical-align: top;\n",
       "    }\n",
       "\n",
       "    .dataframe thead th {\n",
       "        text-align: right;\n",
       "    }\n",
       "</style>\n",
       "<table border=\"1\" class=\"dataframe\">\n",
       "  <thead>\n",
       "    <tr style=\"text-align: right;\">\n",
       "      <th></th>\n",
       "      <th>Name</th>\n",
       "      <th>Location</th>\n",
       "      <th>Year</th>\n",
       "      <th>Kilometers_Driven</th>\n",
       "      <th>Fuel_Type</th>\n",
       "      <th>Transmission</th>\n",
       "      <th>Owner_Type</th>\n",
       "      <th>Mileage</th>\n",
       "      <th>Engine</th>\n",
       "      <th>Power</th>\n",
       "      <th>Seats</th>\n",
       "      <th>Price</th>\n",
       "      <th>Car_Brand</th>\n",
       "      <th>Model</th>\n",
       "    </tr>\n",
       "  </thead>\n",
       "  <tbody>\n",
       "    <tr>\n",
       "      <th>6216</th>\n",
       "      <td>Hindustan Motors Contessa 2.0 DSL</td>\n",
       "      <td>Pune</td>\n",
       "      <td>1996</td>\n",
       "      <td>65000</td>\n",
       "      <td>Diesel</td>\n",
       "      <td>Manual</td>\n",
       "      <td>Second</td>\n",
       "      <td>14.1</td>\n",
       "      <td>1995.0</td>\n",
       "      <td>94.0</td>\n",
       "      <td>5.0</td>\n",
       "      <td>NaN</td>\n",
       "      <td>Hindustan</td>\n",
       "      <td>Motors Contessa 2.0 DSL</td>\n",
       "    </tr>\n",
       "    <tr>\n",
       "      <th>7067</th>\n",
       "      <td>OpelCorsa 1.4Gsi</td>\n",
       "      <td>Hyderabad</td>\n",
       "      <td>2005</td>\n",
       "      <td>50000</td>\n",
       "      <td>Petrol</td>\n",
       "      <td>Manual</td>\n",
       "      <td>Second</td>\n",
       "      <td>14.2</td>\n",
       "      <td>1389.0</td>\n",
       "      <td>88.0</td>\n",
       "      <td>5.0</td>\n",
       "      <td>NaN</td>\n",
       "      <td>OpelCorsa</td>\n",
       "      <td>1.4Gsi</td>\n",
       "    </tr>\n",
       "  </tbody>\n",
       "</table>\n",
       "</div>"
      ],
      "text/plain": [
       "                                   Name   Location  Year  Kilometers_Driven  \\\n",
       "6216  Hindustan Motors Contessa 2.0 DSL       Pune  1996              65000   \n",
       "7067                   OpelCorsa 1.4Gsi  Hyderabad  2005              50000   \n",
       "\n",
       "     Fuel_Type Transmission Owner_Type  Mileage  Engine  Power  Seats  Price  \\\n",
       "6216    Diesel       Manual     Second     14.1  1995.0   94.0    5.0    NaN   \n",
       "7067    Petrol       Manual     Second     14.2  1389.0   88.0    5.0    NaN   \n",
       "\n",
       "      Car_Brand                    Model  \n",
       "6216  Hindustan  Motors Contessa 2.0 DSL  \n",
       "7067  OpelCorsa                   1.4Gsi  "
      ]
     },
     "execution_count": 30,
     "metadata": {},
     "output_type": "execute_result"
    }
   ],
   "source": [
    "df[df['Price'].isna()]"
   ]
  },
  {
   "cell_type": "code",
   "execution_count": 31,
   "metadata": {
    "execution": {
     "iopub.execute_input": "2021-07-10T19:59:21.687006Z",
     "iopub.status.busy": "2021-07-10T19:59:21.686576Z",
     "iopub.status.idle": "2021-07-10T19:59:21.705248Z",
     "shell.execute_reply": "2021-07-10T19:59:21.704054Z",
     "shell.execute_reply.started": "2021-07-10T19:59:21.686964Z"
    }
   },
   "outputs": [
    {
     "data": {
      "text/plain": [
       "(7251, 14)"
      ]
     },
     "execution_count": 31,
     "metadata": {},
     "output_type": "execute_result"
    }
   ],
   "source": [
    "#Dropping the above two cars as there are only one of each per brand\n",
    "#Also we do not have any further information to calculate its price\n",
    "df.dropna(axis=0,inplace=True)\n",
    "df.shape  #we now have 7251 rows and 14 columns"
   ]
  },
  {
   "cell_type": "markdown",
   "metadata": {},
   "source": [
    "### Summary of Numerical Columns"
   ]
  },
  {
   "cell_type": "code",
   "execution_count": 32,
   "metadata": {
    "execution": {
     "iopub.execute_input": "2021-07-10T19:59:21.707628Z",
     "iopub.status.busy": "2021-07-10T19:59:21.70712Z",
     "iopub.status.idle": "2021-07-10T19:59:21.752172Z",
     "shell.execute_reply": "2021-07-10T19:59:21.751016Z",
     "shell.execute_reply.started": "2021-07-10T19:59:21.707582Z"
    }
   },
   "outputs": [
    {
     "data": {
      "text/html": [
       "<div>\n",
       "<style scoped>\n",
       "    .dataframe tbody tr th:only-of-type {\n",
       "        vertical-align: middle;\n",
       "    }\n",
       "\n",
       "    .dataframe tbody tr th {\n",
       "        vertical-align: top;\n",
       "    }\n",
       "\n",
       "    .dataframe thead th {\n",
       "        text-align: right;\n",
       "    }\n",
       "</style>\n",
       "<table border=\"1\" class=\"dataframe\">\n",
       "  <thead>\n",
       "    <tr style=\"text-align: right;\">\n",
       "      <th></th>\n",
       "      <th>count</th>\n",
       "      <th>mean</th>\n",
       "      <th>std</th>\n",
       "      <th>min</th>\n",
       "      <th>25%</th>\n",
       "      <th>50%</th>\n",
       "      <th>75%</th>\n",
       "      <th>max</th>\n",
       "    </tr>\n",
       "  </thead>\n",
       "  <tbody>\n",
       "    <tr>\n",
       "      <th>Year</th>\n",
       "      <td>7251.000</td>\n",
       "      <td>2013.369</td>\n",
       "      <td>3.247</td>\n",
       "      <td>1998.000</td>\n",
       "      <td>2011.000</td>\n",
       "      <td>2014.000</td>\n",
       "      <td>2016.000</td>\n",
       "      <td>2019.000</td>\n",
       "    </tr>\n",
       "    <tr>\n",
       "      <th>Kilometers_Driven</th>\n",
       "      <td>7251.000</td>\n",
       "      <td>58699.394</td>\n",
       "      <td>84439.271</td>\n",
       "      <td>171.000</td>\n",
       "      <td>34000.000</td>\n",
       "      <td>53416.000</td>\n",
       "      <td>73000.000</td>\n",
       "      <td>6500000.000</td>\n",
       "    </tr>\n",
       "    <tr>\n",
       "      <th>Mileage</th>\n",
       "      <td>7251.000</td>\n",
       "      <td>18.346</td>\n",
       "      <td>4.134</td>\n",
       "      <td>6.400</td>\n",
       "      <td>15.400</td>\n",
       "      <td>18.200</td>\n",
       "      <td>21.100</td>\n",
       "      <td>33.540</td>\n",
       "    </tr>\n",
       "    <tr>\n",
       "      <th>Engine</th>\n",
       "      <td>7251.000</td>\n",
       "      <td>1615.769</td>\n",
       "      <td>593.534</td>\n",
       "      <td>72.000</td>\n",
       "      <td>1198.000</td>\n",
       "      <td>1493.000</td>\n",
       "      <td>1968.000</td>\n",
       "      <td>5998.000</td>\n",
       "    </tr>\n",
       "    <tr>\n",
       "      <th>Power</th>\n",
       "      <td>7251.000</td>\n",
       "      <td>112.318</td>\n",
       "      <td>52.929</td>\n",
       "      <td>34.200</td>\n",
       "      <td>77.000</td>\n",
       "      <td>94.000</td>\n",
       "      <td>138.030</td>\n",
       "      <td>616.000</td>\n",
       "    </tr>\n",
       "    <tr>\n",
       "      <th>Seats</th>\n",
       "      <td>7251.000</td>\n",
       "      <td>5.278</td>\n",
       "      <td>0.807</td>\n",
       "      <td>2.000</td>\n",
       "      <td>5.000</td>\n",
       "      <td>5.000</td>\n",
       "      <td>5.000</td>\n",
       "      <td>10.000</td>\n",
       "    </tr>\n",
       "    <tr>\n",
       "      <th>Price</th>\n",
       "      <td>7251.000</td>\n",
       "      <td>9.328</td>\n",
       "      <td>10.863</td>\n",
       "      <td>0.000</td>\n",
       "      <td>3.500</td>\n",
       "      <td>5.500</td>\n",
       "      <td>9.750</td>\n",
       "      <td>160.000</td>\n",
       "    </tr>\n",
       "  </tbody>\n",
       "</table>\n",
       "</div>"
      ],
      "text/plain": [
       "                     count      mean       std      min       25%       50%  \\\n",
       "Year              7251.000  2013.369     3.247 1998.000  2011.000  2014.000   \n",
       "Kilometers_Driven 7251.000 58699.394 84439.271  171.000 34000.000 53416.000   \n",
       "Mileage           7251.000    18.346     4.134    6.400    15.400    18.200   \n",
       "Engine            7251.000  1615.769   593.534   72.000  1198.000  1493.000   \n",
       "Power             7251.000   112.318    52.929   34.200    77.000    94.000   \n",
       "Seats             7251.000     5.278     0.807    2.000     5.000     5.000   \n",
       "Price             7251.000     9.328    10.863    0.000     3.500     5.500   \n",
       "\n",
       "                        75%         max  \n",
       "Year               2016.000    2019.000  \n",
       "Kilometers_Driven 73000.000 6500000.000  \n",
       "Mileage              21.100      33.540  \n",
       "Engine             1968.000    5998.000  \n",
       "Power               138.030     616.000  \n",
       "Seats                 5.000      10.000  \n",
       "Price                 9.750     160.000  "
      ]
     },
     "execution_count": 32,
     "metadata": {},
     "output_type": "execute_result"
    }
   ],
   "source": [
    "pd.set_option('display.float_format', lambda x: '%.3f' % x) # to display numbers in digits\n",
    "df.describe().T"
   ]
  },
  {
   "cell_type": "markdown",
   "metadata": {},
   "source": [
    "**Observations**:\n",
    "* Year:\n",
    "    - Mean Year of car's is 2013 which is one year short of median. Year starts from 1998 till 2019 implying older to latest car models\n",
    "* Kilometers_Driven: \n",
    "    - The Mean is slightly higher than the median, but the max value is very hight, suggesting outliers\n",
    "* Mileage: \n",
    "    - The Mean and Median of Mileage are fairly close\n",
    "* Engine and Power & Price\n",
    "    - The Mean value is significantly higher than the median for all three variables. \n",
    "    - Average Price is at 9.33 Lakhs. The Variance is greater than the Mean which suggests wide distribution(skewness) of data. "
   ]
  },
  {
   "cell_type": "markdown",
   "metadata": {},
   "source": [
    "## Exploratory Data Analysis:\n",
    "### Univariate Analysis Each Numerical Column:"
   ]
  },
  {
   "cell_type": "code",
   "execution_count": 33,
   "metadata": {
    "execution": {
     "iopub.execute_input": "2021-07-10T19:59:21.754296Z",
     "iopub.status.busy": "2021-07-10T19:59:21.753889Z",
     "iopub.status.idle": "2021-07-10T19:59:29.387093Z",
     "shell.execute_reply": "2021-07-10T19:59:29.38639Z",
     "shell.execute_reply.started": "2021-07-10T19:59:21.754255Z"
    }
   },
   "outputs": [
    {
     "data": {
      "image/png": "[encoded data removed]",
      "text/plain": [
       "<Figure size 1224x5400 with 7 Axes>"
      ]
     },
     "metadata": {
      "needs_background": "light"
     },
     "output_type": "display_data"
    }
   ],
   "source": [
    "#Performing Univariate Analysis to study the central tendency and dispersion\n",
    "#Plotting histogram to study distribution\n",
    "from scipy.stats import norm\n",
    "Uni_num = df.select_dtypes(include=np.number).columns.tolist()\n",
    "plt.figure(figsize=(17,75))\n",
    "for i in range(len(Uni_num)):     #creating a loop that will show the plots for the columns in one plot\n",
    "    plt.subplot(18,3,i+1)\n",
    "    sns.histplot(df[Uni_num[i]],kde=False)\n",
    "    plt.tight_layout()\n",
    "    plt.title(Uni_num[i],fontsize=25)\n",
    "\n",
    "plt.show()"
   ]
  },
  {
   "cell_type": "code",
   "execution_count": 34,
   "metadata": {
    "execution": {
     "iopub.execute_input": "2021-07-10T19:59:29.388692Z",
     "iopub.status.busy": "2021-07-10T19:59:29.388234Z",
     "iopub.status.idle": "2021-07-10T19:59:30.532043Z",
     "shell.execute_reply": "2021-07-10T19:59:30.530947Z",
     "shell.execute_reply.started": "2021-07-10T19:59:29.388642Z"
    }
   },
   "outputs": [
    {
     "data": {
      "image/png": "[encoded data removed]",
      "text/plain": [
       "<Figure size 1080x2520 with 7 Axes>"
      ]
     },
     "metadata": {
      "needs_background": "light"
     },
     "output_type": "display_data"
    }
   ],
   "source": [
    "#Plotting a box plot to study central tendency\n",
    "plt.figure(figsize=(15,35))\n",
    "for i in range(len(Uni_num)):\n",
    "    plt.subplot(10,3,i+1)\n",
    "    sns.boxplot(df[Uni_num[i]],showmeans=True, color='yellow')\n",
    "    plt.tight_layout()\n",
    "    plt.title(Uni_num[i],fontsize=25)\n",
    "\n",
    "plt.show()"
   ]
  },
  {
   "cell_type": "markdown",
   "metadata": {},
   "source": [
    "**Observations:** From Both Histogram and Box plots :\n",
    "\n",
    "* Only Mileage has a somewhat normal distribution\n",
    "* Year is left-skewed and has comparatively less outliers in the lower end.\n",
    "* Engine & Power:\n",
    "    - Both columns are right-skwed with a moderate Inter-Quartile Range and several outliers at the higher scale.\n",
    "      Power has more outliers comapred to Engine. \n",
    "* Kilometer_Driven and Price:\n",
    "    - Both these columns are heavily right-skewed, with Kilometers_Driven having a very small IQR and one large outlier in the max end. Price column also has several outliers in the higher end. \n",
    "    We will treat these outliers as they might have adverse effect in the accuracy of the prediction. But sometimes outliers might have independent significance to the data.\n",
    "    So, We will also the building model to decide on the outlier treatment"
   ]
  },
  {
   "cell_type": "markdown",
   "metadata": {},
   "source": [
    "## Feature Engineering:\n",
    "\n",
    "### Grouping Location by Regions"
   ]
  },
  {
   "cell_type": "code",
   "execution_count": 35,
   "metadata": {
    "execution": {
     "iopub.execute_input": "2021-07-10T19:59:30.534107Z",
     "iopub.status.busy": "2021-07-10T19:59:30.533661Z",
     "iopub.status.idle": "2021-07-10T19:59:30.54533Z",
     "shell.execute_reply": "2021-07-10T19:59:30.544132Z",
     "shell.execute_reply.started": "2021-07-10T19:59:30.53406Z"
    }
   },
   "outputs": [],
   "source": [
    "regions ={'Delhi':'North','Jaipur':'North',\n",
    "          'Chennai':'South','Coimbatore':'South','Hyderabad':'South','Bangalore':'South','Kochi':'South',\n",
    "        'Kolkata':'East',\n",
    "         'Mumbai':'West','Pune':'West','Ahmedabad':'West'}\n",
    "df['Region']=df['Location'].replace(regions)"
   ]
  },
  {
   "cell_type": "markdown",
   "metadata": {},
   "source": [
    "### Binning the Car Names by different Price Levels:\n",
    "- We have 33 car brands and even higher individual models. \n",
    "- To manage the data subesequently, we will bin them according to their Price Ranges; from lower/economic cars to luxury/expensive cars\n",
    "- This will reduce total categories of Cars to just six."
   ]
  },
  {
   "cell_type": "code",
   "execution_count": 36,
   "metadata": {
    "execution": {
     "iopub.execute_input": "2021-07-10T19:59:30.547775Z",
     "iopub.status.busy": "2021-07-10T19:59:30.547095Z",
     "iopub.status.idle": "2021-07-10T19:59:30.565889Z",
     "shell.execute_reply": "2021-07-10T19:59:30.56455Z",
     "shell.execute_reply.started": "2021-07-10T19:59:30.547727Z"
    }
   },
   "outputs": [
    {
     "data": {
      "text/plain": [
       "Tier1    3638\n",
       "Tier2    1916\n",
       "Tier3     896\n",
       "Tier4     669\n",
       "Tier5     120\n",
       "Tier6      12\n",
       "Name: Car_Type, dtype: int64"
      ]
     },
     "execution_count": 36,
     "metadata": {},
     "output_type": "execute_result"
    }
   ],
   "source": [
    "df.drop([\"Car_Brand\",\"Model\"],axis=1,inplace=True) # no longer needed for Analysis\n",
    "df['Car_Type'] = pd.cut(df['Price'],[-np.inf,5.5,10.5,20.5,45.0,75.0,np.inf],\n",
    "                       labels=[\"Tier1\",\"Tier2\",\"Tier3\",\"Tier4\",\"Tier5\",\"Tier6\"])\n",
    "\n",
    "df['Car_Type'].value_counts()"
   ]
  },
  {
   "cell_type": "code",
   "execution_count": 37,
   "metadata": {
    "execution": {
     "iopub.execute_input": "2021-07-10T19:59:30.567448Z",
     "iopub.status.busy": "2021-07-10T19:59:30.567154Z",
     "iopub.status.idle": "2021-07-10T19:59:30.585306Z",
     "shell.execute_reply": "2021-07-10T19:59:30.584646Z",
     "shell.execute_reply.started": "2021-07-10T19:59:30.56742Z"
    }
   },
   "outputs": [
    {
     "data": {
      "text/html": [
       "<div>\n",
       "<style scoped>\n",
       "    .dataframe tbody tr th:only-of-type {\n",
       "        vertical-align: middle;\n",
       "    }\n",
       "\n",
       "    .dataframe tbody tr th {\n",
       "        vertical-align: top;\n",
       "    }\n",
       "\n",
       "    .dataframe thead th {\n",
       "        text-align: right;\n",
       "    }\n",
       "</style>\n",
       "<table border=\"1\" class=\"dataframe\">\n",
       "  <thead>\n",
       "    <tr style=\"text-align: right;\">\n",
       "      <th></th>\n",
       "      <th>Name</th>\n",
       "      <th>Location</th>\n",
       "      <th>Year</th>\n",
       "      <th>Kilometers_Driven</th>\n",
       "      <th>Fuel_Type</th>\n",
       "      <th>Transmission</th>\n",
       "      <th>Owner_Type</th>\n",
       "      <th>Mileage</th>\n",
       "      <th>Engine</th>\n",
       "      <th>Power</th>\n",
       "      <th>Seats</th>\n",
       "      <th>Price</th>\n",
       "      <th>Region</th>\n",
       "      <th>Car_Type</th>\n",
       "    </tr>\n",
       "  </thead>\n",
       "  <tbody>\n",
       "    <tr>\n",
       "      <th>6898</th>\n",
       "      <td>Ford EcoSport 1.5 Ti VCT MT Titanium</td>\n",
       "      <td>Coimbatore</td>\n",
       "      <td>2018</td>\n",
       "      <td>12899</td>\n",
       "      <td>Petrol</td>\n",
       "      <td>Manual</td>\n",
       "      <td>First</td>\n",
       "      <td>15.850</td>\n",
       "      <td>1499.000</td>\n",
       "      <td>110.400</td>\n",
       "      <td>5.000</td>\n",
       "      <td>5.750</td>\n",
       "      <td>South</td>\n",
       "      <td>Tier2</td>\n",
       "    </tr>\n",
       "  </tbody>\n",
       "</table>\n",
       "</div>"
      ],
      "text/plain": [
       "                                      Name    Location  Year  \\\n",
       "6898  Ford EcoSport 1.5 Ti VCT MT Titanium  Coimbatore  2018   \n",
       "\n",
       "      Kilometers_Driven Fuel_Type Transmission Owner_Type  Mileage   Engine  \\\n",
       "6898              12899    Petrol       Manual      First   15.850 1499.000   \n",
       "\n",
       "       Power  Seats  Price Region Car_Type  \n",
       "6898 110.400  5.000  5.750  South    Tier2  "
      ]
     },
     "execution_count": 37,
     "metadata": {},
     "output_type": "execute_result"
    }
   ],
   "source": [
    "df.sample()"
   ]
  },
  {
   "cell_type": "code",
   "execution_count": 38,
   "metadata": {
    "execution": {
     "iopub.execute_input": "2021-07-10T19:59:30.586778Z",
     "iopub.status.busy": "2021-07-10T19:59:30.586325Z",
     "iopub.status.idle": "2021-07-10T19:59:30.60166Z",
     "shell.execute_reply": "2021-07-10T19:59:30.600765Z",
     "shell.execute_reply.started": "2021-07-10T19:59:30.586735Z"
    }
   },
   "outputs": [],
   "source": [
    "#Univariate Analysis on Categorical Variables\n",
    "categorical_val = df.select_dtypes(exclude=np.number).columns.tolist()\n",
    "categorical_val.remove('Name')\n",
    "categorical_val.remove('Location')"
   ]
  },
  {
   "cell_type": "code",
   "execution_count": 39,
   "metadata": {
    "execution": {
     "iopub.execute_input": "2021-07-10T19:59:30.603156Z",
     "iopub.status.busy": "2021-07-10T19:59:30.602881Z",
     "iopub.status.idle": "2021-07-10T19:59:31.920071Z",
     "shell.execute_reply": "2021-07-10T19:59:31.91903Z",
     "shell.execute_reply.started": "2021-07-10T19:59:30.603129Z"
    }
   },
   "outputs": [
    {
     "data": {
      "image/png": "[encoded data removed]",
      "text/plain": [
       "<Figure size 1224x5400 with 5 Axes>"
      ]
     },
     "metadata": {
      "needs_background": "light"
     },
     "output_type": "display_data"
    }
   ],
   "source": [
    "plt.figure(figsize=(17,75))\n",
    "for i in range(len(categorical_val)):     #creating a loop that will show the plots for the columns in one plot\n",
    "    plt.subplot(18,3,i+1)\n",
    "    ax=sns.countplot(df[categorical_val[i]],palette='Dark2')\n",
    "    plt.tight_layout()\n",
    "    plt.title(categorical_val[i],fontsize=25)\n",
    "    total = len (df[categorical_val[i]])\n",
    "    for p in ax.patches:\n",
    "        percentage = '{:.1f}%'.format(100 * p.get_height()/total) # percentage of each class of the category\n",
    "        x = p.get_x() + (p.get_width() / 2)-0.1  # width of the plot\n",
    "        y = p.get_y() + p.get_height()           # hieght of the plot\n",
    "        ax.annotate(percentage, (x, y), size = 13.5,color='black') # To annonate\n",
    "\n",
    "plt.show()\n"
   ]
  },
  {
   "cell_type": "markdown",
   "metadata": {},
   "source": [
    "**Observations**:\n",
    "* 82.1% of all cars only have One previous owner.\n",
    "* 71% of the cars are of Manual Transmission and 47.6% of cars sold in South region.\n",
    "* We also see that about 49.6% of cars are in Tier1 i.e at Price below 5.5 Lakhs INR.\n",
    "* Diesel is the most Preferred Fuel_type at 53.1% followed by Petrol 45.8%.CNG and LPG(Gas-reliant) together make 1% of all cars. We are see that the Electric Fuel_Type is at 0.0%, Let's check that"
   ]
  },
  {
   "cell_type": "code",
   "execution_count": 40,
   "metadata": {
    "execution": {
     "iopub.execute_input": "2021-07-10T19:59:31.921904Z",
     "iopub.status.busy": "2021-07-10T19:59:31.921516Z",
     "iopub.status.idle": "2021-07-10T19:59:31.94134Z",
     "shell.execute_reply": "2021-07-10T19:59:31.940362Z",
     "shell.execute_reply.started": "2021-07-10T19:59:31.921861Z"
    }
   },
   "outputs": [
    {
     "data": {
      "text/html": [
       "<div>\n",
       "<style scoped>\n",
       "    .dataframe tbody tr th:only-of-type {\n",
       "        vertical-align: middle;\n",
       "    }\n",
       "\n",
       "    .dataframe tbody tr th {\n",
       "        vertical-align: top;\n",
       "    }\n",
       "\n",
       "    .dataframe thead th {\n",
       "        text-align: right;\n",
       "    }\n",
       "</style>\n",
       "<table border=\"1\" class=\"dataframe\">\n",
       "  <thead>\n",
       "    <tr style=\"text-align: right;\">\n",
       "      <th></th>\n",
       "      <th>Name</th>\n",
       "      <th>Location</th>\n",
       "      <th>Year</th>\n",
       "      <th>Kilometers_Driven</th>\n",
       "      <th>Fuel_Type</th>\n",
       "      <th>Transmission</th>\n",
       "      <th>Owner_Type</th>\n",
       "      <th>Mileage</th>\n",
       "      <th>Engine</th>\n",
       "      <th>Power</th>\n",
       "      <th>Seats</th>\n",
       "      <th>Price</th>\n",
       "      <th>Region</th>\n",
       "      <th>Car_Type</th>\n",
       "    </tr>\n",
       "  </thead>\n",
       "  <tbody>\n",
       "    <tr>\n",
       "      <th>4446</th>\n",
       "      <td>Mahindra E Verito D4</td>\n",
       "      <td>Chennai</td>\n",
       "      <td>2016</td>\n",
       "      <td>50000</td>\n",
       "      <td>Electric</td>\n",
       "      <td>Automatic</td>\n",
       "      <td>First</td>\n",
       "      <td>18.200</td>\n",
       "      <td>72.000</td>\n",
       "      <td>41.000</td>\n",
       "      <td>5.000</td>\n",
       "      <td>13.000</td>\n",
       "      <td>South</td>\n",
       "      <td>Tier3</td>\n",
       "    </tr>\n",
       "    <tr>\n",
       "      <th>4904</th>\n",
       "      <td>Toyota Prius 2009-2016 Z4</td>\n",
       "      <td>Mumbai</td>\n",
       "      <td>2011</td>\n",
       "      <td>44000</td>\n",
       "      <td>Electric</td>\n",
       "      <td>Automatic</td>\n",
       "      <td>First</td>\n",
       "      <td>18.200</td>\n",
       "      <td>1798.000</td>\n",
       "      <td>73.000</td>\n",
       "      <td>5.000</td>\n",
       "      <td>12.750</td>\n",
       "      <td>West</td>\n",
       "      <td>Tier3</td>\n",
       "    </tr>\n",
       "  </tbody>\n",
       "</table>\n",
       "</div>"
      ],
      "text/plain": [
       "                           Name Location  Year  Kilometers_Driven Fuel_Type  \\\n",
       "4446       Mahindra E Verito D4  Chennai  2016              50000  Electric   \n",
       "4904  Toyota Prius 2009-2016 Z4   Mumbai  2011              44000  Electric   \n",
       "\n",
       "     Transmission Owner_Type  Mileage   Engine  Power  Seats  Price Region  \\\n",
       "4446    Automatic      First   18.200   72.000 41.000  5.000 13.000  South   \n",
       "4904    Automatic      First   18.200 1798.000 73.000  5.000 12.750   West   \n",
       "\n",
       "     Car_Type  \n",
       "4446    Tier3  \n",
       "4904    Tier3  "
      ]
     },
     "execution_count": 40,
     "metadata": {},
     "output_type": "execute_result"
    }
   ],
   "source": [
    "df[df['Fuel_Type']=='Electric']"
   ]
  },
  {
   "cell_type": "markdown",
   "metadata": {},
   "source": [
    "- There are only two cars running in Electric Fuel in this dataset"
   ]
  },
  {
   "cell_type": "markdown",
   "metadata": {},
   "source": [
    "### Coorelation Matrix:"
   ]
  },
  {
   "cell_type": "code",
   "execution_count": 41,
   "metadata": {
    "execution": {
     "iopub.execute_input": "2021-07-10T19:59:31.942845Z",
     "iopub.status.busy": "2021-07-10T19:59:31.942553Z",
     "iopub.status.idle": "2021-07-10T19:59:32.436126Z",
     "shell.execute_reply": "2021-07-10T19:59:32.435239Z",
     "shell.execute_reply.started": "2021-07-10T19:59:31.942818Z"
    }
   },
   "outputs": [
    {
     "data": {
      "image/png": "[encoded data removed]",
      "text/plain": [
       "<Figure size 720x504 with 2 Axes>"
      ]
     },
     "metadata": {
      "needs_background": "light"
     },
     "output_type": "display_data"
    }
   ],
   "source": [
    "corr= df.corr().sort_values(by=['Price'],ascending=False) #coorelation matrix with respect to dependent variable Price\n",
    "plt.figure(figsize=(10,7))\n",
    "sns.heatmap(corr,annot= True,vmin=0,vmax=1, cmap='coolwarm',linewidths=0.75)\n",
    "plt.show()"
   ]
  },
  {
   "cell_type": "markdown",
   "metadata": {},
   "source": [
    "**Insights**:\n",
    "* Price has high positive correlation with Engine and Power and a lower positive correlation with Year.\n",
    "* Price has a lower negative correlation with Mileage \n",
    "* Engine and Power have a very high positive correlation.\n",
    "* Mileage has a high negative correlation with Engine and Power"
   ]
  },
  {
   "cell_type": "markdown",
   "metadata": {},
   "source": [
    "### Bivariate and Multivariate Analysis:"
   ]
  },
  {
   "cell_type": "code",
   "execution_count": 42,
   "metadata": {
    "execution": {
     "iopub.execute_input": "2021-07-10T19:59:32.437593Z",
     "iopub.status.busy": "2021-07-10T19:59:32.43734Z",
     "iopub.status.idle": "2021-07-10T19:59:32.957844Z",
     "shell.execute_reply": "2021-07-10T19:59:32.956572Z",
     "shell.execute_reply.started": "2021-07-10T19:59:32.437568Z"
    }
   },
   "outputs": [
    {
     "data": {
      "image/png": "[encoded data removed]",
      "text/plain": [
       "<Figure size 1080x504 with 1 Axes>"
      ]
     },
     "metadata": {
      "needs_background": "light"
     },
     "output_type": "display_data"
    }
   ],
   "source": [
    "#Analysis of variables that have high correlation with Price\n",
    "#Price Vs Engine Vs Region\n",
    "plt.figure(figsize=(15,7))\n",
    "sns.scatterplot(data=df,y='Price',x='Engine',hue='Region')\n",
    "plt.show()"
   ]
  },
  {
   "cell_type": "markdown",
   "metadata": {},
   "source": [
    "**Observations**:\n",
    "* We see that as Engine capacity increases Price of cars also increase.\n",
    "* We also notice several exceptions to the above case"
   ]
  },
  {
   "cell_type": "code",
   "execution_count": 43,
   "metadata": {
    "execution": {
     "iopub.execute_input": "2021-07-10T19:59:32.959945Z",
     "iopub.status.busy": "2021-07-10T19:59:32.959478Z",
     "iopub.status.idle": "2021-07-10T19:59:33.493674Z",
     "shell.execute_reply": "2021-07-10T19:59:33.492733Z",
     "shell.execute_reply.started": "2021-07-10T19:59:32.959902Z"
    }
   },
   "outputs": [
    {
     "data": {
      "image/png": "[encoded data removed]",
      "text/plain": [
       "<Figure size 1080x504 with 1 Axes>"
      ]
     },
     "metadata": {
      "needs_background": "light"
     },
     "output_type": "display_data"
    }
   ],
   "source": [
    "#Price Vs Power Vs Region\n",
    "plt.figure(figsize=(15,7))\n",
    "sns.scatterplot(data=df,y='Price',x='Power',hue='Region')\n",
    "plt.show()"
   ]
  },
  {
   "cell_type": "markdown",
   "metadata": {},
   "source": [
    "**Observations**:\n",
    "- Price does increase with Power, but we can also see several exceptions."
   ]
  },
  {
   "cell_type": "code",
   "execution_count": 44,
   "metadata": {
    "execution": {
     "iopub.execute_input": "2021-07-10T19:59:33.49529Z",
     "iopub.status.busy": "2021-07-10T19:59:33.495012Z",
     "iopub.status.idle": "2021-07-10T19:59:34.031853Z",
     "shell.execute_reply": "2021-07-10T19:59:34.030843Z",
     "shell.execute_reply.started": "2021-07-10T19:59:33.495263Z"
    }
   },
   "outputs": [
    {
     "data": {
      "image/png": "[encoded data removed]",
      "text/plain": [
       "<Figure size 1080x504 with 1 Axes>"
      ]
     },
     "metadata": {
      "needs_background": "light"
     },
     "output_type": "display_data"
    }
   ],
   "source": [
    "plt.figure(figsize=(15,7))\n",
    "sns.scatterplot(data=df,y='Engine',x='Power',hue='Car_Type')\n",
    "plt.show()"
   ]
  },
  {
   "cell_type": "markdown",
   "metadata": {},
   "source": [
    "**Observations**:\n",
    "- From the plot, we see that all three variables have a positive correlation.\n",
    "- This also suggest multicolinearity between Engine and Power, which must be addressed later"
   ]
  },
  {
   "cell_type": "code",
   "execution_count": 45,
   "metadata": {
    "execution": {
     "iopub.execute_input": "2021-07-10T19:59:34.033354Z",
     "iopub.status.busy": "2021-07-10T19:59:34.033083Z",
     "iopub.status.idle": "2021-07-10T19:59:34.521401Z",
     "shell.execute_reply": "2021-07-10T19:59:34.520536Z",
     "shell.execute_reply.started": "2021-07-10T19:59:34.033328Z"
    }
   },
   "outputs": [
    {
     "data": {
      "image/png": "[encoded data removed]",
      "text/plain": [
       "<Figure size 1080x504 with 1 Axes>"
      ]
     },
     "metadata": {
      "needs_background": "light"
     },
     "output_type": "display_data"
    }
   ],
   "source": [
    "#Price Vs Mileage Vs Region\n",
    "plt.figure(figsize=(15,7))\n",
    "sns.scatterplot(data=df,y='Price',x='Mileage',hue='Region')\n",
    "plt.show()"
   ]
  },
  {
   "cell_type": "markdown",
   "metadata": {},
   "source": [
    "**Observations**:\n",
    "* Price and Mileage have a negative correlation with a few exceptions"
   ]
  },
  {
   "cell_type": "code",
   "execution_count": 46,
   "metadata": {
    "execution": {
     "iopub.execute_input": "2021-07-10T19:59:36.290291Z",
     "iopub.status.busy": "2021-07-10T19:59:36.289998Z",
     "iopub.status.idle": "2021-07-10T19:59:37.014128Z",
     "shell.execute_reply": "2021-07-10T19:59:37.013389Z",
     "shell.execute_reply.started": "2021-07-10T19:59:36.290262Z"
    }
   },
   "outputs": [
    {
     "data": {
      "text/plain": [
       "<AxesSubplot:xlabel='Engine', ylabel='Mileage'>"
      ]
     },
     "execution_count": 46,
     "metadata": {},
     "output_type": "execute_result"
    },
    {
     "data": {
      "image/png": "[encoded data removed]",
      "text/plain": [
       "<Figure size 1080x504 with 1 Axes>"
      ]
     },
     "metadata": {
      "needs_background": "light"
     },
     "output_type": "display_data"
    }
   ],
   "source": [
    "#Engine Vs Mileage Vs Car_Type\n",
    "plt.figure(figsize=(15,7))\n",
    "sns.scatterplot(x='Engine', y='Mileage',hue='Car_Type',\n",
    "             data=df)"
   ]
  },
  {
   "cell_type": "markdown",
   "metadata": {},
   "source": [
    "**Observations**:\n",
    "- Most cars in Tier1 have less Engine CC and therefore Higher Mileage"
   ]
  },
  {
   "cell_type": "code",
   "execution_count": 47,
   "metadata": {
    "execution": {
     "iopub.execute_input": "2021-07-10T19:59:37.015436Z",
     "iopub.status.busy": "2021-07-10T19:59:37.015073Z",
     "iopub.status.idle": "2021-07-10T19:59:37.336142Z",
     "shell.execute_reply": "2021-07-10T19:59:37.335131Z",
     "shell.execute_reply.started": "2021-07-10T19:59:37.015408Z"
    }
   },
   "outputs": [
    {
     "data": {
      "image/png": "[encoded data removed]",
      "text/plain": [
       "<Figure size 720x504 with 2 Axes>"
      ]
     },
     "metadata": {
      "needs_background": "light"
     },
     "output_type": "display_data"
    }
   ],
   "source": [
    "#Does type of ownership affect Car price?\n",
    "df_hm =df.pivot_table(index = 'Region',columns ='Owner_Type',values =\"Price\",aggfunc=np.median)\n",
    "# Draw a heatmap \n",
    "plt.subplots(figsize=(10,7))\n",
    "sns.heatmap(df_hm,cmap='copper',linewidths=.5, annot=True);"
   ]
  },
  {
   "cell_type": "markdown",
   "metadata": {},
   "source": [
    "**Observations**:\n",
    "* Mean Price of cars decrease as number of ownership of cars increases across all regions\n",
    "* The South region also has the highest Median Price for Cars with only one previous owner, followed by West then North and East\n",
    "* We also see that in East there are only two Owner_types\n",
    "* This suggests that type of ownership does affects overall car price."
   ]
  },
  {
   "cell_type": "code",
   "execution_count": 48,
   "metadata": {
    "execution": {
     "iopub.execute_input": "2021-07-10T19:59:37.337735Z",
     "iopub.status.busy": "2021-07-10T19:59:37.337403Z",
     "iopub.status.idle": "2021-07-10T19:59:37.710447Z",
     "shell.execute_reply": "2021-07-10T19:59:37.709759Z",
     "shell.execute_reply.started": "2021-07-10T19:59:37.337704Z"
    }
   },
   "outputs": [
    {
     "data": {
      "text/plain": [
       "<AxesSubplot:xlabel='Fuel_Type', ylabel='Price'>"
      ]
     },
     "execution_count": 48,
     "metadata": {},
     "output_type": "execute_result"
    },
    {
     "data": {
      "image/png": "[encoded data removed]",
      "text/plain": [
       "<Figure size 504x360 with 1 Axes>"
      ]
     },
     "metadata": {
      "needs_background": "light"
     },
     "output_type": "display_data"
    }
   ],
   "source": [
    "#Does type of Fuel affect car price?\n",
    "plt.figure(figsize=(7,5))\n",
    "sns.barplot(data=df,x='Fuel_Type',y='Price')"
   ]
  },
  {
   "cell_type": "markdown",
   "metadata": {},
   "source": [
    "**Observations**: \n",
    "* Electric Car's have an equal Price range compared to Diesel.\n",
    "* We know that there are only two cars with Electric Fuel_Type in this data, which is a very small sample size.\n",
    "* Hence we will drop Fuel_Type while building the ML model, as it might affect the accuracy."
   ]
  },
  {
   "cell_type": "markdown",
   "metadata": {},
   "source": [
    "## Outliers Treatment"
   ]
  },
  {
   "cell_type": "code",
   "execution_count": 49,
   "metadata": {
    "execution": {
     "iopub.execute_input": "2021-07-10T19:59:37.711791Z",
     "iopub.status.busy": "2021-07-10T19:59:37.711411Z",
     "iopub.status.idle": "2021-07-10T19:59:37.717431Z",
     "shell.execute_reply": "2021-07-10T19:59:37.716715Z",
     "shell.execute_reply.started": "2021-07-10T19:59:37.711763Z"
    }
   },
   "outputs": [],
   "source": [
    "# Lets treat outliers by flooring and capping\n",
    "def treat_outliers(df,col):\n",
    "   \n",
    "    Q1=df[col].quantile(0.25) # 25th quantile\n",
    "    Q3=df[col].quantile(0.75)  # 75th quantile\n",
    "    IQR=Q3-Q1\n",
    "    Lower_Whisker = Q1 - 1.5*IQR \n",
    "    Upper_Whisker = Q3 + 1.5*IQR\n",
    "    df[col] = np.clip(df[col], Lower_Whisker, Upper_Whisker) # all the values samller than Lower_Whisker will be assigned value of Lower_whisker \n",
    "                                                            # and all the values above upper_whishker will be assigned value of upper_Whisker \n",
    "    return df\n",
    "\n",
    "def treat_outliers_all(df, col_list):\n",
    "    \n",
    "    for c in col_list:\n",
    "        df = treat_outliers(df,c)\n",
    "        \n",
    "        \n",
    "    return df    "
   ]
  },
  {
   "cell_type": "markdown",
   "metadata": {},
   "source": [
    "### We will build a Predictive model with and without treating the Outliers and compare it's performances to decide if the outliers have any adverse impact to the linear model."
   ]
  },
  {
   "cell_type": "code",
   "execution_count": 50,
   "metadata": {
    "execution": {
     "iopub.execute_input": "2021-07-10T19:59:37.71885Z",
     "iopub.status.busy": "2021-07-10T19:59:37.718423Z",
     "iopub.status.idle": "2021-07-10T19:59:37.743389Z",
     "shell.execute_reply": "2021-07-10T19:59:37.742656Z",
     "shell.execute_reply.started": "2021-07-10T19:59:37.71882Z"
    }
   },
   "outputs": [
    {
     "data": {
      "text/plain": [
       "['Kilometers_Driven', 'Engine', 'Power', 'Price']"
      ]
     },
     "execution_count": 50,
     "metadata": {},
     "output_type": "execute_result"
    }
   ],
   "source": [
    "df2=df.copy() #making the first copy\n",
    "numerical_col = df2.select_dtypes(include=np.number).columns.tolist()\n",
    "numerical_col.remove('Year')\n",
    "numerical_col.remove('Mileage')\n",
    "numerical_col.remove('Seats')  #Dropping Year,Mileage and Seats as they dont have very high outliers\n",
    "numerical_col\n"
   ]
  },
  {
   "cell_type": "code",
   "execution_count": 51,
   "metadata": {
    "execution": {
     "iopub.execute_input": "2021-07-10T19:59:37.744774Z",
     "iopub.status.busy": "2021-07-10T19:59:37.74435Z",
     "iopub.status.idle": "2021-07-10T19:59:37.762993Z",
     "shell.execute_reply": "2021-07-10T19:59:37.762054Z",
     "shell.execute_reply.started": "2021-07-10T19:59:37.744741Z"
    }
   },
   "outputs": [],
   "source": [
    "df2 = treat_outliers_all(df2,numerical_col) #treating outliers "
   ]
  },
  {
   "cell_type": "code",
   "execution_count": 52,
   "metadata": {
    "execution": {
     "iopub.execute_input": "2021-07-10T19:59:37.764506Z",
     "iopub.status.busy": "2021-07-10T19:59:37.764236Z",
     "iopub.status.idle": "2021-07-10T19:59:38.374322Z",
     "shell.execute_reply": "2021-07-10T19:59:38.373393Z",
     "shell.execute_reply.started": "2021-07-10T19:59:37.76448Z"
    }
   },
   "outputs": [
    {
     "data": {
      "image/png": "[encoded data removed]",
      "text/plain": [
       "<Figure size 1080x2520 with 4 Axes>"
      ]
     },
     "metadata": {
      "needs_background": "light"
     },
     "output_type": "display_data"
    }
   ],
   "source": [
    "#checking if the outliers are treated\n",
    "plt.figure(figsize=(15,35))\n",
    "for i in range(len(numerical_col)):\n",
    "    plt.subplot(10,3,i+1)\n",
    "    sns.boxplot(df2[numerical_col[i]],showmeans=True, color='yellow')\n",
    "    plt.tight_layout()\n",
    "    plt.title(numerical_col[i],fontsize=25)\n",
    "\n",
    "plt.show()"
   ]
  },
  {
   "cell_type": "markdown",
   "metadata": {},
   "source": [
    "**Observations:**\n",
    "- The Outliers for Engine, Price, Power and Kilometers_driven is treated\n",
    "- We will build a model with this treated dataset to analyse the Price"
   ]
  },
  {
   "cell_type": "markdown",
   "metadata": {},
   "source": [
    "## Model Building 1 - With Treated Outliers"
   ]
  },
  {
   "cell_type": "code",
   "execution_count": 53,
   "metadata": {
    "execution": {
     "iopub.execute_input": "2021-07-10T19:59:38.375589Z",
     "iopub.status.busy": "2021-07-10T19:59:38.375326Z",
     "iopub.status.idle": "2021-07-10T19:59:38.39389Z",
     "shell.execute_reply": "2021-07-10T19:59:38.393189Z",
     "shell.execute_reply.started": "2021-07-10T19:59:38.375563Z"
    }
   },
   "outputs": [
    {
     "data": {
      "text/html": [
       "<div>\n",
       "<style scoped>\n",
       "    .dataframe tbody tr th:only-of-type {\n",
       "        vertical-align: middle;\n",
       "    }\n",
       "\n",
       "    .dataframe tbody tr th {\n",
       "        vertical-align: top;\n",
       "    }\n",
       "\n",
       "    .dataframe thead th {\n",
       "        text-align: right;\n",
       "    }\n",
       "</style>\n",
       "<table border=\"1\" class=\"dataframe\">\n",
       "  <thead>\n",
       "    <tr style=\"text-align: right;\">\n",
       "      <th></th>\n",
       "      <th>Name</th>\n",
       "      <th>Location</th>\n",
       "      <th>Year</th>\n",
       "      <th>Kilometers_Driven</th>\n",
       "      <th>Fuel_Type</th>\n",
       "      <th>Transmission</th>\n",
       "      <th>Owner_Type</th>\n",
       "      <th>Mileage</th>\n",
       "      <th>Engine</th>\n",
       "      <th>Power</th>\n",
       "      <th>Seats</th>\n",
       "      <th>Price</th>\n",
       "      <th>Region</th>\n",
       "      <th>Car_Type</th>\n",
       "    </tr>\n",
       "  </thead>\n",
       "  <tbody>\n",
       "    <tr>\n",
       "      <th>0</th>\n",
       "      <td>Maruti Wagon R LXI CNG</td>\n",
       "      <td>Mumbai</td>\n",
       "      <td>2010</td>\n",
       "      <td>72000</td>\n",
       "      <td>CNG</td>\n",
       "      <td>Manual</td>\n",
       "      <td>First</td>\n",
       "      <td>26.600</td>\n",
       "      <td>998.000</td>\n",
       "      <td>58.160</td>\n",
       "      <td>5.000</td>\n",
       "      <td>1.750</td>\n",
       "      <td>West</td>\n",
       "      <td>Tier1</td>\n",
       "    </tr>\n",
       "    <tr>\n",
       "      <th>1</th>\n",
       "      <td>Hyundai Creta 1.6 CRDi SX Option</td>\n",
       "      <td>Pune</td>\n",
       "      <td>2015</td>\n",
       "      <td>41000</td>\n",
       "      <td>Diesel</td>\n",
       "      <td>Manual</td>\n",
       "      <td>First</td>\n",
       "      <td>19.670</td>\n",
       "      <td>1582.000</td>\n",
       "      <td>126.200</td>\n",
       "      <td>5.000</td>\n",
       "      <td>12.500</td>\n",
       "      <td>West</td>\n",
       "      <td>Tier3</td>\n",
       "    </tr>\n",
       "    <tr>\n",
       "      <th>2</th>\n",
       "      <td>Honda Jazz V</td>\n",
       "      <td>Chennai</td>\n",
       "      <td>2011</td>\n",
       "      <td>46000</td>\n",
       "      <td>Petrol</td>\n",
       "      <td>Manual</td>\n",
       "      <td>First</td>\n",
       "      <td>18.200</td>\n",
       "      <td>1199.000</td>\n",
       "      <td>88.700</td>\n",
       "      <td>5.000</td>\n",
       "      <td>4.500</td>\n",
       "      <td>South</td>\n",
       "      <td>Tier1</td>\n",
       "    </tr>\n",
       "    <tr>\n",
       "      <th>3</th>\n",
       "      <td>Maruti Ertiga VDI</td>\n",
       "      <td>Chennai</td>\n",
       "      <td>2012</td>\n",
       "      <td>87000</td>\n",
       "      <td>Diesel</td>\n",
       "      <td>Manual</td>\n",
       "      <td>First</td>\n",
       "      <td>20.770</td>\n",
       "      <td>1248.000</td>\n",
       "      <td>88.760</td>\n",
       "      <td>7.000</td>\n",
       "      <td>6.000</td>\n",
       "      <td>South</td>\n",
       "      <td>Tier2</td>\n",
       "    </tr>\n",
       "    <tr>\n",
       "      <th>4</th>\n",
       "      <td>Audi A4 New 2.0 TDI Multitronic</td>\n",
       "      <td>Coimbatore</td>\n",
       "      <td>2013</td>\n",
       "      <td>40670</td>\n",
       "      <td>Diesel</td>\n",
       "      <td>Automatic</td>\n",
       "      <td>Second</td>\n",
       "      <td>15.200</td>\n",
       "      <td>1968.000</td>\n",
       "      <td>140.800</td>\n",
       "      <td>5.000</td>\n",
       "      <td>17.740</td>\n",
       "      <td>South</td>\n",
       "      <td>Tier3</td>\n",
       "    </tr>\n",
       "  </tbody>\n",
       "</table>\n",
       "</div>"
      ],
      "text/plain": [
       "                               Name    Location  Year  Kilometers_Driven  \\\n",
       "0            Maruti Wagon R LXI CNG      Mumbai  2010              72000   \n",
       "1  Hyundai Creta 1.6 CRDi SX Option        Pune  2015              41000   \n",
       "2                      Honda Jazz V     Chennai  2011              46000   \n",
       "3                 Maruti Ertiga VDI     Chennai  2012              87000   \n",
       "4   Audi A4 New 2.0 TDI Multitronic  Coimbatore  2013              40670   \n",
       "\n",
       "  Fuel_Type Transmission Owner_Type  Mileage   Engine   Power  Seats  Price  \\\n",
       "0       CNG       Manual      First   26.600  998.000  58.160  5.000  1.750   \n",
       "1    Diesel       Manual      First   19.670 1582.000 126.200  5.000 12.500   \n",
       "2    Petrol       Manual      First   18.200 1199.000  88.700  5.000  4.500   \n",
       "3    Diesel       Manual      First   20.770 1248.000  88.760  7.000  6.000   \n",
       "4    Diesel    Automatic     Second   15.200 1968.000 140.800  5.000 17.740   \n",
       "\n",
       "  Region Car_Type  \n",
       "0   West    Tier1  \n",
       "1   West    Tier3  \n",
       "2  South    Tier1  \n",
       "3  South    Tier2  \n",
       "4  South    Tier3  "
      ]
     },
     "execution_count": 53,
     "metadata": {},
     "output_type": "execute_result"
    }
   ],
   "source": [
    "df2.head()"
   ]
  },
  {
   "cell_type": "code",
   "execution_count": 54,
   "metadata": {
    "execution": {
     "iopub.execute_input": "2021-07-10T19:59:38.395289Z",
     "iopub.status.busy": "2021-07-10T19:59:38.394892Z",
     "iopub.status.idle": "2021-07-10T19:59:38.406225Z",
     "shell.execute_reply": "2021-07-10T19:59:38.405442Z",
     "shell.execute_reply.started": "2021-07-10T19:59:38.39526Z"
    }
   },
   "outputs": [],
   "source": [
    "#Defining X and y variables"
   ]
  },
  {
   "cell_type": "code",
   "execution_count": 55,
   "metadata": {
    "execution": {
     "iopub.execute_input": "2021-07-10T19:59:38.408291Z",
     "iopub.status.busy": "2021-07-10T19:59:38.407656Z",
     "iopub.status.idle": "2021-07-10T19:59:38.422065Z",
     "shell.execute_reply": "2021-07-10T19:59:38.420924Z",
     "shell.execute_reply.started": "2021-07-10T19:59:38.408253Z"
    }
   },
   "outputs": [
    {
     "name": "stdout",
     "output_type": "stream",
     "text": [
      "(7251, 10)\n",
      "(7251, 1)\n"
     ]
    }
   ],
   "source": [
    "X = df2.drop(['Name','Fuel_Type','Location','Price'], axis=1)\n",
    "#dropping Name as we bins via Car_Type\n",
    "#dropping Fuel_Type to not affect the accuracy of the model\n",
    "y = df2[['Price']]\n",
    "\n",
    "print(X.shape)\n",
    "print(y.shape)"
   ]
  },
  {
   "cell_type": "code",
   "execution_count": 56,
   "metadata": {
    "execution": {
     "iopub.execute_input": "2021-07-10T19:59:38.423877Z",
     "iopub.status.busy": "2021-07-10T19:59:38.423498Z",
     "iopub.status.idle": "2021-07-10T19:59:38.45558Z",
     "shell.execute_reply": "2021-07-10T19:59:38.454761Z",
     "shell.execute_reply.started": "2021-07-10T19:59:38.423835Z"
    }
   },
   "outputs": [
    {
     "data": {
      "text/html": [
       "<div>\n",
       "<style scoped>\n",
       "    .dataframe tbody tr th:only-of-type {\n",
       "        vertical-align: middle;\n",
       "    }\n",
       "\n",
       "    .dataframe tbody tr th {\n",
       "        vertical-align: top;\n",
       "    }\n",
       "\n",
       "    .dataframe thead th {\n",
       "        text-align: right;\n",
       "    }\n",
       "</style>\n",
       "<table border=\"1\" class=\"dataframe\">\n",
       "  <thead>\n",
       "    <tr style=\"text-align: right;\">\n",
       "      <th></th>\n",
       "      <th>Year</th>\n",
       "      <th>Kilometers_Driven</th>\n",
       "      <th>Mileage</th>\n",
       "      <th>Engine</th>\n",
       "      <th>Power</th>\n",
       "      <th>Seats</th>\n",
       "      <th>Transmission_Manual</th>\n",
       "      <th>Owner_Type_Fourth &amp; Above</th>\n",
       "      <th>Owner_Type_Second</th>\n",
       "      <th>Owner_Type_Third</th>\n",
       "      <th>Region_North</th>\n",
       "      <th>Region_South</th>\n",
       "      <th>Region_West</th>\n",
       "      <th>Car_Type_Tier2</th>\n",
       "      <th>Car_Type_Tier3</th>\n",
       "      <th>Car_Type_Tier4</th>\n",
       "      <th>Car_Type_Tier5</th>\n",
       "      <th>Car_Type_Tier6</th>\n",
       "    </tr>\n",
       "  </thead>\n",
       "  <tbody>\n",
       "    <tr>\n",
       "      <th>0</th>\n",
       "      <td>2010</td>\n",
       "      <td>72000</td>\n",
       "      <td>26.600</td>\n",
       "      <td>998.000</td>\n",
       "      <td>58.160</td>\n",
       "      <td>5.000</td>\n",
       "      <td>1</td>\n",
       "      <td>0</td>\n",
       "      <td>0</td>\n",
       "      <td>0</td>\n",
       "      <td>0</td>\n",
       "      <td>0</td>\n",
       "      <td>1</td>\n",
       "      <td>0</td>\n",
       "      <td>0</td>\n",
       "      <td>0</td>\n",
       "      <td>0</td>\n",
       "      <td>0</td>\n",
       "    </tr>\n",
       "    <tr>\n",
       "      <th>1</th>\n",
       "      <td>2015</td>\n",
       "      <td>41000</td>\n",
       "      <td>19.670</td>\n",
       "      <td>1582.000</td>\n",
       "      <td>126.200</td>\n",
       "      <td>5.000</td>\n",
       "      <td>1</td>\n",
       "      <td>0</td>\n",
       "      <td>0</td>\n",
       "      <td>0</td>\n",
       "      <td>0</td>\n",
       "      <td>0</td>\n",
       "      <td>1</td>\n",
       "      <td>0</td>\n",
       "      <td>1</td>\n",
       "      <td>0</td>\n",
       "      <td>0</td>\n",
       "      <td>0</td>\n",
       "    </tr>\n",
       "    <tr>\n",
       "      <th>2</th>\n",
       "      <td>2011</td>\n",
       "      <td>46000</td>\n",
       "      <td>18.200</td>\n",
       "      <td>1199.000</td>\n",
       "      <td>88.700</td>\n",
       "      <td>5.000</td>\n",
       "      <td>1</td>\n",
       "      <td>0</td>\n",
       "      <td>0</td>\n",
       "      <td>0</td>\n",
       "      <td>0</td>\n",
       "      <td>1</td>\n",
       "      <td>0</td>\n",
       "      <td>0</td>\n",
       "      <td>0</td>\n",
       "      <td>0</td>\n",
       "      <td>0</td>\n",
       "      <td>0</td>\n",
       "    </tr>\n",
       "    <tr>\n",
       "      <th>3</th>\n",
       "      <td>2012</td>\n",
       "      <td>87000</td>\n",
       "      <td>20.770</td>\n",
       "      <td>1248.000</td>\n",
       "      <td>88.760</td>\n",
       "      <td>7.000</td>\n",
       "      <td>1</td>\n",
       "      <td>0</td>\n",
       "      <td>0</td>\n",
       "      <td>0</td>\n",
       "      <td>0</td>\n",
       "      <td>1</td>\n",
       "      <td>0</td>\n",
       "      <td>1</td>\n",
       "      <td>0</td>\n",
       "      <td>0</td>\n",
       "      <td>0</td>\n",
       "      <td>0</td>\n",
       "    </tr>\n",
       "    <tr>\n",
       "      <th>4</th>\n",
       "      <td>2013</td>\n",
       "      <td>40670</td>\n",
       "      <td>15.200</td>\n",
       "      <td>1968.000</td>\n",
       "      <td>140.800</td>\n",
       "      <td>5.000</td>\n",
       "      <td>0</td>\n",
       "      <td>0</td>\n",
       "      <td>1</td>\n",
       "      <td>0</td>\n",
       "      <td>0</td>\n",
       "      <td>1</td>\n",
       "      <td>0</td>\n",
       "      <td>0</td>\n",
       "      <td>1</td>\n",
       "      <td>0</td>\n",
       "      <td>0</td>\n",
       "      <td>0</td>\n",
       "    </tr>\n",
       "  </tbody>\n",
       "</table>\n",
       "</div>"
      ],
      "text/plain": [
       "   Year  Kilometers_Driven  Mileage   Engine   Power  Seats  \\\n",
       "0  2010              72000   26.600  998.000  58.160  5.000   \n",
       "1  2015              41000   19.670 1582.000 126.200  5.000   \n",
       "2  2011              46000   18.200 1199.000  88.700  5.000   \n",
       "3  2012              87000   20.770 1248.000  88.760  7.000   \n",
       "4  2013              40670   15.200 1968.000 140.800  5.000   \n",
       "\n",
       "   Transmission_Manual  Owner_Type_Fourth & Above  Owner_Type_Second  \\\n",
       "0                    1                          0                  0   \n",
       "1                    1                          0                  0   \n",
       "2                    1                          0                  0   \n",
       "3                    1                          0                  0   \n",
       "4                    0                          0                  1   \n",
       "\n",
       "   Owner_Type_Third  Region_North  Region_South  Region_West  Car_Type_Tier2  \\\n",
       "0                 0             0             0            1               0   \n",
       "1                 0             0             0            1               0   \n",
       "2                 0             0             1            0               0   \n",
       "3                 0             0             1            0               1   \n",
       "4                 0             0             1            0               0   \n",
       "\n",
       "   Car_Type_Tier3  Car_Type_Tier4  Car_Type_Tier5  Car_Type_Tier6  \n",
       "0               0               0               0               0  \n",
       "1               1               0               0               0  \n",
       "2               0               0               0               0  \n",
       "3               0               0               0               0  \n",
       "4               1               0               0               0  "
      ]
     },
     "execution_count": 56,
     "metadata": {},
     "output_type": "execute_result"
    }
   ],
   "source": [
    "#Creating Dummy Variabls for the Categorical Columns\n",
    "#Dummy variable will be used as independent variables and will not impose any ranking\n",
    "X = pd.get_dummies(X, columns=['Transmission','Owner_Type','Region','Car_Type'], drop_first=True)\n",
    "X.head()"
   ]
  },
  {
   "cell_type": "code",
   "execution_count": 57,
   "metadata": {
    "execution": {
     "iopub.execute_input": "2021-07-10T19:59:38.457002Z",
     "iopub.status.busy": "2021-07-10T19:59:38.456728Z",
     "iopub.status.idle": "2021-07-10T19:59:38.7863Z",
     "shell.execute_reply": "2021-07-10T19:59:38.785217Z",
     "shell.execute_reply.started": "2021-07-10T19:59:38.456976Z"
    }
   },
   "outputs": [
    {
     "data": {
      "text/html": [
       "<div>\n",
       "<style scoped>\n",
       "    .dataframe tbody tr th:only-of-type {\n",
       "        vertical-align: middle;\n",
       "    }\n",
       "\n",
       "    .dataframe tbody tr th {\n",
       "        vertical-align: top;\n",
       "    }\n",
       "\n",
       "    .dataframe thead th {\n",
       "        text-align: right;\n",
       "    }\n",
       "</style>\n",
       "<table border=\"1\" class=\"dataframe\">\n",
       "  <thead>\n",
       "    <tr style=\"text-align: right;\">\n",
       "      <th></th>\n",
       "      <th>Year</th>\n",
       "      <th>Kilometers_Driven</th>\n",
       "      <th>Mileage</th>\n",
       "      <th>Engine</th>\n",
       "      <th>Power</th>\n",
       "      <th>Seats</th>\n",
       "      <th>Transmission_Manual</th>\n",
       "      <th>Owner_Type_Fourth &amp; Above</th>\n",
       "      <th>Owner_Type_Second</th>\n",
       "      <th>Owner_Type_Third</th>\n",
       "      <th>Region_North</th>\n",
       "      <th>Region_South</th>\n",
       "      <th>Region_West</th>\n",
       "      <th>Car_Type_Tier2</th>\n",
       "      <th>Car_Type_Tier3</th>\n",
       "      <th>Car_Type_Tier4</th>\n",
       "      <th>Car_Type_Tier5</th>\n",
       "      <th>Car_Type_Tier6</th>\n",
       "    </tr>\n",
       "  </thead>\n",
       "  <tbody>\n",
       "    <tr>\n",
       "      <th>1928</th>\n",
       "      <td>2016</td>\n",
       "      <td>55100</td>\n",
       "      <td>17.010</td>\n",
       "      <td>1582.000</td>\n",
       "      <td>126.200</td>\n",
       "      <td>5.000</td>\n",
       "      <td>0</td>\n",
       "      <td>0</td>\n",
       "      <td>0</td>\n",
       "      <td>0</td>\n",
       "      <td>0</td>\n",
       "      <td>0</td>\n",
       "      <td>1</td>\n",
       "      <td>0</td>\n",
       "      <td>1</td>\n",
       "      <td>0</td>\n",
       "      <td>0</td>\n",
       "      <td>0</td>\n",
       "    </tr>\n",
       "    <tr>\n",
       "      <th>6278</th>\n",
       "      <td>2012</td>\n",
       "      <td>90000</td>\n",
       "      <td>23.590</td>\n",
       "      <td>1364.000</td>\n",
       "      <td>94.000</td>\n",
       "      <td>5.000</td>\n",
       "      <td>1</td>\n",
       "      <td>0</td>\n",
       "      <td>0</td>\n",
       "      <td>0</td>\n",
       "      <td>0</td>\n",
       "      <td>1</td>\n",
       "      <td>0</td>\n",
       "      <td>0</td>\n",
       "      <td>0</td>\n",
       "      <td>0</td>\n",
       "      <td>0</td>\n",
       "      <td>0</td>\n",
       "    </tr>\n",
       "    <tr>\n",
       "      <th>22</th>\n",
       "      <td>2015</td>\n",
       "      <td>55985</td>\n",
       "      <td>13.530</td>\n",
       "      <td>1984.000</td>\n",
       "      <td>177.010</td>\n",
       "      <td>5.000</td>\n",
       "      <td>0</td>\n",
       "      <td>0</td>\n",
       "      <td>0</td>\n",
       "      <td>0</td>\n",
       "      <td>0</td>\n",
       "      <td>0</td>\n",
       "      <td>1</td>\n",
       "      <td>0</td>\n",
       "      <td>0</td>\n",
       "      <td>1</td>\n",
       "      <td>0</td>\n",
       "      <td>0</td>\n",
       "    </tr>\n",
       "    <tr>\n",
       "      <th>5925</th>\n",
       "      <td>2010</td>\n",
       "      <td>85000</td>\n",
       "      <td>17.500</td>\n",
       "      <td>1798.000</td>\n",
       "      <td>94.000</td>\n",
       "      <td>5.000</td>\n",
       "      <td>1</td>\n",
       "      <td>0</td>\n",
       "      <td>0</td>\n",
       "      <td>0</td>\n",
       "      <td>0</td>\n",
       "      <td>0</td>\n",
       "      <td>1</td>\n",
       "      <td>0</td>\n",
       "      <td>0</td>\n",
       "      <td>0</td>\n",
       "      <td>0</td>\n",
       "      <td>0</td>\n",
       "    </tr>\n",
       "    <tr>\n",
       "      <th>5762</th>\n",
       "      <td>2014</td>\n",
       "      <td>51000</td>\n",
       "      <td>27.030</td>\n",
       "      <td>1969.000</td>\n",
       "      <td>190.000</td>\n",
       "      <td>5.000</td>\n",
       "      <td>0</td>\n",
       "      <td>0</td>\n",
       "      <td>0</td>\n",
       "      <td>0</td>\n",
       "      <td>0</td>\n",
       "      <td>1</td>\n",
       "      <td>0</td>\n",
       "      <td>0</td>\n",
       "      <td>0</td>\n",
       "      <td>1</td>\n",
       "      <td>0</td>\n",
       "      <td>0</td>\n",
       "    </tr>\n",
       "  </tbody>\n",
       "</table>\n",
       "</div>"
      ],
      "text/plain": [
       "      Year  Kilometers_Driven  Mileage   Engine   Power  Seats  \\\n",
       "1928  2016              55100   17.010 1582.000 126.200  5.000   \n",
       "6278  2012              90000   23.590 1364.000  94.000  5.000   \n",
       "22    2015              55985   13.530 1984.000 177.010  5.000   \n",
       "5925  2010              85000   17.500 1798.000  94.000  5.000   \n",
       "5762  2014              51000   27.030 1969.000 190.000  5.000   \n",
       "\n",
       "      Transmission_Manual  Owner_Type_Fourth & Above  Owner_Type_Second  \\\n",
       "1928                    0                          0                  0   \n",
       "6278                    1                          0                  0   \n",
       "22                      0                          0                  0   \n",
       "5925                    1                          0                  0   \n",
       "5762                    0                          0                  0   \n",
       "\n",
       "      Owner_Type_Third  Region_North  Region_South  Region_West  \\\n",
       "1928                 0             0             0            1   \n",
       "6278                 0             0             1            0   \n",
       "22                   0             0             0            1   \n",
       "5925                 0             0             0            1   \n",
       "5762                 0             0             1            0   \n",
       "\n",
       "      Car_Type_Tier2  Car_Type_Tier3  Car_Type_Tier4  Car_Type_Tier5  \\\n",
       "1928               0               1               0               0   \n",
       "6278               0               0               0               0   \n",
       "22                 0               0               1               0   \n",
       "5925               0               0               0               0   \n",
       "5762               0               0               1               0   \n",
       "\n",
       "      Car_Type_Tier6  \n",
       "1928               0  \n",
       "6278               0  \n",
       "22                 0  \n",
       "5925               0  \n",
       "5762               0  "
      ]
     },
     "execution_count": 57,
     "metadata": {},
     "output_type": "execute_result"
    }
   ],
   "source": [
    "#split the data into train and test\n",
    "from sklearn.model_selection import train_test_split\n",
    "X_train, X_test, y_train, y_test = train_test_split(X, y, test_size=0.3, random_state=56) # keeping random_state =56 ensuring datasplit remains consistent\n",
    "X_train.head()"
   ]
  },
  {
   "cell_type": "code",
   "execution_count": 58,
   "metadata": {
    "execution": {
     "iopub.execute_input": "2021-07-10T19:59:38.788627Z",
     "iopub.status.busy": "2021-07-10T19:59:38.788004Z",
     "iopub.status.idle": "2021-07-10T19:59:39.034525Z",
     "shell.execute_reply": "2021-07-10T19:59:39.033491Z",
     "shell.execute_reply.started": "2021-07-10T19:59:38.788575Z"
    }
   },
   "outputs": [
    {
     "name": "stdout",
     "output_type": "stream",
     "text": [
      "Intercept of the linear equation: [-404.87654936]\n",
      "The coefficient for Year is 0.2014249816152111\n",
      "The coefficient for Kilometers_Driven is -1.6203755332221658e-06\n",
      "The coefficient for Mileage is 0.04349748263038988\n",
      "The coefficient for Engine is 0.0007955011277483536\n",
      "The coefficient for Power is 0.01600544024152847\n",
      "The coefficient for Seats is 0.07091913468838681\n",
      "The coefficient for Transmission_Manual is -0.742296150230075\n",
      "The coefficient for Owner_Type_Fourth & Above is 0.540648125919407\n",
      "The coefficient for Owner_Type_Second is -0.09782155395636077\n",
      "The coefficient for Owner_Type_Third is -0.23169983508214276\n",
      "The coefficient for Region_North is 0.21245763647508514\n",
      "The coefficient for Region_South is 0.38988114099756693\n",
      "The coefficient for Region_West is 0.26965728280937423\n",
      "The coefficient for Car_Type_Tier2 is 2.603325608632856\n",
      "The coefficient for Car_Type_Tier3 is 8.59866532891517\n",
      "The coefficient for Car_Type_Tier4 is 12.049331760790816\n",
      "The coefficient for Car_Type_Tier5 is 10.894805905199393\n",
      "The coefficient for Car_Type_Tier6 is 10.584283476822169\n"
     ]
    }
   ],
   "source": [
    "#Fitting linear model\n",
    "\n",
    "from sklearn.linear_model import LinearRegression\n",
    "linearregression = LinearRegression()                                    \n",
    "linearregression.fit(X_train, y_train)\n",
    "print(\"Intercept of the linear equation:\", linearregression.intercept_) \n",
    "for idx, col_name in enumerate(X_train.columns):\n",
    "    print(\"The coefficient for {} is {}\".format(col_name, linearregression.coef_[0][idx]))\n",
    "                         "
   ]
  },
  {
   "cell_type": "code",
   "execution_count": 59,
   "metadata": {
    "execution": {
     "iopub.execute_input": "2021-07-10T19:59:39.036463Z",
     "iopub.status.busy": "2021-07-10T19:59:39.0359Z",
     "iopub.status.idle": "2021-07-10T19:59:39.052534Z",
     "shell.execute_reply": "2021-07-10T19:59:39.051844Z",
     "shell.execute_reply.started": "2021-07-10T19:59:39.036418Z"
    }
   },
   "outputs": [],
   "source": [
    "from sklearn.metrics import mean_absolute_error, mean_squared_error, r2_score\n",
    "\n",
    "pred = linearregression.predict(X_test) "
   ]
  },
  {
   "cell_type": "markdown",
   "metadata": {},
   "source": [
    "### Model Performances:"
   ]
  },
  {
   "cell_type": "code",
   "execution_count": 60,
   "metadata": {
    "execution": {
     "iopub.execute_input": "2021-07-10T19:59:39.056116Z",
     "iopub.status.busy": "2021-07-10T19:59:39.054142Z",
     "iopub.status.idle": "2021-07-10T19:59:39.070512Z",
     "shell.execute_reply": "2021-07-10T19:59:39.069109Z",
     "shell.execute_reply.started": "2021-07-10T19:59:39.056064Z"
    }
   },
   "outputs": [
    {
     "data": {
      "text/plain": [
       "0.8903015607952992"
      ]
     },
     "execution_count": 60,
     "metadata": {},
     "output_type": "execute_result"
    }
   ],
   "source": [
    "# Mean Absolute Error on test\n",
    "mean_absolute_error(y_test, pred)"
   ]
  },
  {
   "cell_type": "code",
   "execution_count": 61,
   "metadata": {
    "execution": {
     "iopub.execute_input": "2021-07-10T19:59:39.072817Z",
     "iopub.status.busy": "2021-07-10T19:59:39.072154Z",
     "iopub.status.idle": "2021-07-10T19:59:39.085081Z",
     "shell.execute_reply": "2021-07-10T19:59:39.084022Z",
     "shell.execute_reply.started": "2021-07-10T19:59:39.072761Z"
    }
   },
   "outputs": [
    {
     "data": {
      "text/plain": [
       "1.2151844128866212"
      ]
     },
     "execution_count": 61,
     "metadata": {},
     "output_type": "execute_result"
    }
   ],
   "source": [
    "# RMSE on test data\n",
    "mean_squared_error(y_test, pred)**0.5"
   ]
  },
  {
   "cell_type": "code",
   "execution_count": 62,
   "metadata": {
    "execution": {
     "iopub.execute_input": "2021-07-10T19:59:39.086995Z",
     "iopub.status.busy": "2021-07-10T19:59:39.086366Z",
     "iopub.status.idle": "2021-07-10T19:59:39.101473Z",
     "shell.execute_reply": "2021-07-10T19:59:39.100416Z",
     "shell.execute_reply.started": "2021-07-10T19:59:39.086953Z"
    }
   },
   "outputs": [
    {
     "data": {
      "text/plain": [
       "0.953619392106915"
      ]
     },
     "execution_count": 62,
     "metadata": {},
     "output_type": "execute_result"
    }
   ],
   "source": [
    "# R-squared on test\n",
    "r2_score(y_test, pred)"
   ]
  },
  {
   "cell_type": "code",
   "execution_count": 63,
   "metadata": {
    "execution": {
     "iopub.execute_input": "2021-07-10T19:59:39.107789Z",
     "iopub.status.busy": "2021-07-10T19:59:39.106358Z",
     "iopub.status.idle": "2021-07-10T19:59:39.12591Z",
     "shell.execute_reply": "2021-07-10T19:59:39.124803Z",
     "shell.execute_reply.started": "2021-07-10T19:59:39.107733Z"
    }
   },
   "outputs": [
    {
     "data": {
      "text/plain": [
       "0.9520061630151408"
      ]
     },
     "execution_count": 63,
     "metadata": {},
     "output_type": "execute_result"
    }
   ],
   "source": [
    "# Training Score\n",
    "\n",
    "linearregression.score(X_train, y_train)  # 70 % data "
   ]
  },
  {
   "cell_type": "code",
   "execution_count": 64,
   "metadata": {
    "execution": {
     "iopub.execute_input": "2021-07-10T19:59:39.128191Z",
     "iopub.status.busy": "2021-07-10T19:59:39.127524Z",
     "iopub.status.idle": "2021-07-10T19:59:39.144378Z",
     "shell.execute_reply": "2021-07-10T19:59:39.142799Z",
     "shell.execute_reply.started": "2021-07-10T19:59:39.128147Z"
    }
   },
   "outputs": [
    {
     "data": {
      "text/plain": [
       "0.953619392106915"
      ]
     },
     "execution_count": 64,
     "metadata": {},
     "output_type": "execute_result"
    }
   ],
   "source": [
    "# Testing score\n",
    "\n",
    "linearregression.score(X_test, y_test) # unseen data"
   ]
  },
  {
   "cell_type": "markdown",
   "metadata": {},
   "source": [
    "**Observations**:\n",
    "- From the above model we see that the  $R^2$ is 0.953, that explains 95.3% of total variation in dataset. This model is a good fit."
   ]
  },
  {
   "cell_type": "markdown",
   "metadata": {},
   "source": [
    "## Model Building 2 - Without Treating Outliers"
   ]
  },
  {
   "cell_type": "code",
   "execution_count": 65,
   "metadata": {
    "execution": {
     "iopub.execute_input": "2021-07-10T19:59:39.146777Z",
     "iopub.status.busy": "2021-07-10T19:59:39.146092Z",
     "iopub.status.idle": "2021-07-10T19:59:39.179046Z",
     "shell.execute_reply": "2021-07-10T19:59:39.178054Z",
     "shell.execute_reply.started": "2021-07-10T19:59:39.146732Z"
    }
   },
   "outputs": [
    {
     "data": {
      "text/html": [
       "<div>\n",
       "<style scoped>\n",
       "    .dataframe tbody tr th:only-of-type {\n",
       "        vertical-align: middle;\n",
       "    }\n",
       "\n",
       "    .dataframe tbody tr th {\n",
       "        vertical-align: top;\n",
       "    }\n",
       "\n",
       "    .dataframe thead th {\n",
       "        text-align: right;\n",
       "    }\n",
       "</style>\n",
       "<table border=\"1\" class=\"dataframe\">\n",
       "  <thead>\n",
       "    <tr style=\"text-align: right;\">\n",
       "      <th></th>\n",
       "      <th>Name</th>\n",
       "      <th>Location</th>\n",
       "      <th>Year</th>\n",
       "      <th>Kilometers_Driven</th>\n",
       "      <th>Fuel_Type</th>\n",
       "      <th>Transmission</th>\n",
       "      <th>Owner_Type</th>\n",
       "      <th>Mileage</th>\n",
       "      <th>Engine</th>\n",
       "      <th>Power</th>\n",
       "      <th>Seats</th>\n",
       "      <th>Price</th>\n",
       "      <th>Region</th>\n",
       "      <th>Car_Type</th>\n",
       "    </tr>\n",
       "  </thead>\n",
       "  <tbody>\n",
       "    <tr>\n",
       "      <th>0</th>\n",
       "      <td>Maruti Wagon R LXI CNG</td>\n",
       "      <td>Mumbai</td>\n",
       "      <td>2010</td>\n",
       "      <td>72000</td>\n",
       "      <td>CNG</td>\n",
       "      <td>Manual</td>\n",
       "      <td>First</td>\n",
       "      <td>26.600</td>\n",
       "      <td>998.000</td>\n",
       "      <td>58.160</td>\n",
       "      <td>5.000</td>\n",
       "      <td>1.750</td>\n",
       "      <td>West</td>\n",
       "      <td>Tier1</td>\n",
       "    </tr>\n",
       "    <tr>\n",
       "      <th>1</th>\n",
       "      <td>Hyundai Creta 1.6 CRDi SX Option</td>\n",
       "      <td>Pune</td>\n",
       "      <td>2015</td>\n",
       "      <td>41000</td>\n",
       "      <td>Diesel</td>\n",
       "      <td>Manual</td>\n",
       "      <td>First</td>\n",
       "      <td>19.670</td>\n",
       "      <td>1582.000</td>\n",
       "      <td>126.200</td>\n",
       "      <td>5.000</td>\n",
       "      <td>12.500</td>\n",
       "      <td>West</td>\n",
       "      <td>Tier3</td>\n",
       "    </tr>\n",
       "    <tr>\n",
       "      <th>2</th>\n",
       "      <td>Honda Jazz V</td>\n",
       "      <td>Chennai</td>\n",
       "      <td>2011</td>\n",
       "      <td>46000</td>\n",
       "      <td>Petrol</td>\n",
       "      <td>Manual</td>\n",
       "      <td>First</td>\n",
       "      <td>18.200</td>\n",
       "      <td>1199.000</td>\n",
       "      <td>88.700</td>\n",
       "      <td>5.000</td>\n",
       "      <td>4.500</td>\n",
       "      <td>South</td>\n",
       "      <td>Tier1</td>\n",
       "    </tr>\n",
       "    <tr>\n",
       "      <th>3</th>\n",
       "      <td>Maruti Ertiga VDI</td>\n",
       "      <td>Chennai</td>\n",
       "      <td>2012</td>\n",
       "      <td>87000</td>\n",
       "      <td>Diesel</td>\n",
       "      <td>Manual</td>\n",
       "      <td>First</td>\n",
       "      <td>20.770</td>\n",
       "      <td>1248.000</td>\n",
       "      <td>88.760</td>\n",
       "      <td>7.000</td>\n",
       "      <td>6.000</td>\n",
       "      <td>South</td>\n",
       "      <td>Tier2</td>\n",
       "    </tr>\n",
       "    <tr>\n",
       "      <th>4</th>\n",
       "      <td>Audi A4 New 2.0 TDI Multitronic</td>\n",
       "      <td>Coimbatore</td>\n",
       "      <td>2013</td>\n",
       "      <td>40670</td>\n",
       "      <td>Diesel</td>\n",
       "      <td>Automatic</td>\n",
       "      <td>Second</td>\n",
       "      <td>15.200</td>\n",
       "      <td>1968.000</td>\n",
       "      <td>140.800</td>\n",
       "      <td>5.000</td>\n",
       "      <td>17.740</td>\n",
       "      <td>South</td>\n",
       "      <td>Tier3</td>\n",
       "    </tr>\n",
       "  </tbody>\n",
       "</table>\n",
       "</div>"
      ],
      "text/plain": [
       "                               Name    Location  Year  Kilometers_Driven  \\\n",
       "0            Maruti Wagon R LXI CNG      Mumbai  2010              72000   \n",
       "1  Hyundai Creta 1.6 CRDi SX Option        Pune  2015              41000   \n",
       "2                      Honda Jazz V     Chennai  2011              46000   \n",
       "3                 Maruti Ertiga VDI     Chennai  2012              87000   \n",
       "4   Audi A4 New 2.0 TDI Multitronic  Coimbatore  2013              40670   \n",
       "\n",
       "  Fuel_Type Transmission Owner_Type  Mileage   Engine   Power  Seats  Price  \\\n",
       "0       CNG       Manual      First   26.600  998.000  58.160  5.000  1.750   \n",
       "1    Diesel       Manual      First   19.670 1582.000 126.200  5.000 12.500   \n",
       "2    Petrol       Manual      First   18.200 1199.000  88.700  5.000  4.500   \n",
       "3    Diesel       Manual      First   20.770 1248.000  88.760  7.000  6.000   \n",
       "4    Diesel    Automatic     Second   15.200 1968.000 140.800  5.000 17.740   \n",
       "\n",
       "  Region Car_Type  \n",
       "0   West    Tier1  \n",
       "1   West    Tier3  \n",
       "2  South    Tier1  \n",
       "3  South    Tier2  \n",
       "4  South    Tier3  "
      ]
     },
     "execution_count": 65,
     "metadata": {},
     "output_type": "execute_result"
    }
   ],
   "source": [
    "df3=df.copy() #making the second copy\n",
    "df3.head()"
   ]
  },
  {
   "cell_type": "code",
   "execution_count": 66,
   "metadata": {
    "execution": {
     "iopub.execute_input": "2021-07-10T19:59:39.181381Z",
     "iopub.status.busy": "2021-07-10T19:59:39.180735Z",
     "iopub.status.idle": "2021-07-10T19:59:39.192938Z",
     "shell.execute_reply": "2021-07-10T19:59:39.191799Z",
     "shell.execute_reply.started": "2021-07-10T19:59:39.181327Z"
    }
   },
   "outputs": [
    {
     "name": "stdout",
     "output_type": "stream",
     "text": [
      "(7251, 10)\n",
      "(7251, 1)\n"
     ]
    }
   ],
   "source": [
    "X1 = df3.drop(['Name','Fuel_Type','Location','Price'], axis=1)\n",
    "#dropping Name as we bins via Car_Type\n",
    "#dropping Fuel_Type to not affect the accuracy of the model\n",
    "y1 = df3[['Price']]\n",
    "\n",
    "print(X1.shape)\n",
    "print(y1.shape)"
   ]
  },
  {
   "cell_type": "code",
   "execution_count": 67,
   "metadata": {
    "execution": {
     "iopub.execute_input": "2021-07-10T19:59:39.205373Z",
     "iopub.status.busy": "2021-07-10T19:59:39.204541Z",
     "iopub.status.idle": "2021-07-10T19:59:39.243192Z",
     "shell.execute_reply": "2021-07-10T19:59:39.24205Z",
     "shell.execute_reply.started": "2021-07-10T19:59:39.205328Z"
    }
   },
   "outputs": [
    {
     "data": {
      "text/html": [
       "<div>\n",
       "<style scoped>\n",
       "    .dataframe tbody tr th:only-of-type {\n",
       "        vertical-align: middle;\n",
       "    }\n",
       "\n",
       "    .dataframe tbody tr th {\n",
       "        vertical-align: top;\n",
       "    }\n",
       "\n",
       "    .dataframe thead th {\n",
       "        text-align: right;\n",
       "    }\n",
       "</style>\n",
       "<table border=\"1\" class=\"dataframe\">\n",
       "  <thead>\n",
       "    <tr style=\"text-align: right;\">\n",
       "      <th></th>\n",
       "      <th>Year</th>\n",
       "      <th>Kilometers_Driven</th>\n",
       "      <th>Mileage</th>\n",
       "      <th>Engine</th>\n",
       "      <th>Power</th>\n",
       "      <th>Seats</th>\n",
       "      <th>Transmission_Manual</th>\n",
       "      <th>Owner_Type_Fourth &amp; Above</th>\n",
       "      <th>Owner_Type_Second</th>\n",
       "      <th>Owner_Type_Third</th>\n",
       "      <th>Region_North</th>\n",
       "      <th>Region_South</th>\n",
       "      <th>Region_West</th>\n",
       "      <th>Car_Type_Tier2</th>\n",
       "      <th>Car_Type_Tier3</th>\n",
       "      <th>Car_Type_Tier4</th>\n",
       "      <th>Car_Type_Tier5</th>\n",
       "      <th>Car_Type_Tier6</th>\n",
       "    </tr>\n",
       "  </thead>\n",
       "  <tbody>\n",
       "    <tr>\n",
       "      <th>0</th>\n",
       "      <td>2010</td>\n",
       "      <td>72000</td>\n",
       "      <td>26.600</td>\n",
       "      <td>998.000</td>\n",
       "      <td>58.160</td>\n",
       "      <td>5.000</td>\n",
       "      <td>1</td>\n",
       "      <td>0</td>\n",
       "      <td>0</td>\n",
       "      <td>0</td>\n",
       "      <td>0</td>\n",
       "      <td>0</td>\n",
       "      <td>1</td>\n",
       "      <td>0</td>\n",
       "      <td>0</td>\n",
       "      <td>0</td>\n",
       "      <td>0</td>\n",
       "      <td>0</td>\n",
       "    </tr>\n",
       "    <tr>\n",
       "      <th>1</th>\n",
       "      <td>2015</td>\n",
       "      <td>41000</td>\n",
       "      <td>19.670</td>\n",
       "      <td>1582.000</td>\n",
       "      <td>126.200</td>\n",
       "      <td>5.000</td>\n",
       "      <td>1</td>\n",
       "      <td>0</td>\n",
       "      <td>0</td>\n",
       "      <td>0</td>\n",
       "      <td>0</td>\n",
       "      <td>0</td>\n",
       "      <td>1</td>\n",
       "      <td>0</td>\n",
       "      <td>1</td>\n",
       "      <td>0</td>\n",
       "      <td>0</td>\n",
       "      <td>0</td>\n",
       "    </tr>\n",
       "    <tr>\n",
       "      <th>2</th>\n",
       "      <td>2011</td>\n",
       "      <td>46000</td>\n",
       "      <td>18.200</td>\n",
       "      <td>1199.000</td>\n",
       "      <td>88.700</td>\n",
       "      <td>5.000</td>\n",
       "      <td>1</td>\n",
       "      <td>0</td>\n",
       "      <td>0</td>\n",
       "      <td>0</td>\n",
       "      <td>0</td>\n",
       "      <td>1</td>\n",
       "      <td>0</td>\n",
       "      <td>0</td>\n",
       "      <td>0</td>\n",
       "      <td>0</td>\n",
       "      <td>0</td>\n",
       "      <td>0</td>\n",
       "    </tr>\n",
       "    <tr>\n",
       "      <th>3</th>\n",
       "      <td>2012</td>\n",
       "      <td>87000</td>\n",
       "      <td>20.770</td>\n",
       "      <td>1248.000</td>\n",
       "      <td>88.760</td>\n",
       "      <td>7.000</td>\n",
       "      <td>1</td>\n",
       "      <td>0</td>\n",
       "      <td>0</td>\n",
       "      <td>0</td>\n",
       "      <td>0</td>\n",
       "      <td>1</td>\n",
       "      <td>0</td>\n",
       "      <td>1</td>\n",
       "      <td>0</td>\n",
       "      <td>0</td>\n",
       "      <td>0</td>\n",
       "      <td>0</td>\n",
       "    </tr>\n",
       "    <tr>\n",
       "      <th>4</th>\n",
       "      <td>2013</td>\n",
       "      <td>40670</td>\n",
       "      <td>15.200</td>\n",
       "      <td>1968.000</td>\n",
       "      <td>140.800</td>\n",
       "      <td>5.000</td>\n",
       "      <td>0</td>\n",
       "      <td>0</td>\n",
       "      <td>1</td>\n",
       "      <td>0</td>\n",
       "      <td>0</td>\n",
       "      <td>1</td>\n",
       "      <td>0</td>\n",
       "      <td>0</td>\n",
       "      <td>1</td>\n",
       "      <td>0</td>\n",
       "      <td>0</td>\n",
       "      <td>0</td>\n",
       "    </tr>\n",
       "  </tbody>\n",
       "</table>\n",
       "</div>"
      ],
      "text/plain": [
       "   Year  Kilometers_Driven  Mileage   Engine   Power  Seats  \\\n",
       "0  2010              72000   26.600  998.000  58.160  5.000   \n",
       "1  2015              41000   19.670 1582.000 126.200  5.000   \n",
       "2  2011              46000   18.200 1199.000  88.700  5.000   \n",
       "3  2012              87000   20.770 1248.000  88.760  7.000   \n",
       "4  2013              40670   15.200 1968.000 140.800  5.000   \n",
       "\n",
       "   Transmission_Manual  Owner_Type_Fourth & Above  Owner_Type_Second  \\\n",
       "0                    1                          0                  0   \n",
       "1                    1                          0                  0   \n",
       "2                    1                          0                  0   \n",
       "3                    1                          0                  0   \n",
       "4                    0                          0                  1   \n",
       "\n",
       "   Owner_Type_Third  Region_North  Region_South  Region_West  Car_Type_Tier2  \\\n",
       "0                 0             0             0            1               0   \n",
       "1                 0             0             0            1               0   \n",
       "2                 0             0             1            0               0   \n",
       "3                 0             0             1            0               1   \n",
       "4                 0             0             1            0               0   \n",
       "\n",
       "   Car_Type_Tier3  Car_Type_Tier4  Car_Type_Tier5  Car_Type_Tier6  \n",
       "0               0               0               0               0  \n",
       "1               1               0               0               0  \n",
       "2               0               0               0               0  \n",
       "3               0               0               0               0  \n",
       "4               1               0               0               0  "
      ]
     },
     "execution_count": 67,
     "metadata": {},
     "output_type": "execute_result"
    }
   ],
   "source": [
    "#Creating Dummy Variabls for the Categorical Columns\n",
    "#Dummy variable will be used as independent variables and will not impose any ranking\n",
    "X1 = pd.get_dummies(X1, columns=['Transmission','Owner_Type','Region','Car_Type'], drop_first=True)\n",
    "X1.head()"
   ]
  },
  {
   "cell_type": "code",
   "execution_count": 68,
   "metadata": {
    "execution": {
     "iopub.execute_input": "2021-07-10T19:59:39.246554Z",
     "iopub.status.busy": "2021-07-10T19:59:39.245879Z",
     "iopub.status.idle": "2021-07-10T19:59:39.273236Z",
     "shell.execute_reply": "2021-07-10T19:59:39.272282Z",
     "shell.execute_reply.started": "2021-07-10T19:59:39.246507Z"
    }
   },
   "outputs": [
    {
     "data": {
      "text/html": [
       "<div>\n",
       "<style scoped>\n",
       "    .dataframe tbody tr th:only-of-type {\n",
       "        vertical-align: middle;\n",
       "    }\n",
       "\n",
       "    .dataframe tbody tr th {\n",
       "        vertical-align: top;\n",
       "    }\n",
       "\n",
       "    .dataframe thead th {\n",
       "        text-align: right;\n",
       "    }\n",
       "</style>\n",
       "<table border=\"1\" class=\"dataframe\">\n",
       "  <thead>\n",
       "    <tr style=\"text-align: right;\">\n",
       "      <th></th>\n",
       "      <th>Year</th>\n",
       "      <th>Kilometers_Driven</th>\n",
       "      <th>Mileage</th>\n",
       "      <th>Engine</th>\n",
       "      <th>Power</th>\n",
       "      <th>Seats</th>\n",
       "      <th>Transmission_Manual</th>\n",
       "      <th>Owner_Type_Fourth &amp; Above</th>\n",
       "      <th>Owner_Type_Second</th>\n",
       "      <th>Owner_Type_Third</th>\n",
       "      <th>Region_North</th>\n",
       "      <th>Region_South</th>\n",
       "      <th>Region_West</th>\n",
       "      <th>Car_Type_Tier2</th>\n",
       "      <th>Car_Type_Tier3</th>\n",
       "      <th>Car_Type_Tier4</th>\n",
       "      <th>Car_Type_Tier5</th>\n",
       "      <th>Car_Type_Tier6</th>\n",
       "    </tr>\n",
       "  </thead>\n",
       "  <tbody>\n",
       "    <tr>\n",
       "      <th>1928</th>\n",
       "      <td>2016</td>\n",
       "      <td>55100</td>\n",
       "      <td>17.010</td>\n",
       "      <td>1582.000</td>\n",
       "      <td>126.200</td>\n",
       "      <td>5.000</td>\n",
       "      <td>0</td>\n",
       "      <td>0</td>\n",
       "      <td>0</td>\n",
       "      <td>0</td>\n",
       "      <td>0</td>\n",
       "      <td>0</td>\n",
       "      <td>1</td>\n",
       "      <td>0</td>\n",
       "      <td>1</td>\n",
       "      <td>0</td>\n",
       "      <td>0</td>\n",
       "      <td>0</td>\n",
       "    </tr>\n",
       "    <tr>\n",
       "      <th>6278</th>\n",
       "      <td>2012</td>\n",
       "      <td>90000</td>\n",
       "      <td>23.590</td>\n",
       "      <td>1364.000</td>\n",
       "      <td>94.000</td>\n",
       "      <td>5.000</td>\n",
       "      <td>1</td>\n",
       "      <td>0</td>\n",
       "      <td>0</td>\n",
       "      <td>0</td>\n",
       "      <td>0</td>\n",
       "      <td>1</td>\n",
       "      <td>0</td>\n",
       "      <td>0</td>\n",
       "      <td>0</td>\n",
       "      <td>0</td>\n",
       "      <td>0</td>\n",
       "      <td>0</td>\n",
       "    </tr>\n",
       "    <tr>\n",
       "      <th>22</th>\n",
       "      <td>2015</td>\n",
       "      <td>55985</td>\n",
       "      <td>13.530</td>\n",
       "      <td>1984.000</td>\n",
       "      <td>177.010</td>\n",
       "      <td>5.000</td>\n",
       "      <td>0</td>\n",
       "      <td>0</td>\n",
       "      <td>0</td>\n",
       "      <td>0</td>\n",
       "      <td>0</td>\n",
       "      <td>0</td>\n",
       "      <td>1</td>\n",
       "      <td>0</td>\n",
       "      <td>0</td>\n",
       "      <td>1</td>\n",
       "      <td>0</td>\n",
       "      <td>0</td>\n",
       "    </tr>\n",
       "    <tr>\n",
       "      <th>5925</th>\n",
       "      <td>2010</td>\n",
       "      <td>85000</td>\n",
       "      <td>17.500</td>\n",
       "      <td>1798.000</td>\n",
       "      <td>94.000</td>\n",
       "      <td>5.000</td>\n",
       "      <td>1</td>\n",
       "      <td>0</td>\n",
       "      <td>0</td>\n",
       "      <td>0</td>\n",
       "      <td>0</td>\n",
       "      <td>0</td>\n",
       "      <td>1</td>\n",
       "      <td>0</td>\n",
       "      <td>0</td>\n",
       "      <td>0</td>\n",
       "      <td>0</td>\n",
       "      <td>0</td>\n",
       "    </tr>\n",
       "    <tr>\n",
       "      <th>5762</th>\n",
       "      <td>2014</td>\n",
       "      <td>51000</td>\n",
       "      <td>27.030</td>\n",
       "      <td>1969.000</td>\n",
       "      <td>190.000</td>\n",
       "      <td>5.000</td>\n",
       "      <td>0</td>\n",
       "      <td>0</td>\n",
       "      <td>0</td>\n",
       "      <td>0</td>\n",
       "      <td>0</td>\n",
       "      <td>1</td>\n",
       "      <td>0</td>\n",
       "      <td>0</td>\n",
       "      <td>0</td>\n",
       "      <td>1</td>\n",
       "      <td>0</td>\n",
       "      <td>0</td>\n",
       "    </tr>\n",
       "  </tbody>\n",
       "</table>\n",
       "</div>"
      ],
      "text/plain": [
       "      Year  Kilometers_Driven  Mileage   Engine   Power  Seats  \\\n",
       "1928  2016              55100   17.010 1582.000 126.200  5.000   \n",
       "6278  2012              90000   23.590 1364.000  94.000  5.000   \n",
       "22    2015              55985   13.530 1984.000 177.010  5.000   \n",
       "5925  2010              85000   17.500 1798.000  94.000  5.000   \n",
       "5762  2014              51000   27.030 1969.000 190.000  5.000   \n",
       "\n",
       "      Transmission_Manual  Owner_Type_Fourth & Above  Owner_Type_Second  \\\n",
       "1928                    0                          0                  0   \n",
       "6278                    1                          0                  0   \n",
       "22                      0                          0                  0   \n",
       "5925                    1                          0                  0   \n",
       "5762                    0                          0                  0   \n",
       "\n",
       "      Owner_Type_Third  Region_North  Region_South  Region_West  \\\n",
       "1928                 0             0             0            1   \n",
       "6278                 0             0             1            0   \n",
       "22                   0             0             0            1   \n",
       "5925                 0             0             0            1   \n",
       "5762                 0             0             1            0   \n",
       "\n",
       "      Car_Type_Tier2  Car_Type_Tier3  Car_Type_Tier4  Car_Type_Tier5  \\\n",
       "1928               0               1               0               0   \n",
       "6278               0               0               0               0   \n",
       "22                 0               0               1               0   \n",
       "5925               0               0               0               0   \n",
       "5762               0               0               1               0   \n",
       "\n",
       "      Car_Type_Tier6  \n",
       "1928               0  \n",
       "6278               0  \n",
       "22                 0  \n",
       "5925               0  \n",
       "5762               0  "
      ]
     },
     "execution_count": 68,
     "metadata": {},
     "output_type": "execute_result"
    }
   ],
   "source": [
    "#split the data into train and test\n",
    "from sklearn.model_selection import train_test_split\n",
    "X1_train, X1_test, y1_train, y1_test = train_test_split(X1, y1, test_size=0.3, random_state=56)\n",
    "X1_train.head()"
   ]
  },
  {
   "cell_type": "code",
   "execution_count": 69,
   "metadata": {
    "execution": {
     "iopub.execute_input": "2021-07-10T19:59:39.275174Z",
     "iopub.status.busy": "2021-07-10T19:59:39.274737Z",
     "iopub.status.idle": "2021-07-10T19:59:39.291995Z",
     "shell.execute_reply": "2021-07-10T19:59:39.291098Z",
     "shell.execute_reply.started": "2021-07-10T19:59:39.275122Z"
    }
   },
   "outputs": [
    {
     "name": "stdout",
     "output_type": "stream",
     "text": [
      "Intercept of the linear equation: [-559.64477119]\n",
      "The coefficient for Year is 0.2781520771164933\n",
      "The coefficient for Kilometers_Driven is -3.933049214243903e-06\n",
      "The coefficient for Mileage is 0.041173020980348786\n",
      "The coefficient for Engine is 0.001253652461509809\n",
      "The coefficient for Power is 0.02185719706079717\n",
      "The coefficient for Seats is -0.10443213439519303\n",
      "The coefficient for Transmission_Manual is -0.5553857640064689\n",
      "The coefficient for Owner_Type_Fourth & Above is 1.0602936298239747\n",
      "The coefficient for Owner_Type_Second is -0.01217613302230934\n",
      "The coefficient for Owner_Type_Third is 0.19972117592183586\n",
      "The coefficient for Region_North is 0.43423501867368147\n",
      "The coefficient for Region_South is 0.6551430985062126\n",
      "The coefficient for Region_West is 0.3849291968220912\n",
      "The coefficient for Car_Type_Tier2 is 2.1873459098796886\n",
      "The coefficient for Car_Type_Tier3 is 7.852889631704657\n",
      "The coefficient for Car_Type_Tier4 is 21.448157673682104\n",
      "The coefficient for Car_Type_Tier5 is 45.73101094812467\n",
      "The coefficient for Car_Type_Tier6 is 77.34107051395361\n"
     ]
    }
   ],
   "source": [
    "#Fitting linear model\n",
    "from sklearn.linear_model import LinearRegression\n",
    "linearregression = LinearRegression()                                    \n",
    "linearregression.fit(X1_train, y1_train)                                  \n",
    "print(\"Intercept of the linear equation:\", linearregression.intercept_) \n",
    "for idx, col_name in enumerate(X1_train.columns):\n",
    "    print(\"The coefficient for {} is {}\".format(col_name, linearregression.coef_[0][idx]))                         "
   ]
  },
  {
   "cell_type": "code",
   "execution_count": 70,
   "metadata": {
    "execution": {
     "iopub.execute_input": "2021-07-10T19:59:39.293546Z",
     "iopub.status.busy": "2021-07-10T19:59:39.293177Z",
     "iopub.status.idle": "2021-07-10T19:59:39.306265Z",
     "shell.execute_reply": "2021-07-10T19:59:39.305165Z",
     "shell.execute_reply.started": "2021-07-10T19:59:39.293516Z"
    }
   },
   "outputs": [],
   "source": [
    "from sklearn.metrics import mean_absolute_error, mean_squared_error, r2_score\n",
    "\n",
    "pred1 = linearregression.predict(X1_test)"
   ]
  },
  {
   "cell_type": "code",
   "execution_count": 71,
   "metadata": {
    "execution": {
     "iopub.execute_input": "2021-07-10T19:59:39.308863Z",
     "iopub.status.busy": "2021-07-10T19:59:39.307772Z",
     "iopub.status.idle": "2021-07-10T19:59:39.318269Z",
     "shell.execute_reply": "2021-07-10T19:59:39.31732Z",
     "shell.execute_reply.started": "2021-07-10T19:59:39.308813Z"
    }
   },
   "outputs": [
    {
     "data": {
      "text/plain": [
       "1.512862782786983"
      ]
     },
     "execution_count": 71,
     "metadata": {},
     "output_type": "execute_result"
    }
   ],
   "source": [
    "# Mean Absolute Error on test\n",
    "mean_absolute_error(y1_test, pred1)"
   ]
  },
  {
   "cell_type": "code",
   "execution_count": 72,
   "metadata": {
    "execution": {
     "iopub.execute_input": "2021-07-10T19:59:39.320265Z",
     "iopub.status.busy": "2021-07-10T19:59:39.319669Z",
     "iopub.status.idle": "2021-07-10T19:59:39.335786Z",
     "shell.execute_reply": "2021-07-10T19:59:39.334743Z",
     "shell.execute_reply.started": "2021-07-10T19:59:39.32022Z"
    }
   },
   "outputs": [
    {
     "data": {
      "text/plain": [
       "3.093684570463303"
      ]
     },
     "execution_count": 72,
     "metadata": {},
     "output_type": "execute_result"
    }
   ],
   "source": [
    "# RMSE on test data\n",
    "mean_squared_error(y1_test, pred1)**0.5"
   ]
  },
  {
   "cell_type": "code",
   "execution_count": 73,
   "metadata": {
    "execution": {
     "iopub.execute_input": "2021-07-10T19:59:39.337993Z",
     "iopub.status.busy": "2021-07-10T19:59:39.337382Z",
     "iopub.status.idle": "2021-07-10T19:59:39.348587Z",
     "shell.execute_reply": "2021-07-10T19:59:39.34752Z",
     "shell.execute_reply.started": "2021-07-10T19:59:39.337946Z"
    }
   },
   "outputs": [
    {
     "data": {
      "text/plain": [
       "0.9215069184355419"
      ]
     },
     "execution_count": 73,
     "metadata": {},
     "output_type": "execute_result"
    }
   ],
   "source": [
    "# R-squared on test\n",
    "r2_score(y1_test, pred1)"
   ]
  },
  {
   "cell_type": "code",
   "execution_count": 74,
   "metadata": {
    "execution": {
     "iopub.execute_input": "2021-07-10T19:59:39.351006Z",
     "iopub.status.busy": "2021-07-10T19:59:39.350374Z",
     "iopub.status.idle": "2021-07-10T19:59:39.365353Z",
     "shell.execute_reply": "2021-07-10T19:59:39.364295Z",
     "shell.execute_reply.started": "2021-07-10T19:59:39.350959Z"
    }
   },
   "outputs": [
    {
     "data": {
      "text/plain": [
       "0.9450553498559193"
      ]
     },
     "execution_count": 74,
     "metadata": {},
     "output_type": "execute_result"
    }
   ],
   "source": [
    "# Training Score\n",
    "\n",
    "linearregression.score(X1_train, y1_train)  # 70 % data "
   ]
  },
  {
   "cell_type": "code",
   "execution_count": 75,
   "metadata": {
    "execution": {
     "iopub.execute_input": "2021-07-10T19:59:39.367548Z",
     "iopub.status.busy": "2021-07-10T19:59:39.367129Z",
     "iopub.status.idle": "2021-07-10T19:59:39.384771Z",
     "shell.execute_reply": "2021-07-10T19:59:39.383506Z",
     "shell.execute_reply.started": "2021-07-10T19:59:39.367506Z"
    }
   },
   "outputs": [
    {
     "data": {
      "text/plain": [
       "0.9215069184355419"
      ]
     },
     "execution_count": 75,
     "metadata": {},
     "output_type": "execute_result"
    }
   ],
   "source": [
    "# Testing score\n",
    "\n",
    "linearregression.score(X1_test, y1_test) # unseen data"
   ]
  },
  {
   "cell_type": "markdown",
   "metadata": {},
   "source": [
    "**Observations**:\n",
    "- From the above model we see that the  $R^2$ is 0.921, that explains 92.1% of total variation in dataset. Though this model is a decent fit, its less than the $R^2$ value from Model 1. \n",
    "- Also we see that the Training and Testing Scores for this model are 94.5% and 92.1% which has a marginal difference.\n",
    "-  Hence we shall proceed with the Model 1 for further analysis and  Stats model."
   ]
  }
 ],
 "metadata": {
  "kernelspec": {
   "display_name": "Python 3",
   "language": "python",
   "name": "python3"
  },
  "language_info": {
   "codemirror_mode": {
    "name": "ipython",
    "version": 3
   },
   "file_extension": ".py",
   "mimetype": "text/x-python",
   "name": "python",
   "nbconvert_exporter": "python",
   "pygments_lexer": "ipython3",
   "version": "3.8.8"
  }
 },
 "nbformat": 4,
 "nbformat_minor": 4
}
