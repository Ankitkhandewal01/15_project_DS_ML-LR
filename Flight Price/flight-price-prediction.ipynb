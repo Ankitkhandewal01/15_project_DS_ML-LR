{
 "cells": [
  {
   "cell_type": "code",
   "execution_count": 1,
   "metadata": {
    "execution": {
     "iopub.execute_input": "2023-03-24T07:34:51.646694Z",
     "iopub.status.busy": "2023-03-24T07:34:51.646126Z",
     "iopub.status.idle": "2023-03-24T07:35:06.386698Z",
     "shell.execute_reply": "2023-03-24T07:35:06.385104Z",
     "shell.execute_reply.started": "2023-03-24T07:34:51.646654Z"
    },
    "tags": []
   },
   "outputs": [
    {
     "name": "stdout",
     "output_type": "stream",
     "text": [
      "Requirement already satisfied: klib in c:\\users\\ankit\\anaconda3\\lib\\site-packages (1.0.7)\n",
      "Requirement already satisfied: seaborn<0.13.0,>=0.11.2 in c:\\users\\ankit\\anaconda3\\lib\\site-packages (from klib) (0.12.2)\n",
      "Requirement already satisfied: Jinja2<4.0.0,>=3.0.3 in c:\\users\\ankit\\anaconda3\\lib\\site-packages (from klib) (3.1.2)\n",
      "Requirement already satisfied: numpy<2.0.0,>=1.16.3 in c:\\users\\ankit\\anaconda3\\lib\\site-packages (from klib) (1.20.1)\n",
      "Requirement already satisfied: matplotlib<4.0.0,>=3.0.3 in c:\\users\\ankit\\anaconda3\\lib\\site-packages (from klib) (3.3.4)\n",
      "Requirement already satisfied: scipy<2.0.0,>=1.1.0 in c:\\users\\ankit\\anaconda3\\lib\\site-packages (from klib) (1.6.2)\n",
      "Requirement already satisfied: pandas<2.0.0,>=1.2.0 in c:\\users\\ankit\\anaconda3\\lib\\site-packages (from klib) (1.2.4)\n",
      "Requirement already satisfied: MarkupSafe>=2.0 in c:\\users\\ankit\\anaconda3\\lib\\site-packages (from Jinja2<4.0.0,>=3.0.3->klib) (2.1.3)\n",
      "Requirement already satisfied: pyparsing!=2.0.4,!=2.1.2,!=2.1.6,>=2.0.3 in c:\\users\\ankit\\anaconda3\\lib\\site-packages (from matplotlib<4.0.0,>=3.0.3->klib) (2.4.7)\n",
      "Requirement already satisfied: kiwisolver>=1.0.1 in c:\\users\\ankit\\anaconda3\\lib\\site-packages (from matplotlib<4.0.0,>=3.0.3->klib) (1.3.1)\n",
      "Requirement already satisfied: python-dateutil>=2.1 in c:\\users\\ankit\\anaconda3\\lib\\site-packages (from matplotlib<4.0.0,>=3.0.3->klib) (2.8.1)\n",
      "Requirement already satisfied: cycler>=0.10 in c:\\users\\ankit\\anaconda3\\lib\\site-packages (from matplotlib<4.0.0,>=3.0.3->klib) (0.10.0)\n",
      "Requirement already satisfied: pillow>=6.2.0 in c:\\users\\ankit\\anaconda3\\lib\\site-packages (from matplotlib<4.0.0,>=3.0.3->klib) (8.2.0)\n",
      "Requirement already satisfied: six in c:\\users\\ankit\\anaconda3\\lib\\site-packages (from cycler>=0.10->matplotlib<4.0.0,>=3.0.3->klib) (1.15.0)\n",
      "Requirement already satisfied: pytz>=2017.3 in c:\\users\\ankit\\anaconda3\\lib\\site-packages (from pandas<2.0.0,>=1.2.0->klib) (2021.1)\n"
     ]
    }
   ],
   "source": [
    "import pandas as pd\n",
    "import numpy as np\n",
    "import seaborn as sns\n",
    "!pip install klib\n",
    "import klib\n",
    "import matplotlib.pyplot as plt\n",
    "import warnings\n",
    "warnings.filterwarnings('ignore')"
   ]
  },
  {
   "cell_type": "code",
   "execution_count": 2,
   "metadata": {
    "execution": {
     "iopub.execute_input": "2023-03-24T07:35:06.389402Z",
     "iopub.status.busy": "2023-03-24T07:35:06.388985Z",
     "iopub.status.idle": "2023-03-24T07:35:08.858209Z",
     "shell.execute_reply": "2023-03-24T07:35:08.856678Z",
     "shell.execute_reply.started": "2023-03-24T07:35:06.389362Z"
    }
   },
   "outputs": [
    {
     "data": {
      "text/html": [
       "<div>\n",
       "<style scoped>\n",
       "    .dataframe tbody tr th:only-of-type {\n",
       "        vertical-align: middle;\n",
       "    }\n",
       "\n",
       "    .dataframe tbody tr th {\n",
       "        vertical-align: top;\n",
       "    }\n",
       "\n",
       "    .dataframe thead th {\n",
       "        text-align: right;\n",
       "    }\n",
       "</style>\n",
       "<table border=\"1\" class=\"dataframe\">\n",
       "  <thead>\n",
       "    <tr style=\"text-align: right;\">\n",
       "      <th></th>\n",
       "      <th>Airline</th>\n",
       "      <th>Date_of_Journey</th>\n",
       "      <th>Source</th>\n",
       "      <th>Destination</th>\n",
       "      <th>Route</th>\n",
       "      <th>Dep_Time</th>\n",
       "      <th>Arrival_Time</th>\n",
       "      <th>Duration</th>\n",
       "      <th>Total_Stops</th>\n",
       "      <th>Additional_Info</th>\n",
       "      <th>Price</th>\n",
       "    </tr>\n",
       "  </thead>\n",
       "  <tbody>\n",
       "    <tr>\n",
       "      <th>0</th>\n",
       "      <td>IndiGo</td>\n",
       "      <td>24/03/2019</td>\n",
       "      <td>Banglore</td>\n",
       "      <td>New Delhi</td>\n",
       "      <td>BLR → DEL</td>\n",
       "      <td>22:20</td>\n",
       "      <td>01:10 22 Mar</td>\n",
       "      <td>2h 50m</td>\n",
       "      <td>non-stop</td>\n",
       "      <td>No info</td>\n",
       "      <td>3897</td>\n",
       "    </tr>\n",
       "    <tr>\n",
       "      <th>1</th>\n",
       "      <td>Air India</td>\n",
       "      <td>1/05/2019</td>\n",
       "      <td>Kolkata</td>\n",
       "      <td>Banglore</td>\n",
       "      <td>CCU → IXR → BBI → BLR</td>\n",
       "      <td>05:50</td>\n",
       "      <td>13:15</td>\n",
       "      <td>7h 25m</td>\n",
       "      <td>2 stops</td>\n",
       "      <td>No info</td>\n",
       "      <td>7662</td>\n",
       "    </tr>\n",
       "    <tr>\n",
       "      <th>2</th>\n",
       "      <td>Jet Airways</td>\n",
       "      <td>9/06/2019</td>\n",
       "      <td>Delhi</td>\n",
       "      <td>Cochin</td>\n",
       "      <td>DEL → LKO → BOM → COK</td>\n",
       "      <td>09:25</td>\n",
       "      <td>04:25 10 Jun</td>\n",
       "      <td>19h</td>\n",
       "      <td>2 stops</td>\n",
       "      <td>No info</td>\n",
       "      <td>13882</td>\n",
       "    </tr>\n",
       "    <tr>\n",
       "      <th>3</th>\n",
       "      <td>IndiGo</td>\n",
       "      <td>12/05/2019</td>\n",
       "      <td>Kolkata</td>\n",
       "      <td>Banglore</td>\n",
       "      <td>CCU → NAG → BLR</td>\n",
       "      <td>18:05</td>\n",
       "      <td>23:30</td>\n",
       "      <td>5h 25m</td>\n",
       "      <td>1 stop</td>\n",
       "      <td>No info</td>\n",
       "      <td>6218</td>\n",
       "    </tr>\n",
       "    <tr>\n",
       "      <th>4</th>\n",
       "      <td>IndiGo</td>\n",
       "      <td>01/03/2019</td>\n",
       "      <td>Banglore</td>\n",
       "      <td>New Delhi</td>\n",
       "      <td>BLR → NAG → DEL</td>\n",
       "      <td>16:50</td>\n",
       "      <td>21:35</td>\n",
       "      <td>4h 45m</td>\n",
       "      <td>1 stop</td>\n",
       "      <td>No info</td>\n",
       "      <td>13302</td>\n",
       "    </tr>\n",
       "  </tbody>\n",
       "</table>\n",
       "</div>"
      ],
      "text/plain": [
       "       Airline Date_of_Journey    Source Destination                  Route  \\\n",
       "0       IndiGo      24/03/2019  Banglore   New Delhi              BLR → DEL   \n",
       "1    Air India       1/05/2019   Kolkata    Banglore  CCU → IXR → BBI → BLR   \n",
       "2  Jet Airways       9/06/2019     Delhi      Cochin  DEL → LKO → BOM → COK   \n",
       "3       IndiGo      12/05/2019   Kolkata    Banglore        CCU → NAG → BLR   \n",
       "4       IndiGo      01/03/2019  Banglore   New Delhi        BLR → NAG → DEL   \n",
       "\n",
       "  Dep_Time  Arrival_Time Duration Total_Stops Additional_Info  Price  \n",
       "0    22:20  01:10 22 Mar   2h 50m    non-stop         No info   3897  \n",
       "1    05:50         13:15   7h 25m     2 stops         No info   7662  \n",
       "2    09:25  04:25 10 Jun      19h     2 stops         No info  13882  \n",
       "3    18:05         23:30   5h 25m      1 stop         No info   6218  \n",
       "4    16:50         21:35   4h 45m      1 stop         No info  13302  "
      ]
     },
     "execution_count": 2,
     "metadata": {},
     "output_type": "execute_result"
    }
   ],
   "source": [
    "df = pd.read_excel('Data_Train.xlsx')\n",
    "df.head()"
   ]
  },
  {
   "cell_type": "markdown",
   "metadata": {},
   "source": [
    "Using klib for automating the cleaning and preprocessing "
   ]
  },
  {
   "cell_type": "code",
   "execution_count": 3,
   "metadata": {
    "execution": {
     "iopub.execute_input": "2023-03-24T07:35:13.713849Z",
     "iopub.status.busy": "2023-03-24T07:35:13.712078Z",
     "iopub.status.idle": "2023-03-24T07:35:13.935779Z",
     "shell.execute_reply": "2023-03-24T07:35:13.934355Z",
     "shell.execute_reply.started": "2023-03-24T07:35:13.713784Z"
    }
   },
   "outputs": [
    {
     "name": "stdout",
     "output_type": "stream",
     "text": [
      "Shape of cleaned data: (10463, 11) - Remaining NAs: 2\n",
      "\n",
      "\n",
      "Dropped rows: 220\n",
      "     of which 220 duplicates. (Rows (first 150 shown): [683, 1061, 1348, 1418, 1674, 1685, 1704, 1807, 1891, 1971, 1982, 2093, 2548, 2595, 2661, 2677, 2716, 2845, 2870, 2903, 2943, 3003, 3102, 3135, 3151, 3256, 3283, 3363, 3450, 3457, 3620, 3632, 3674, 3711, 3717, 3843, 3856, 3984, 4026, 4096, 4132, 4260, 4300, 4323, 4412, 4571, 4593, 4636, 4649, 4710, 4865, 4920, 4945, 5014, 5042, 5092, 5336, 5359, 5363, 5365, 5391, 5442, 5470, 5483, 5509, 5844, 5855, 5913, 5928, 5967, 6052, 6126, 6170, 6206, 6377, 6449, 6469, 6510, 6512, 6658, 6670, 6742, 6758, 6770, 6881, 6884, 6898, 6972, 6986, 7088, 7104, 7133, 7185, 7229, 7259, 7283, 7345, 7453, 7502, 7589, 7611, 7647, 7666, 7676, 7743, 7754, 7794, 7907, 7912, 7925, 8065, 8069, 8105, 8112, 8168, 8174, 8180, 8181, 8216, 8310, 8319, 8344, 8360, 8383, 8446, 8496, 8529, 8546, 8558, 8559, 8566, 8602, 8627, 8631, 8635, 8640, 8697, 8781, 8821, 8861, 8882, 8927, 8962, 8967, 9024, 9027, 9043, 9097, 9099, 9106])\n",
      "\n",
      "Dropped columns: 0\n",
      "     of which 0 single valued.     Columns: []\n",
      "Dropped missing values: 0\n",
      "Reduced memory by at least: 0.58 MB (-64.44%)\n",
      "\n"
     ]
    }
   ],
   "source": [
    "df = klib.data_cleaning(df)"
   ]
  },
  {
   "cell_type": "code",
   "execution_count": 4,
   "metadata": {
    "execution": {
     "iopub.execute_input": "2023-03-24T07:35:14.073495Z",
     "iopub.status.busy": "2023-03-24T07:35:14.072715Z",
     "iopub.status.idle": "2023-03-24T07:35:14.094377Z",
     "shell.execute_reply": "2023-03-24T07:35:14.092915Z",
     "shell.execute_reply.started": "2023-03-24T07:35:14.07342Z"
    }
   },
   "outputs": [
    {
     "name": "stdout",
     "output_type": "stream",
     "text": [
      "<class 'pandas.core.frame.DataFrame'>\n",
      "RangeIndex: 10463 entries, 0 to 10462\n",
      "Data columns (total 11 columns):\n",
      " #   Column           Non-Null Count  Dtype   \n",
      "---  ------           --------------  -----   \n",
      " 0   airline          10463 non-null  category\n",
      " 1   date_of_journey  10463 non-null  category\n",
      " 2   source           10463 non-null  category\n",
      " 3   destination      10463 non-null  category\n",
      " 4   route            10462 non-null  category\n",
      " 5   dep_time         10463 non-null  category\n",
      " 6   arrival_time     10463 non-null  string  \n",
      " 7   duration         10463 non-null  string  \n",
      " 8   total_stops      10462 non-null  category\n",
      " 9   additional_info  10463 non-null  category\n",
      " 10  price            10463 non-null  int32   \n",
      "dtypes: category(8), int32(1), string(2)\n",
      "memory usage: 324.3 KB\n"
     ]
    }
   ],
   "source": [
    "df.info()"
   ]
  },
  {
   "cell_type": "code",
   "execution_count": 5,
   "metadata": {},
   "outputs": [
    {
     "data": {
      "text/plain": [
       "<AxesSubplot:>"
      ]
     },
     "execution_count": 5,
     "metadata": {},
     "output_type": "execute_result"
    },
    {
     "data": {
      "image/png": "[encoded data removed]",
      "text/plain": [
       "<Figure size 1800x720 with 2 Axes>"
      ]
     },
     "metadata": {
      "needs_background": "light"
     },
     "output_type": "display_data"
    }
   ],
   "source": [
    "import missingno as msno \n",
    "msno.matrix(df)"
   ]
  },
  {
   "cell_type": "markdown",
   "metadata": {},
   "source": [
    "### Feature engineering"
   ]
  },
  {
   "cell_type": "code",
   "execution_count": 6,
   "metadata": {
    "execution": {
     "iopub.execute_input": "2023-03-24T07:35:14.61674Z",
     "iopub.status.busy": "2023-03-24T07:35:14.616283Z",
     "iopub.status.idle": "2023-03-24T07:35:14.659807Z",
     "shell.execute_reply": "2023-03-24T07:35:14.658145Z",
     "shell.execute_reply.started": "2023-03-24T07:35:14.616703Z"
    }
   },
   "outputs": [],
   "source": [
    "# Getting the date, month,year from date of journey column separately\n",
    "\n",
    "df['date'] = df['date_of_journey'].str.split('/').str[0].astype(int)\n",
    "df['month'] = df['date_of_journey'].str.split('/').str[1].astype(int)\n",
    "df['year'] = df['date_of_journey'].str.split('/').str[2].astype(int)\n",
    "df.drop('date_of_journey', axis = 1, inplace = True)"
   ]
  },
  {
   "cell_type": "code",
   "execution_count": 7,
   "metadata": {
    "execution": {
     "iopub.execute_input": "2023-03-24T07:35:14.944857Z",
     "iopub.status.busy": "2023-03-24T07:35:14.944128Z",
     "iopub.status.idle": "2023-03-24T07:35:14.956389Z",
     "shell.execute_reply": "2023-03-24T07:35:14.954553Z",
     "shell.execute_reply.started": "2023-03-24T07:35:14.944812Z"
    }
   },
   "outputs": [],
   "source": [
    "# Removing date from arrival time column\n",
    "df['arrival_time'] = df['arrival_time'].apply(lambda x: x.split(' ')[0])"
   ]
  },
  {
   "cell_type": "code",
   "execution_count": 8,
   "metadata": {
    "execution": {
     "iopub.execute_input": "2023-03-24T07:35:16.336827Z",
     "iopub.status.busy": "2023-03-24T07:35:16.336394Z",
     "iopub.status.idle": "2023-03-24T07:35:16.383197Z",
     "shell.execute_reply": "2023-03-24T07:35:16.381972Z",
     "shell.execute_reply.started": "2023-03-24T07:35:16.336786Z"
    }
   },
   "outputs": [],
   "source": [
    "# Splitting arrival time into arrival hour and arrival min\n",
    "df['arrival_hour'] = df['arrival_time'].str.split(':').str[0].astype(int)\n",
    "df['arrival_min'] = df['arrival_time'].str.split(':').str[1].astype(int)\n",
    "df.drop('arrival_time', axis = 1, inplace = True)"
   ]
  },
  {
   "cell_type": "code",
   "execution_count": 9,
   "metadata": {
    "execution": {
     "iopub.execute_input": "2023-03-24T07:35:16.689152Z",
     "iopub.status.busy": "2023-03-24T07:35:16.688346Z",
     "iopub.status.idle": "2023-03-24T07:35:16.71897Z",
     "shell.execute_reply": "2023-03-24T07:35:16.717509Z",
     "shell.execute_reply.started": "2023-03-24T07:35:16.689106Z"
    }
   },
   "outputs": [],
   "source": [
    "df['dep_hr']= df['dep_time'].str.split(':').str[0].astype(int)\n",
    "df['dep_min']= df['dep_time'].str.split(':').str[1].astype(int)\n",
    "df.drop('dep_time', axis = 1, inplace = True)"
   ]
  },
  {
   "cell_type": "code",
   "execution_count": 10,
   "metadata": {
    "execution": {
     "iopub.execute_input": "2023-03-24T07:35:16.921331Z",
     "iopub.status.busy": "2023-03-24T07:35:16.920922Z",
     "iopub.status.idle": "2023-03-24T07:35:16.934029Z",
     "shell.execute_reply": "2023-03-24T07:35:16.932549Z",
     "shell.execute_reply.started": "2023-03-24T07:35:16.921297Z"
    },
    "tags": []
   },
   "outputs": [
    {
     "data": {
      "text/plain": [
       "1 stop      5625\n",
       "non-stop    3475\n",
       "2 stops     1318\n",
       "3 stops       43\n",
       "4 stops        1\n",
       "Name: total_stops, dtype: int64"
      ]
     },
     "execution_count": 10,
     "metadata": {},
     "output_type": "execute_result"
    }
   ],
   "source": [
    "df['total_stops'].value_counts()"
   ]
  },
  {
   "cell_type": "code",
   "execution_count": 11,
   "metadata": {
    "execution": {
     "iopub.execute_input": "2023-03-24T07:35:17.249351Z",
     "iopub.status.busy": "2023-03-24T07:35:17.248477Z",
     "iopub.status.idle": "2023-03-24T07:35:17.257745Z",
     "shell.execute_reply": "2023-03-24T07:35:17.256618Z",
     "shell.execute_reply.started": "2023-03-24T07:35:17.249311Z"
    }
   },
   "outputs": [
    {
     "data": {
      "text/plain": [
       "1"
      ]
     },
     "execution_count": 11,
     "metadata": {},
     "output_type": "execute_result"
    }
   ],
   "source": [
    "df['total_stops'].isnull().sum()"
   ]
  },
  {
   "cell_type": "markdown",
   "metadata": {},
   "source": [
    "### Encoding"
   ]
  },
  {
   "cell_type": "code",
   "execution_count": 12,
   "metadata": {
    "execution": {
     "iopub.execute_input": "2023-03-24T07:35:20.882464Z",
     "iopub.status.busy": "2023-03-24T07:35:20.881374Z",
     "iopub.status.idle": "2023-03-24T07:35:20.890215Z",
     "shell.execute_reply": "2023-03-24T07:35:20.88873Z",
     "shell.execute_reply.started": "2023-03-24T07:35:20.882402Z"
    }
   },
   "outputs": [],
   "source": [
    "# Encoding the total stops col:\n",
    "# Ordinal encoding as the flight prices keep on increasing with stops \n",
    "\n",
    "df['total_stops'] = df['total_stops'].map({'nonn-stop' : 0, '1 stop' : 1,'2 stops' : 2,'3 stops' : 3, '4 stops': 4, np.nan :1})"
   ]
  },
  {
   "cell_type": "code",
   "execution_count": 13,
   "metadata": {
    "execution": {
     "iopub.execute_input": "2023-03-24T07:35:21.210149Z",
     "iopub.status.busy": "2023-03-24T07:35:21.209667Z",
     "iopub.status.idle": "2023-03-24T07:35:21.217697Z",
     "shell.execute_reply": "2023-03-24T07:35:21.216421Z",
     "shell.execute_reply.started": "2023-03-24T07:35:21.210107Z"
    }
   },
   "outputs": [],
   "source": [
    "df.drop('route', axis = 1, inplace = True)"
   ]
  },
  {
   "cell_type": "code",
   "execution_count": 14,
   "metadata": {
    "execution": {
     "iopub.execute_input": "2023-03-24T07:35:23.324728Z",
     "iopub.status.busy": "2023-03-24T07:35:23.323402Z",
     "iopub.status.idle": "2023-03-24T07:35:23.336694Z",
     "shell.execute_reply": "2023-03-24T07:35:23.335254Z",
     "shell.execute_reply.started": "2023-03-24T07:35:23.324661Z"
    }
   },
   "outputs": [],
   "source": [
    "# Dropping the 6397th row as it contained a 5 min flight in duration col\n",
    "df.drop(6397, axis = 0, inplace = True)"
   ]
  },
  {
   "cell_type": "code",
   "execution_count": 15,
   "metadata": {
    "execution": {
     "iopub.execute_input": "2023-03-24T07:35:23.746027Z",
     "iopub.status.busy": "2023-03-24T07:35:23.745103Z",
     "iopub.status.idle": "2023-03-24T07:35:23.794135Z",
     "shell.execute_reply": "2023-03-24T07:35:23.792702Z",
     "shell.execute_reply.started": "2023-03-24T07:35:23.745967Z"
    }
   },
   "outputs": [],
   "source": [
    "# Separating the duration of flight in hrs and mins\n",
    "df['duration_hrs'] = df['duration'].str.split(' ').str[0].str.split('h').str[0].astype(int)"
   ]
  },
  {
   "cell_type": "code",
   "execution_count": 16,
   "metadata": {
    "execution": {
     "iopub.execute_input": "2023-03-24T07:35:25.417583Z",
     "iopub.status.busy": "2023-03-24T07:35:25.417143Z",
     "iopub.status.idle": "2023-03-24T07:35:25.430153Z",
     "shell.execute_reply": "2023-03-24T07:35:25.428702Z",
     "shell.execute_reply.started": "2023-03-24T07:35:25.417547Z"
    }
   },
   "outputs": [
    {
     "data": {
      "text/plain": [
       "0         2\n",
       "1         7\n",
       "2        19\n",
       "3         5\n",
       "4         4\n",
       "         ..\n",
       "10458     2\n",
       "10459     2\n",
       "10460     3\n",
       "10461     2\n",
       "10462     8\n",
       "Name: duration_hrs, Length: 10462, dtype: int32"
      ]
     },
     "execution_count": 16,
     "metadata": {},
     "output_type": "execute_result"
    }
   ],
   "source": [
    "df['duration_hrs']"
   ]
  },
  {
   "cell_type": "code",
   "execution_count": 17,
   "metadata": {
    "execution": {
     "iopub.execute_input": "2023-03-24T07:35:26.322123Z",
     "iopub.status.busy": "2023-03-24T07:35:26.321535Z",
     "iopub.status.idle": "2023-03-24T07:35:26.501132Z",
     "shell.execute_reply": "2023-03-24T07:35:26.499888Z",
     "shell.execute_reply.started": "2023-03-24T07:35:26.322067Z"
    }
   },
   "outputs": [
    {
     "data": {
      "text/plain": [
       "0        50.0\n",
       "1        25.0\n",
       "2         0.0\n",
       "3        25.0\n",
       "4        45.0\n",
       "         ... \n",
       "10458    30.0\n",
       "10459    35.0\n",
       "10460     0.0\n",
       "10461    40.0\n",
       "10462    20.0\n",
       "Name: duration_mins, Length: 10462, dtype: float64"
      ]
     },
     "execution_count": 17,
     "metadata": {},
     "output_type": "execute_result"
    }
   ],
   "source": [
    "df['duration_mins'] = df['duration'].str.split(' ').str[1].str.split('m').str[0].astype(float)\n",
    "df['duration_mins']=df['duration_mins'].fillna(0)\n",
    "df['duration_mins']"
   ]
  },
  {
   "cell_type": "code",
   "execution_count": 18,
   "metadata": {
    "execution": {
     "iopub.execute_input": "2023-03-24T07:35:26.537436Z",
     "iopub.status.busy": "2023-03-24T07:35:26.536955Z",
     "iopub.status.idle": "2023-03-24T07:35:26.544864Z",
     "shell.execute_reply": "2023-03-24T07:35:26.543416Z",
     "shell.execute_reply.started": "2023-03-24T07:35:26.537392Z"
    }
   },
   "outputs": [],
   "source": [
    "# Recreating the duration column containin the total duration of flight in mins\n",
    "df['duration'] = ( df['duration_hrs'] * 60 )+ df['duration_mins']"
   ]
  },
  {
   "cell_type": "code",
   "execution_count": 19,
   "metadata": {
    "execution": {
     "iopub.execute_input": "2023-03-24T07:35:26.773355Z",
     "iopub.status.busy": "2023-03-24T07:35:26.772867Z",
     "iopub.status.idle": "2023-03-24T07:35:26.782631Z",
     "shell.execute_reply": "2023-03-24T07:35:26.781431Z",
     "shell.execute_reply.started": "2023-03-24T07:35:26.773313Z"
    }
   },
   "outputs": [
    {
     "data": {
      "text/plain": [
       "0         170.0\n",
       "1         445.0\n",
       "2        1140.0\n",
       "3         325.0\n",
       "4         285.0\n",
       "          ...  \n",
       "10458     150.0\n",
       "10459     155.0\n",
       "10460     180.0\n",
       "10461     160.0\n",
       "10462     500.0\n",
       "Name: duration, Length: 10462, dtype: float64"
      ]
     },
     "execution_count": 19,
     "metadata": {},
     "output_type": "execute_result"
    }
   ],
   "source": [
    "df['duration']"
   ]
  },
  {
   "cell_type": "code",
   "execution_count": 20,
   "metadata": {
    "execution": {
     "iopub.execute_input": "2023-03-24T07:35:26.936699Z",
     "iopub.status.busy": "2023-03-24T07:35:26.936005Z",
     "iopub.status.idle": "2023-03-24T07:35:26.946762Z",
     "shell.execute_reply": "2023-03-24T07:35:26.945271Z",
     "shell.execute_reply.started": "2023-03-24T07:35:26.936644Z"
    }
   },
   "outputs": [],
   "source": [
    "df.drop(['duration_hrs', 'duration_mins', 'additional_info'], axis = 1, inplace = True)"
   ]
  },
  {
   "cell_type": "code",
   "execution_count": 21,
   "metadata": {
    "execution": {
     "iopub.execute_input": "2023-03-24T07:35:28.682762Z",
     "iopub.status.busy": "2023-03-24T07:35:28.681556Z",
     "iopub.status.idle": "2023-03-24T07:35:28.691025Z",
     "shell.execute_reply": "2023-03-24T07:35:28.689525Z",
     "shell.execute_reply.started": "2023-03-24T07:35:28.68271Z"
    }
   },
   "outputs": [],
   "source": [
    "# Filling missing values in total stops column\n",
    "df['total_stops'].fillna(0, inplace = True)"
   ]
  },
  {
   "cell_type": "code",
   "execution_count": 22,
   "metadata": {
    "execution": {
     "iopub.execute_input": "2023-03-24T07:35:28.865198Z",
     "iopub.status.busy": "2023-03-24T07:35:28.864049Z",
     "iopub.status.idle": "2023-03-24T07:35:28.885706Z",
     "shell.execute_reply": "2023-03-24T07:35:28.884176Z",
     "shell.execute_reply.started": "2023-03-24T07:35:28.865139Z"
    }
   },
   "outputs": [
    {
     "data": {
      "text/html": [
       "<div>\n",
       "<style scoped>\n",
       "    .dataframe tbody tr th:only-of-type {\n",
       "        vertical-align: middle;\n",
       "    }\n",
       "\n",
       "    .dataframe tbody tr th {\n",
       "        vertical-align: top;\n",
       "    }\n",
       "\n",
       "    .dataframe thead th {\n",
       "        text-align: right;\n",
       "    }\n",
       "</style>\n",
       "<table border=\"1\" class=\"dataframe\">\n",
       "  <thead>\n",
       "    <tr style=\"text-align: right;\">\n",
       "      <th></th>\n",
       "      <th>airline</th>\n",
       "      <th>source</th>\n",
       "      <th>destination</th>\n",
       "      <th>duration</th>\n",
       "      <th>total_stops</th>\n",
       "      <th>price</th>\n",
       "      <th>date</th>\n",
       "      <th>month</th>\n",
       "      <th>year</th>\n",
       "      <th>arrival_hour</th>\n",
       "      <th>arrival_min</th>\n",
       "      <th>dep_hr</th>\n",
       "      <th>dep_min</th>\n",
       "    </tr>\n",
       "  </thead>\n",
       "  <tbody>\n",
       "    <tr>\n",
       "      <th>0</th>\n",
       "      <td>IndiGo</td>\n",
       "      <td>Banglore</td>\n",
       "      <td>New Delhi</td>\n",
       "      <td>170.0</td>\n",
       "      <td>0.0</td>\n",
       "      <td>3897</td>\n",
       "      <td>24</td>\n",
       "      <td>3</td>\n",
       "      <td>2019</td>\n",
       "      <td>1</td>\n",
       "      <td>10</td>\n",
       "      <td>22</td>\n",
       "      <td>20</td>\n",
       "    </tr>\n",
       "    <tr>\n",
       "      <th>1</th>\n",
       "      <td>Air India</td>\n",
       "      <td>Kolkata</td>\n",
       "      <td>Banglore</td>\n",
       "      <td>445.0</td>\n",
       "      <td>2.0</td>\n",
       "      <td>7662</td>\n",
       "      <td>1</td>\n",
       "      <td>5</td>\n",
       "      <td>2019</td>\n",
       "      <td>13</td>\n",
       "      <td>15</td>\n",
       "      <td>5</td>\n",
       "      <td>50</td>\n",
       "    </tr>\n",
       "    <tr>\n",
       "      <th>2</th>\n",
       "      <td>Jet Airways</td>\n",
       "      <td>Delhi</td>\n",
       "      <td>Cochin</td>\n",
       "      <td>1140.0</td>\n",
       "      <td>2.0</td>\n",
       "      <td>13882</td>\n",
       "      <td>9</td>\n",
       "      <td>6</td>\n",
       "      <td>2019</td>\n",
       "      <td>4</td>\n",
       "      <td>25</td>\n",
       "      <td>9</td>\n",
       "      <td>25</td>\n",
       "    </tr>\n",
       "    <tr>\n",
       "      <th>3</th>\n",
       "      <td>IndiGo</td>\n",
       "      <td>Kolkata</td>\n",
       "      <td>Banglore</td>\n",
       "      <td>325.0</td>\n",
       "      <td>1.0</td>\n",
       "      <td>6218</td>\n",
       "      <td>12</td>\n",
       "      <td>5</td>\n",
       "      <td>2019</td>\n",
       "      <td>23</td>\n",
       "      <td>30</td>\n",
       "      <td>18</td>\n",
       "      <td>5</td>\n",
       "    </tr>\n",
       "    <tr>\n",
       "      <th>4</th>\n",
       "      <td>IndiGo</td>\n",
       "      <td>Banglore</td>\n",
       "      <td>New Delhi</td>\n",
       "      <td>285.0</td>\n",
       "      <td>1.0</td>\n",
       "      <td>13302</td>\n",
       "      <td>1</td>\n",
       "      <td>3</td>\n",
       "      <td>2019</td>\n",
       "      <td>21</td>\n",
       "      <td>35</td>\n",
       "      <td>16</td>\n",
       "      <td>50</td>\n",
       "    </tr>\n",
       "  </tbody>\n",
       "</table>\n",
       "</div>"
      ],
      "text/plain": [
       "       airline    source destination  duration  total_stops  price  date  \\\n",
       "0       IndiGo  Banglore   New Delhi     170.0          0.0   3897    24   \n",
       "1    Air India   Kolkata    Banglore     445.0          2.0   7662     1   \n",
       "2  Jet Airways     Delhi      Cochin    1140.0          2.0  13882     9   \n",
       "3       IndiGo   Kolkata    Banglore     325.0          1.0   6218    12   \n",
       "4       IndiGo  Banglore   New Delhi     285.0          1.0  13302     1   \n",
       "\n",
       "   month  year  arrival_hour  arrival_min  dep_hr  dep_min  \n",
       "0      3  2019             1           10      22       20  \n",
       "1      5  2019            13           15       5       50  \n",
       "2      6  2019             4           25       9       25  \n",
       "3      5  2019            23           30      18        5  \n",
       "4      3  2019            21           35      16       50  "
      ]
     },
     "execution_count": 22,
     "metadata": {},
     "output_type": "execute_result"
    }
   ],
   "source": [
    "df.head()"
   ]
  },
  {
   "cell_type": "code",
   "execution_count": 23,
   "metadata": {
    "execution": {
     "iopub.execute_input": "2023-03-24T07:35:29.05255Z",
     "iopub.status.busy": "2023-03-24T07:35:29.05162Z",
     "iopub.status.idle": "2023-03-24T07:35:29.066136Z",
     "shell.execute_reply": "2023-03-24T07:35:29.064428Z",
     "shell.execute_reply.started": "2023-03-24T07:35:29.052485Z"
    }
   },
   "outputs": [
    {
     "data": {
      "text/plain": [
       "airline         0\n",
       "source          0\n",
       "destination     0\n",
       "duration        0\n",
       "total_stops     0\n",
       "price           0\n",
       "date            0\n",
       "month           0\n",
       "year            0\n",
       "arrival_hour    0\n",
       "arrival_min     0\n",
       "dep_hr          0\n",
       "dep_min         0\n",
       "dtype: int64"
      ]
     },
     "execution_count": 23,
     "metadata": {},
     "output_type": "execute_result"
    }
   ],
   "source": [
    "df.isna().sum()"
   ]
  },
  {
   "cell_type": "markdown",
   "metadata": {},
   "source": [
    "### Conclusion:\n",
    "No missing values left"
   ]
  },
  {
   "cell_type": "code",
   "execution_count": 24,
   "metadata": {
    "execution": {
     "iopub.execute_input": "2023-03-24T07:35:30.402413Z",
     "iopub.status.busy": "2023-03-24T07:35:30.401942Z",
     "iopub.status.idle": "2023-03-24T07:35:30.490357Z",
     "shell.execute_reply": "2023-03-24T07:35:30.488983Z",
     "shell.execute_reply.started": "2023-03-24T07:35:30.402371Z"
    }
   },
   "outputs": [],
   "source": [
    "from sklearn.preprocessing import  OneHotEncoder\n",
    "encoder = OneHotEncoder()"
   ]
  },
  {
   "cell_type": "code",
   "execution_count": 25,
   "metadata": {
    "execution": {
     "iopub.execute_input": "2023-03-24T07:35:30.568675Z",
     "iopub.status.busy": "2023-03-24T07:35:30.568185Z",
     "iopub.status.idle": "2023-03-24T07:35:30.595595Z",
     "shell.execute_reply": "2023-03-24T07:35:30.594098Z",
     "shell.execute_reply.started": "2023-03-24T07:35:30.568634Z"
    }
   },
   "outputs": [
    {
     "data": {
      "text/plain": [
       "array([[0., 0., 0., ..., 0., 0., 1.],\n",
       "       [0., 1., 0., ..., 0., 0., 0.],\n",
       "       [0., 0., 0., ..., 0., 0., 0.],\n",
       "       ...,\n",
       "       [0., 0., 0., ..., 0., 0., 0.],\n",
       "       [0., 0., 0., ..., 0., 0., 1.],\n",
       "       [0., 1., 0., ..., 0., 0., 0.]])"
      ]
     },
     "execution_count": 25,
     "metadata": {},
     "output_type": "execute_result"
    }
   ],
   "source": [
    "encoder.fit_transform(df[['airline', 'source', 'destination']]).toarray()"
   ]
  },
  {
   "cell_type": "code",
   "execution_count": 26,
   "metadata": {
    "execution": {
     "iopub.execute_input": "2023-03-24T07:35:35.179278Z",
     "iopub.status.busy": "2023-03-24T07:35:35.178839Z",
     "iopub.status.idle": "2023-03-24T07:35:35.206593Z",
     "shell.execute_reply": "2023-03-24T07:35:35.20498Z",
     "shell.execute_reply.started": "2023-03-24T07:35:35.17924Z"
    }
   },
   "outputs": [
    {
     "data": {
      "text/plain": [
       "(10462, 23)"
      ]
     },
     "execution_count": 26,
     "metadata": {},
     "output_type": "execute_result"
    }
   ],
   "source": [
    "df2 = pd.DataFrame(encoder.fit_transform(df[['airline', 'source', 'destination']]).toarray(), columns = encoder.get_feature_names_out())\n",
    "df2.shape"
   ]
  },
  {
   "cell_type": "code",
   "execution_count": 27,
   "metadata": {
    "execution": {
     "iopub.execute_input": "2023-03-24T07:35:35.403363Z",
     "iopub.status.busy": "2023-03-24T07:35:35.402277Z",
     "iopub.status.idle": "2023-03-24T07:35:35.427154Z",
     "shell.execute_reply": "2023-03-24T07:35:35.42584Z",
     "shell.execute_reply.started": "2023-03-24T07:35:35.403309Z"
    }
   },
   "outputs": [
    {
     "data": {
      "text/plain": [
       "(10463, 36)"
      ]
     },
     "execution_count": 27,
     "metadata": {},
     "output_type": "execute_result"
    }
   ],
   "source": [
    "#Dataframe for model training since it contains all numeric values\n",
    "\n",
    "df3 = pd.concat([df2, df], axis = 1)\n",
    "df3.shape"
   ]
  },
  {
   "cell_type": "code",
   "execution_count": 28,
   "metadata": {
    "execution": {
     "iopub.execute_input": "2023-03-24T07:35:35.570846Z",
     "iopub.status.busy": "2023-03-24T07:35:35.570365Z",
     "iopub.status.idle": "2023-03-24T07:35:35.580552Z",
     "shell.execute_reply": "2023-03-24T07:35:35.578207Z",
     "shell.execute_reply.started": "2023-03-24T07:35:35.570806Z"
    }
   },
   "outputs": [],
   "source": [
    "df3['total_stops'].fillna(0, inplace = True)"
   ]
  },
  {
   "cell_type": "code",
   "execution_count": 29,
   "metadata": {
    "execution": {
     "iopub.execute_input": "2023-03-24T07:35:36.709063Z",
     "iopub.status.busy": "2023-03-24T07:35:36.708576Z",
     "iopub.status.idle": "2023-03-24T07:35:36.722564Z",
     "shell.execute_reply": "2023-03-24T07:35:36.721078Z",
     "shell.execute_reply.started": "2023-03-24T07:35:36.709019Z"
    }
   },
   "outputs": [],
   "source": [
    "df3.drop(['destination','source', 'airline'], axis = 1,inplace= True)"
   ]
  },
  {
   "cell_type": "markdown",
   "metadata": {},
   "source": [
    "### Visualization"
   ]
  },
  {
   "cell_type": "code",
   "execution_count": 30,
   "metadata": {
    "execution": {
     "iopub.execute_input": "2023-03-24T07:35:37.154163Z",
     "iopub.status.busy": "2023-03-24T07:35:37.152925Z",
     "iopub.status.idle": "2023-03-24T07:35:37.535316Z",
     "shell.execute_reply": "2023-03-24T07:35:37.533854Z",
     "shell.execute_reply.started": "2023-03-24T07:35:37.154114Z"
    }
   },
   "outputs": [
    {
     "data": {
      "image/png": "[encoded data removed]",
      "text/plain": [
       "<Figure size 1080x432 with 1 Axes>"
      ]
     },
     "metadata": {
      "needs_background": "light"
     },
     "output_type": "display_data"
    }
   ],
   "source": [
    "plt.figure(figsize=(15,6))\n",
    "sns.countplot(df, x ='airline' , palette ='hls')\n",
    "plt.xticks(rotation = 90)\n",
    "sns.despine()\n",
    "plt.show()"
   ]
  },
  {
   "cell_type": "markdown",
   "metadata": {},
   "source": [
    "### Conclusion:\n",
    "Jet Airways takes the highest number of flights"
   ]
  },
  {
   "cell_type": "code",
   "execution_count": 31,
   "metadata": {
    "execution": {
     "iopub.execute_input": "2023-03-24T07:35:38.282523Z",
     "iopub.status.busy": "2023-03-24T07:35:38.281369Z",
     "iopub.status.idle": "2023-03-24T07:35:38.788787Z",
     "shell.execute_reply": "2023-03-24T07:35:38.787524Z",
     "shell.execute_reply.started": "2023-03-24T07:35:38.282472Z"
    }
   },
   "outputs": [
    {
     "data": {
      "image/png": "[encoded data removed]",
      "text/plain": [
       "<Figure size 1080x432 with 1 Axes>"
      ]
     },
     "metadata": {
      "needs_background": "light"
     },
     "output_type": "display_data"
    }
   ],
   "source": [
    "plt.figure(figsize=(15,6))\n",
    "sns.countplot(df, x ='airline' ,hue = 'source', palette ='rocket')\n",
    "plt.xticks(rotation = 90)\n",
    "sns.despine()\n",
    "plt.show()"
   ]
  },
  {
   "cell_type": "markdown",
   "metadata": {},
   "source": [
    "### Conclusion:\n",
    "Most number of flights are from Delhi followed by Kolkata"
   ]
  },
  {
   "cell_type": "code",
   "execution_count": 32,
   "metadata": {
    "execution": {
     "iopub.execute_input": "2023-03-24T07:35:40.362967Z",
     "iopub.status.busy": "2023-03-24T07:35:40.362202Z",
     "iopub.status.idle": "2023-03-24T07:35:40.901889Z",
     "shell.execute_reply": "2023-03-24T07:35:40.900535Z",
     "shell.execute_reply.started": "2023-03-24T07:35:40.362908Z"
    }
   },
   "outputs": [
    {
     "data": {
      "image/png": "[encoded data removed]",
      "text/plain": [
       "<Figure size 1080x432 with 1 Axes>"
      ]
     },
     "metadata": {
      "needs_background": "light"
     },
     "output_type": "display_data"
    }
   ],
   "source": [
    "plt.figure(figsize=(15,6))\n",
    "sns.countplot(df, x ='airline' ,hue = 'destination', palette ='rocket')\n",
    "plt.xticks(rotation = 90)\n",
    "sns.despine()\n",
    "plt.show()"
   ]
  },
  {
   "cell_type": "markdown",
   "metadata": {},
   "source": [
    "### Conclusion:\n",
    "Bangalore and Cochin have most frequent flights"
   ]
  },
  {
   "cell_type": "code",
   "execution_count": 33,
   "metadata": {
    "execution": {
     "iopub.execute_input": "2023-03-24T07:35:42.131545Z",
     "iopub.status.busy": "2023-03-24T07:35:42.131109Z",
     "iopub.status.idle": "2023-03-24T07:35:43.067042Z",
     "shell.execute_reply": "2023-03-24T07:35:43.065814Z",
     "shell.execute_reply.started": "2023-03-24T07:35:42.131508Z"
    }
   },
   "outputs": [
    {
     "data": {
      "image/png": "[encoded data removed]",
      "text/plain": [
       "<Figure size 1440x576 with 1 Axes>"
      ]
     },
     "metadata": {
      "needs_background": "light"
     },
     "output_type": "display_data"
    }
   ],
   "source": [
    "plt.figure(figsize=(20,8))\n",
    "sns.scatterplot(df, x ='destination',y = 'price', hue = 'airline', palette = 'Paired')\n",
    "plt.xticks(rotation = 90)\n",
    "sns.despine()\n",
    "plt.show()"
   ]
  },
  {
   "cell_type": "markdown",
   "metadata": {},
   "source": [
    "### Conclusion:\n",
    "The costliest flights are to New Delhi and Cochin from Jet Airways Business"
   ]
  },
  {
   "cell_type": "code",
   "execution_count": 34,
   "metadata": {
    "execution": {
     "iopub.execute_input": "2023-03-24T07:35:43.06944Z",
     "iopub.status.busy": "2023-03-24T07:35:43.069076Z",
     "iopub.status.idle": "2023-03-24T07:35:44.279695Z",
     "shell.execute_reply": "2023-03-24T07:35:44.278254Z",
     "shell.execute_reply.started": "2023-03-24T07:35:43.069406Z"
    }
   },
   "outputs": [
    {
     "data": {
      "text/plain": [
       "<AxesSubplot:xlabel='month', ylabel='price'>"
      ]
     },
     "execution_count": 34,
     "metadata": {},
     "output_type": "execute_result"
    },
    {
     "data": {
      "image/png": "[encoded data removed]",
      "text/plain": [
       "<Figure size 1440x576 with 1 Axes>"
      ]
     },
     "metadata": {
      "needs_background": "light"
     },
     "output_type": "display_data"
    }
   ],
   "source": [
    "plt.figure(figsize = (20,8))\n",
    "sns.scatterplot(df, x = 'month', y = 'price',hue = 'airline' ,palette='Paired')"
   ]
  },
  {
   "cell_type": "markdown",
   "metadata": {},
   "source": [
    "### Conclusion:\n",
    "Flight rates are highest in the first quarter and lowest in the second quarter"
   ]
  },
  {
   "cell_type": "code",
   "execution_count": 35,
   "metadata": {
    "execution": {
     "iopub.execute_input": "2023-03-24T07:35:46.098037Z",
     "iopub.status.busy": "2023-03-24T07:35:46.097612Z",
     "iopub.status.idle": "2023-03-24T07:35:47.236326Z",
     "shell.execute_reply": "2023-03-24T07:35:47.234637Z",
     "shell.execute_reply.started": "2023-03-24T07:35:46.098002Z"
    }
   },
   "outputs": [
    {
     "data": {
      "image/png": "[encoded data removed]",
      "text/plain": [
       "<Figure size 432x288 with 1 Axes>"
      ]
     },
     "metadata": {
      "needs_background": "light"
     },
     "output_type": "display_data"
    }
   ],
   "source": [
    "sns.lineplot(df, x =  'airline', y = 'price',hue = 'total_stops', palette='icefire' )\n",
    "plt.xticks(rotation = 90)\n",
    "plt.show()"
   ]
  },
  {
   "cell_type": "code",
   "execution_count": null,
   "metadata": {},
   "outputs": [],
   "source": []
  },
  {
   "cell_type": "markdown",
   "metadata": {},
   "source": [
    "### Conclusion:\n",
    "1-Stop Fights with Jet Airways Business are the costliest followed by the 2-Stop flights with the same<br>\n",
    "Non stop flights are the cheapest across the board"
   ]
  },
  {
   "cell_type": "code",
   "execution_count": 36,
   "metadata": {},
   "outputs": [
    {
     "data": {
      "text/html": [
       "<div>\n",
       "<style scoped>\n",
       "    .dataframe tbody tr th:only-of-type {\n",
       "        vertical-align: middle;\n",
       "    }\n",
       "\n",
       "    .dataframe tbody tr th {\n",
       "        vertical-align: top;\n",
       "    }\n",
       "\n",
       "    .dataframe thead th {\n",
       "        text-align: right;\n",
       "    }\n",
       "</style>\n",
       "<table border=\"1\" class=\"dataframe\">\n",
       "  <thead>\n",
       "    <tr style=\"text-align: right;\">\n",
       "      <th></th>\n",
       "      <th>airline</th>\n",
       "      <th>source</th>\n",
       "      <th>destination</th>\n",
       "      <th>duration</th>\n",
       "      <th>total_stops</th>\n",
       "      <th>price</th>\n",
       "      <th>date</th>\n",
       "      <th>month</th>\n",
       "      <th>year</th>\n",
       "      <th>arrival_hour</th>\n",
       "      <th>arrival_min</th>\n",
       "      <th>dep_hr</th>\n",
       "      <th>dep_min</th>\n",
       "    </tr>\n",
       "  </thead>\n",
       "  <tbody>\n",
       "    <tr>\n",
       "      <th>0</th>\n",
       "      <td>IndiGo</td>\n",
       "      <td>Banglore</td>\n",
       "      <td>New Delhi</td>\n",
       "      <td>170.0</td>\n",
       "      <td>0.0</td>\n",
       "      <td>3897</td>\n",
       "      <td>24</td>\n",
       "      <td>3</td>\n",
       "      <td>2019</td>\n",
       "      <td>1</td>\n",
       "      <td>10</td>\n",
       "      <td>22</td>\n",
       "      <td>20</td>\n",
       "    </tr>\n",
       "    <tr>\n",
       "      <th>1</th>\n",
       "      <td>Air India</td>\n",
       "      <td>Kolkata</td>\n",
       "      <td>Banglore</td>\n",
       "      <td>445.0</td>\n",
       "      <td>2.0</td>\n",
       "      <td>7662</td>\n",
       "      <td>1</td>\n",
       "      <td>5</td>\n",
       "      <td>2019</td>\n",
       "      <td>13</td>\n",
       "      <td>15</td>\n",
       "      <td>5</td>\n",
       "      <td>50</td>\n",
       "    </tr>\n",
       "    <tr>\n",
       "      <th>2</th>\n",
       "      <td>Jet Airways</td>\n",
       "      <td>Delhi</td>\n",
       "      <td>Cochin</td>\n",
       "      <td>1140.0</td>\n",
       "      <td>2.0</td>\n",
       "      <td>13882</td>\n",
       "      <td>9</td>\n",
       "      <td>6</td>\n",
       "      <td>2019</td>\n",
       "      <td>4</td>\n",
       "      <td>25</td>\n",
       "      <td>9</td>\n",
       "      <td>25</td>\n",
       "    </tr>\n",
       "    <tr>\n",
       "      <th>3</th>\n",
       "      <td>IndiGo</td>\n",
       "      <td>Kolkata</td>\n",
       "      <td>Banglore</td>\n",
       "      <td>325.0</td>\n",
       "      <td>1.0</td>\n",
       "      <td>6218</td>\n",
       "      <td>12</td>\n",
       "      <td>5</td>\n",
       "      <td>2019</td>\n",
       "      <td>23</td>\n",
       "      <td>30</td>\n",
       "      <td>18</td>\n",
       "      <td>5</td>\n",
       "    </tr>\n",
       "    <tr>\n",
       "      <th>4</th>\n",
       "      <td>IndiGo</td>\n",
       "      <td>Banglore</td>\n",
       "      <td>New Delhi</td>\n",
       "      <td>285.0</td>\n",
       "      <td>1.0</td>\n",
       "      <td>13302</td>\n",
       "      <td>1</td>\n",
       "      <td>3</td>\n",
       "      <td>2019</td>\n",
       "      <td>21</td>\n",
       "      <td>35</td>\n",
       "      <td>16</td>\n",
       "      <td>50</td>\n",
       "    </tr>\n",
       "    <tr>\n",
       "      <th>...</th>\n",
       "      <td>...</td>\n",
       "      <td>...</td>\n",
       "      <td>...</td>\n",
       "      <td>...</td>\n",
       "      <td>...</td>\n",
       "      <td>...</td>\n",
       "      <td>...</td>\n",
       "      <td>...</td>\n",
       "      <td>...</td>\n",
       "      <td>...</td>\n",
       "      <td>...</td>\n",
       "      <td>...</td>\n",
       "      <td>...</td>\n",
       "    </tr>\n",
       "    <tr>\n",
       "      <th>10458</th>\n",
       "      <td>Air Asia</td>\n",
       "      <td>Kolkata</td>\n",
       "      <td>Banglore</td>\n",
       "      <td>150.0</td>\n",
       "      <td>0.0</td>\n",
       "      <td>4107</td>\n",
       "      <td>9</td>\n",
       "      <td>4</td>\n",
       "      <td>2019</td>\n",
       "      <td>22</td>\n",
       "      <td>25</td>\n",
       "      <td>19</td>\n",
       "      <td>55</td>\n",
       "    </tr>\n",
       "    <tr>\n",
       "      <th>10459</th>\n",
       "      <td>Air India</td>\n",
       "      <td>Kolkata</td>\n",
       "      <td>Banglore</td>\n",
       "      <td>155.0</td>\n",
       "      <td>0.0</td>\n",
       "      <td>4145</td>\n",
       "      <td>27</td>\n",
       "      <td>4</td>\n",
       "      <td>2019</td>\n",
       "      <td>23</td>\n",
       "      <td>20</td>\n",
       "      <td>20</td>\n",
       "      <td>45</td>\n",
       "    </tr>\n",
       "    <tr>\n",
       "      <th>10460</th>\n",
       "      <td>Jet Airways</td>\n",
       "      <td>Banglore</td>\n",
       "      <td>Delhi</td>\n",
       "      <td>180.0</td>\n",
       "      <td>0.0</td>\n",
       "      <td>7229</td>\n",
       "      <td>27</td>\n",
       "      <td>4</td>\n",
       "      <td>2019</td>\n",
       "      <td>11</td>\n",
       "      <td>20</td>\n",
       "      <td>8</td>\n",
       "      <td>20</td>\n",
       "    </tr>\n",
       "    <tr>\n",
       "      <th>10461</th>\n",
       "      <td>Vistara</td>\n",
       "      <td>Banglore</td>\n",
       "      <td>New Delhi</td>\n",
       "      <td>160.0</td>\n",
       "      <td>0.0</td>\n",
       "      <td>12648</td>\n",
       "      <td>1</td>\n",
       "      <td>3</td>\n",
       "      <td>2019</td>\n",
       "      <td>14</td>\n",
       "      <td>10</td>\n",
       "      <td>11</td>\n",
       "      <td>30</td>\n",
       "    </tr>\n",
       "    <tr>\n",
       "      <th>10462</th>\n",
       "      <td>Air India</td>\n",
       "      <td>Delhi</td>\n",
       "      <td>Cochin</td>\n",
       "      <td>500.0</td>\n",
       "      <td>2.0</td>\n",
       "      <td>11753</td>\n",
       "      <td>9</td>\n",
       "      <td>5</td>\n",
       "      <td>2019</td>\n",
       "      <td>19</td>\n",
       "      <td>15</td>\n",
       "      <td>10</td>\n",
       "      <td>55</td>\n",
       "    </tr>\n",
       "  </tbody>\n",
       "</table>\n",
       "<p>10462 rows × 13 columns</p>\n",
       "</div>"
      ],
      "text/plain": [
       "           airline    source destination  duration  total_stops  price  date  \\\n",
       "0           IndiGo  Banglore   New Delhi     170.0          0.0   3897    24   \n",
       "1        Air India   Kolkata    Banglore     445.0          2.0   7662     1   \n",
       "2      Jet Airways     Delhi      Cochin    1140.0          2.0  13882     9   \n",
       "3           IndiGo   Kolkata    Banglore     325.0          1.0   6218    12   \n",
       "4           IndiGo  Banglore   New Delhi     285.0          1.0  13302     1   \n",
       "...            ...       ...         ...       ...          ...    ...   ...   \n",
       "10458     Air Asia   Kolkata    Banglore     150.0          0.0   4107     9   \n",
       "10459    Air India   Kolkata    Banglore     155.0          0.0   4145    27   \n",
       "10460  Jet Airways  Banglore       Delhi     180.0          0.0   7229    27   \n",
       "10461      Vistara  Banglore   New Delhi     160.0          0.0  12648     1   \n",
       "10462    Air India     Delhi      Cochin     500.0          2.0  11753     9   \n",
       "\n",
       "       month  year  arrival_hour  arrival_min  dep_hr  dep_min  \n",
       "0          3  2019             1           10      22       20  \n",
       "1          5  2019            13           15       5       50  \n",
       "2          6  2019             4           25       9       25  \n",
       "3          5  2019            23           30      18        5  \n",
       "4          3  2019            21           35      16       50  \n",
       "...      ...   ...           ...          ...     ...      ...  \n",
       "10458      4  2019            22           25      19       55  \n",
       "10459      4  2019            23           20      20       45  \n",
       "10460      4  2019            11           20       8       20  \n",
       "10461      3  2019            14           10      11       30  \n",
       "10462      5  2019            19           15      10       55  \n",
       "\n",
       "[10462 rows x 13 columns]"
      ]
     },
     "execution_count": 36,
     "metadata": {},
     "output_type": "execute_result"
    }
   ],
   "source": [
    "df"
   ]
  },
  {
   "cell_type": "markdown",
   "metadata": {},
   "source": [
    "# Applying RobustScaler for correct data outliers"
   ]
  },
  {
   "cell_type": "code",
   "execution_count": 37,
   "metadata": {},
   "outputs": [
    {
     "data": {
      "text/html": [
       "<style>#sk-container-id-1 {color: black;background-color: white;}#sk-container-id-1 pre{padding: 0;}#sk-container-id-1 div.sk-toggleable {background-color: white;}#sk-container-id-1 label.sk-toggleable__label {cursor: pointer;display: block;width: 100%;margin-bottom: 0;padding: 0.3em;box-sizing: border-box;text-align: center;}#sk-container-id-1 label.sk-toggleable__label-arrow:before {content: \"▸\";float: left;margin-right: 0.25em;color: #696969;}#sk-container-id-1 label.sk-toggleable__label-arrow:hover:before {color: black;}#sk-container-id-1 div.sk-estimator:hover label.sk-toggleable__label-arrow:before {color: black;}#sk-container-id-1 div.sk-toggleable__content {max-height: 0;max-width: 0;overflow: hidden;text-align: left;background-color: #f0f8ff;}#sk-container-id-1 div.sk-toggleable__content pre {margin: 0.2em;color: black;border-radius: 0.25em;background-color: #f0f8ff;}#sk-container-id-1 input.sk-toggleable__control:checked~div.sk-toggleable__content {max-height: 200px;max-width: 100%;overflow: auto;}#sk-container-id-1 input.sk-toggleable__control:checked~label.sk-toggleable__label-arrow:before {content: \"▾\";}#sk-container-id-1 div.sk-estimator input.sk-toggleable__control:checked~label.sk-toggleable__label {background-color: #d4ebff;}#sk-container-id-1 div.sk-label input.sk-toggleable__control:checked~label.sk-toggleable__label {background-color: #d4ebff;}#sk-container-id-1 input.sk-hidden--visually {border: 0;clip: rect(1px 1px 1px 1px);clip: rect(1px, 1px, 1px, 1px);height: 1px;margin: -1px;overflow: hidden;padding: 0;position: absolute;width: 1px;}#sk-container-id-1 div.sk-estimator {font-family: monospace;background-color: #f0f8ff;border: 1px dotted black;border-radius: 0.25em;box-sizing: border-box;margin-bottom: 0.5em;}#sk-container-id-1 div.sk-estimator:hover {background-color: #d4ebff;}#sk-container-id-1 div.sk-parallel-item::after {content: \"\";width: 100%;border-bottom: 1px solid gray;flex-grow: 1;}#sk-container-id-1 div.sk-label:hover label.sk-toggleable__label {background-color: #d4ebff;}#sk-container-id-1 div.sk-serial::before {content: \"\";position: absolute;border-left: 1px solid gray;box-sizing: border-box;top: 0;bottom: 0;left: 50%;z-index: 0;}#sk-container-id-1 div.sk-serial {display: flex;flex-direction: column;align-items: center;background-color: white;padding-right: 0.2em;padding-left: 0.2em;position: relative;}#sk-container-id-1 div.sk-item {position: relative;z-index: 1;}#sk-container-id-1 div.sk-parallel {display: flex;align-items: stretch;justify-content: center;background-color: white;position: relative;}#sk-container-id-1 div.sk-item::before, #sk-container-id-1 div.sk-parallel-item::before {content: \"\";position: absolute;border-left: 1px solid gray;box-sizing: border-box;top: 0;bottom: 0;left: 50%;z-index: -1;}#sk-container-id-1 div.sk-parallel-item {display: flex;flex-direction: column;z-index: 1;position: relative;background-color: white;}#sk-container-id-1 div.sk-parallel-item:first-child::after {align-self: flex-end;width: 50%;}#sk-container-id-1 div.sk-parallel-item:last-child::after {align-self: flex-start;width: 50%;}#sk-container-id-1 div.sk-parallel-item:only-child::after {width: 0;}#sk-container-id-1 div.sk-dashed-wrapped {border: 1px dashed gray;margin: 0 0.4em 0.5em 0.4em;box-sizing: border-box;padding-bottom: 0.4em;background-color: white;}#sk-container-id-1 div.sk-label label {font-family: monospace;font-weight: bold;display: inline-block;line-height: 1.2em;}#sk-container-id-1 div.sk-label-container {text-align: center;}#sk-container-id-1 div.sk-container {/* jupyter's `normalize.less` sets `[hidden] { display: none; }` but bootstrap.min.css set `[hidden] { display: none !important; }` so we also need the `!important` here to be able to override the default hidden behavior on the sphinx rendered scikit-learn.org. See: https://github.com/scikit-learn/scikit-learn/issues/21755 */display: inline-block !important;position: relative;}#sk-container-id-1 div.sk-text-repr-fallback {display: none;}</style><div id=\"sk-container-id-1\" class=\"sk-top-container\"><div class=\"sk-text-repr-fallback\"><pre>RobustScaler()</pre><b>In a Jupyter environment, please rerun this cell to show the HTML representation or trust the notebook. <br />On GitHub, the HTML representation is unable to render, please try loading this page with nbviewer.org.</b></div><div class=\"sk-container\" hidden><div class=\"sk-item\"><div class=\"sk-estimator sk-toggleable\"><input class=\"sk-toggleable__control sk-hidden--visually\" id=\"sk-estimator-id-1\" type=\"checkbox\" checked><label for=\"sk-estimator-id-1\" class=\"sk-toggleable__label sk-toggleable__label-arrow\">RobustScaler</label><div class=\"sk-toggleable__content\"><pre>RobustScaler()</pre></div></div></div></div></div>"
      ],
      "text/plain": [
       "RobustScaler()"
      ]
     },
     "execution_count": 37,
     "metadata": {},
     "output_type": "execute_result"
    }
   ],
   "source": [
    "from sklearn.preprocessing import RobustScaler\n",
    "import numpy as np\n",
    "\n",
    "# Assuming 'data' is the array-like object containing your data\n",
    "\n",
    "# Create the RobustScaler object\n",
    "scaler = RobustScaler()\n",
    "\n",
    "# Fit the scaler to your data\n",
    "scaler.fit(df[['price']])"
   ]
  },
  {
   "cell_type": "markdown",
   "metadata": {},
   "source": [
    "# Transform the data using the scaler"
   ]
  },
  {
   "cell_type": "code",
   "execution_count": 38,
   "metadata": {},
   "outputs": [
    {
     "name": "stdout",
     "output_type": "stream",
     "text": [
      "0       -0.614184\n",
      "1       -0.084909\n",
      "2        0.789485\n",
      "3       -0.287903\n",
      "4        0.707950\n",
      "           ...   \n",
      "10458   -0.584663\n",
      "10459   -0.579321\n",
      "10460   -0.145779\n",
      "10461    0.616012\n",
      "10462    0.490195\n",
      "Name: price, Length: 10462, dtype: float64\n"
     ]
    }
   ],
   "source": [
    "\n",
    "\n",
    "df['price'] = scaler.transform(df[['price']])\n",
    "\n",
    "# Alternatively, you can fit and transform in one step\n",
    "df['price'] = scaler.fit_transform(df[['price']])\n",
    "\n",
    "# Print the scaled data\n",
    "print(df['price'])\n"
   ]
  },
  {
   "cell_type": "markdown",
   "metadata": {},
   "source": [
    "# Creating the independent variable(X) and dependent variable(y)"
   ]
  },
  {
   "cell_type": "code",
   "execution_count": 39,
   "metadata": {},
   "outputs": [],
   "source": [
    "x = df[['duration','total_stops','date','year','arrival_hour']]\n",
    "y = df['price']"
   ]
  },
  {
   "cell_type": "markdown",
   "metadata": {},
   "source": [
    "# Splitting the data set into train and test using train_test_split from sklearn.model_selection"
   ]
  },
  {
   "cell_type": "code",
   "execution_count": 40,
   "metadata": {},
   "outputs": [],
   "source": [
    "from sklearn.model_selection import train_test_split\n",
    "\n",
    "X_train, X_test, y_train, y_test = train_test_split(x,y,test_size=0.25)\n"
   ]
  },
  {
   "cell_type": "markdown",
   "metadata": {},
   "source": [
    "# Model"
   ]
  },
  {
   "cell_type": "code",
   "execution_count": 41,
   "metadata": {},
   "outputs": [
    {
     "data": {
      "text/html": [
       "<style>#sk-container-id-2 {color: black;background-color: white;}#sk-container-id-2 pre{padding: 0;}#sk-container-id-2 div.sk-toggleable {background-color: white;}#sk-container-id-2 label.sk-toggleable__label {cursor: pointer;display: block;width: 100%;margin-bottom: 0;padding: 0.3em;box-sizing: border-box;text-align: center;}#sk-container-id-2 label.sk-toggleable__label-arrow:before {content: \"▸\";float: left;margin-right: 0.25em;color: #696969;}#sk-container-id-2 label.sk-toggleable__label-arrow:hover:before {color: black;}#sk-container-id-2 div.sk-estimator:hover label.sk-toggleable__label-arrow:before {color: black;}#sk-container-id-2 div.sk-toggleable__content {max-height: 0;max-width: 0;overflow: hidden;text-align: left;background-color: #f0f8ff;}#sk-container-id-2 div.sk-toggleable__content pre {margin: 0.2em;color: black;border-radius: 0.25em;background-color: #f0f8ff;}#sk-container-id-2 input.sk-toggleable__control:checked~div.sk-toggleable__content {max-height: 200px;max-width: 100%;overflow: auto;}#sk-container-id-2 input.sk-toggleable__control:checked~label.sk-toggleable__label-arrow:before {content: \"▾\";}#sk-container-id-2 div.sk-estimator input.sk-toggleable__control:checked~label.sk-toggleable__label {background-color: #d4ebff;}#sk-container-id-2 div.sk-label input.sk-toggleable__control:checked~label.sk-toggleable__label {background-color: #d4ebff;}#sk-container-id-2 input.sk-hidden--visually {border: 0;clip: rect(1px 1px 1px 1px);clip: rect(1px, 1px, 1px, 1px);height: 1px;margin: -1px;overflow: hidden;padding: 0;position: absolute;width: 1px;}#sk-container-id-2 div.sk-estimator {font-family: monospace;background-color: #f0f8ff;border: 1px dotted black;border-radius: 0.25em;box-sizing: border-box;margin-bottom: 0.5em;}#sk-container-id-2 div.sk-estimator:hover {background-color: #d4ebff;}#sk-container-id-2 div.sk-parallel-item::after {content: \"\";width: 100%;border-bottom: 1px solid gray;flex-grow: 1;}#sk-container-id-2 div.sk-label:hover label.sk-toggleable__label {background-color: #d4ebff;}#sk-container-id-2 div.sk-serial::before {content: \"\";position: absolute;border-left: 1px solid gray;box-sizing: border-box;top: 0;bottom: 0;left: 50%;z-index: 0;}#sk-container-id-2 div.sk-serial {display: flex;flex-direction: column;align-items: center;background-color: white;padding-right: 0.2em;padding-left: 0.2em;position: relative;}#sk-container-id-2 div.sk-item {position: relative;z-index: 1;}#sk-container-id-2 div.sk-parallel {display: flex;align-items: stretch;justify-content: center;background-color: white;position: relative;}#sk-container-id-2 div.sk-item::before, #sk-container-id-2 div.sk-parallel-item::before {content: \"\";position: absolute;border-left: 1px solid gray;box-sizing: border-box;top: 0;bottom: 0;left: 50%;z-index: -1;}#sk-container-id-2 div.sk-parallel-item {display: flex;flex-direction: column;z-index: 1;position: relative;background-color: white;}#sk-container-id-2 div.sk-parallel-item:first-child::after {align-self: flex-end;width: 50%;}#sk-container-id-2 div.sk-parallel-item:last-child::after {align-self: flex-start;width: 50%;}#sk-container-id-2 div.sk-parallel-item:only-child::after {width: 0;}#sk-container-id-2 div.sk-dashed-wrapped {border: 1px dashed gray;margin: 0 0.4em 0.5em 0.4em;box-sizing: border-box;padding-bottom: 0.4em;background-color: white;}#sk-container-id-2 div.sk-label label {font-family: monospace;font-weight: bold;display: inline-block;line-height: 1.2em;}#sk-container-id-2 div.sk-label-container {text-align: center;}#sk-container-id-2 div.sk-container {/* jupyter's `normalize.less` sets `[hidden] { display: none; }` but bootstrap.min.css set `[hidden] { display: none !important; }` so we also need the `!important` here to be able to override the default hidden behavior on the sphinx rendered scikit-learn.org. See: https://github.com/scikit-learn/scikit-learn/issues/21755 */display: inline-block !important;position: relative;}#sk-container-id-2 div.sk-text-repr-fallback {display: none;}</style><div id=\"sk-container-id-2\" class=\"sk-top-container\"><div class=\"sk-text-repr-fallback\"><pre>LinearRegression()</pre><b>In a Jupyter environment, please rerun this cell to show the HTML representation or trust the notebook. <br />On GitHub, the HTML representation is unable to render, please try loading this page with nbviewer.org.</b></div><div class=\"sk-container\" hidden><div class=\"sk-item\"><div class=\"sk-estimator sk-toggleable\"><input class=\"sk-toggleable__control sk-hidden--visually\" id=\"sk-estimator-id-2\" type=\"checkbox\" checked><label for=\"sk-estimator-id-2\" class=\"sk-toggleable__label sk-toggleable__label-arrow\">LinearRegression</label><div class=\"sk-toggleable__content\"><pre>LinearRegression()</pre></div></div></div></div></div>"
      ],
      "text/plain": [
       "LinearRegression()"
      ]
     },
     "execution_count": 41,
     "metadata": {},
     "output_type": "execute_result"
    }
   ],
   "source": [
    "from sklearn.linear_model import LinearRegression\n",
    "lm = LinearRegression() \n",
    "lm.fit(X_train,y_train)\n",
    "LinearRegression()"
   ]
  },
  {
   "cell_type": "code",
   "execution_count": 42,
   "metadata": {},
   "outputs": [
    {
     "data": {
      "text/plain": [
       "0.39204363488443994"
      ]
     },
     "execution_count": 42,
     "metadata": {},
     "output_type": "execute_result"
    }
   ],
   "source": [
    "y_pred = lm.predict(X_test)\n",
    "lm.score(x,y)"
   ]
  },
  {
   "cell_type": "markdown",
   "metadata": {},
   "source": [
    "# Evaluate the model on the test set"
   ]
  },
  {
   "cell_type": "code",
   "execution_count": 43,
   "metadata": {},
   "outputs": [],
   "source": [
    "from sklearn import metrics"
   ]
  },
  {
   "cell_type": "code",
   "execution_count": 44,
   "metadata": {},
   "outputs": [
    {
     "name": "stdout",
     "output_type": "stream",
     "text": [
      "MAE :   0.35875683609234843\n",
      "MSE :   0.2687999589220346\n",
      "RMAE :   0.5184592162572044\n"
     ]
    }
   ],
   "source": [
    "print('MAE :',\" \", metrics.mean_absolute_error(y_test,y_pred))\n",
    "print('MSE :',\" \", metrics.mean_squared_error(y_test,y_pred))\n",
    "print('RMAE :',\" \", np.sqrt(metrics.mean_squared_error(y_test,y_pred)))"
   ]
  },
  {
   "cell_type": "code",
   "execution_count": null,
   "metadata": {},
   "outputs": [],
   "source": []
  }
 ],
 "metadata": {
  "kernelspec": {
   "display_name": "Python 3",
   "language": "python",
   "name": "python3"
  },
  "language_info": {
   "codemirror_mode": {
    "name": "ipython",
    "version": 3
   },
   "file_extension": ".py",
   "mimetype": "text/x-python",
   "name": "python",
   "nbconvert_exporter": "python",
   "pygments_lexer": "ipython3",
   "version": "3.8.8"
  }
 },
 "nbformat": 4,
 "nbformat_minor": 4
}
